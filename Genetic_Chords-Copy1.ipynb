{
 "cells": [
  {
   "cell_type": "markdown",
   "metadata": {},
   "source": [
    "# Creating a chord progression with a genetic algorithm"
   ]
  },
  {
   "cell_type": "markdown",
   "metadata": {},
   "source": [
    "This work is the result of an experiment done some months ago. I used a simple genetic algorithm to find a solution to a classic exercise of harmony: given a certain voice (normally the bass) create the other three voices to make a chord progression. I know that the aproach to solve a progression with a genetic algorithm may not be the best I just wanted to play with this algorithms making somthing fun, the code isn't perfect and the algorithm can be improved adding more options in the chord selection, but for simplicity I didn't use seventh chords."
   ]
  },
  {
   "cell_type": "markdown",
   "metadata": {},
   "source": [
    "## Working with music"
   ]
  },
  {
   "cell_type": "markdown",
   "metadata": {},
   "source": [
    "The first part of this challenge is to find a way to easily represent the notes in the melody, luckily for us many years ago MIDI was created, so I used the numbers in MIDI to match every single note being, for example, 60 the central C. And at the beginning of the sequence of notes I set the key signature with the number of sharps or flats.\n",
    "\n",
    "So an example like this:\n",
    "<img src=\"img/simple.jpg\" width=400 />\n",
    "Will be rempresented as: **0# 57 59 60 62**"
   ]
  },
  {
   "cell_type": "markdown",
   "metadata": {},
   "source": [
    "### Lilypond"
   ]
  },
  {
   "cell_type": "markdown",
   "metadata": {},
   "source": [
    "Going from music notation to this MIDI number representation with just one voice is quite easy (although I might work a hack for that also), but once I generate all the notes that form the chords the process ends up beeing a pain in the ass. Therefore at the end I take the output and pass it throught a little script that transform the numbers to [Lilypond](http://www.lilypond.com), generate a .ly file and an .jpg of the sheet."
   ]
  },
  {
   "cell_type": "markdown",
   "metadata": {
    "collapsed": false,
    "slideshow": {
     "slide_type": "fragment"
    }
   },
   "source": [
    "Test cases:\n",
    "- 2# 54 67 69 61 62\n",
    "- 1# 43 50 48 47 45 43 55 52 50 48 52 50 50 43 45 47 48 47 48 52 50 38 43\n",
    "- 2# 50 43 49 50 52 45 49 50 43 45 50\n",
    "- 2b 46 50 48 51 53 51 48 45 46"
   ]
  },
  {
   "cell_type": "markdown",
   "metadata": {},
   "source": [
    "## The genetic algorithm"
   ]
  },
  {
   "cell_type": "markdown",
   "metadata": {},
   "source": [
    "A genetic algorithm works pretty much like a species evolution in real life. You take a group of individuals, called population, in this population there are a few individuals that have the best attributes, those are the ones that will survive and carry on the genes to the next generation. This process continues generation over generation until there is a individual with the perfect attributes, or at least with the best so far. You can read more in [Wikipedia](https://en.wikipedia.org/wiki/Genetic_algorithm).\n",
    "\n",
    "The process can be structured in this steps:\n",
    "- Initialization\n",
    "- Selection\n",
    "- Crossover\n",
    "- Mutation\n",
    "- Termination\n",
    "\n",
    "Let's tackle them one by one. But first let me explain the framework that I used."
   ]
  },
  {
   "cell_type": "markdown",
   "metadata": {},
   "source": [
    "### Working enviroment"
   ]
  },
  {
   "cell_type": "markdown",
   "metadata": {},
   "source": [
    "I used a library called [DEAP](https://github.com/deap), Distributed Evolutionary Algorithms in Python, it is a novel evolutionary computation framework for rapid prototyping and testing of ideas. It has all the basic tools to work with genetic algorithms you only have to create the functions to create, select, mate and mutate the individuals."
   ]
  },
  {
   "cell_type": "code",
   "execution_count": 116,
   "metadata": {
    "collapsed": false
   },
   "outputs": [],
   "source": [
    "import random\n",
    "import math\n",
    "import numpy\n",
    "from string import Template\n",
    "\n",
    "from deap import base\n",
    "from deap import creator\n",
    "from deap import tools\n",
    "from deap import algorithms\n",
    "\n",
    "from lily_template import TEMPLATE"
   ]
  },
  {
   "cell_type": "markdown",
   "metadata": {},
   "source": [
    "The file lily\\_template has the template to create the lilypond file and to give it format I used the string.Template class.\n",
    "Then I set some global variables that I'm going to use:\n",
    "\n",
    "OPTIONS\\_\\* are the diferent roles that a note can have in a chord: The first note in the scale of the tonality can be the first note in the tonic chord, the third degree in the 6° chord or the fifth degree in the subdominant. So I represented this options as diferences beethween the fundamental note of the posible chords and the note degree in the scale.\n",
    "This diferences change a little bit in a minor tonality.\n",
    "\n",
    "MOD\\_\\* are just the grades of the chords in a major and a minor tonality."
   ]
  },
  {
   "cell_type": "code",
   "execution_count": 117,
   "metadata": {
    "collapsed": false
   },
   "outputs": [],
   "source": [
    "# Global Variables\n",
    "OPTIONS_M = ((0,-3,5), (0,-3,5), (0,-4,5), (0,-3,6), (0,-3,5), (0,-4,5), (0,-4,5))\n",
    "OPTIONS_m = ((0,-4,5), (0,-4,5), (0,-3,5), (0,-3,5), (0,-4,5), (0,-3,6), (0,5))\n",
    "MOD_M = ('M','m','m','M','M','m','d')\n",
    "MOD_m = ('m','d','M','m','M','M','M')"
   ]
  },
  {
   "cell_type": "markdown",
   "metadata": {},
   "source": [
    "### Initialization"
   ]
  },
  {
   "cell_type": "markdown",
   "metadata": {},
   "source": [
    "In the initialization part, you have to create the initial population with all the individuals. In this example an individual will be a chord progression, with all the chords beeing of four notes each. I represented each individual as a list of chords, and each chord a list of notes, for example:\n",
    "\n",
    "<img src=\"img/ex_prog.jpg\" width=400 />\n",
    "This individual would be represented as\n",
    "[[48, 64, 67, 79], [53, 59, 65, 74], [55, 59, 62, 74], [48, 55, 67, 76]] \n",
    "\n",
    "To do anything I need the tonality of the exercise, so I defined a function to find it given the base voice and the key signature, it just looks at the key signature and it looks if the voice has any sight of beeing a minor key:\n"
   ]
  },
  {
   "cell_type": "code",
   "execution_count": 118,
   "metadata": {
    "collapsed": false
   },
   "outputs": [],
   "source": [
    "def setTon(line):\n",
    "    \"\"\"Return the tonality of the exercise and the bass notes of it\"\"\"\n",
    "    ton = line[:2]\n",
    "    notes = list(map(int, line[3:].split(' ')))\n",
    "    if ton[1] == '#':\n",
    "        ton = (int(ton[0])*7)%12\n",
    "    else:\n",
    "        ton = (int(ton[0])*5)%12\n",
    "    for note in notes:\n",
    "        if (ton+6)%12 == note%12:\n",
    "            ton = str((ton-3)%12)+'m'\n",
    "            break\n",
    "    else:\n",
    "        if ton-3 == notes[-1]%12:\n",
    "            ton = str((ton-3)%12)+'m'\n",
    "        else:\n",
    "            ton = str(ton)+'M'\n",
    "    return ton, notes"
   ]
  },
  {
   "cell_type": "markdown",
   "metadata": {},
   "source": [
    "The function returns a tuple with the tonality represented as a number from 0 to 11 (C to B) and a 'M' if the tonality is major or 'm' if it's minor.\n",
    "\n",
    "Then I wrote a function to create a single chord given the name of the chord and the fundamental note. The interesting part of this is that a chord of four notes can have multiple permutations, diferent set of notes and it can have a [close or open harmony](https://en.wikipedia.org/wiki/Close_and_open_harmony).\n",
    "\n",
    "For example all this chords are D major and have the same bass\n",
    "<img src=\"img/all_same.jpg\" width=400 />"
   ]
  },
  {
   "cell_type": "code",
   "execution_count": 119,
   "metadata": {
    "collapsed": false
   },
   "outputs": [],
   "source": [
    "def creatChord(nameC, noteF):\n",
    "    \"\"\"Create one chord given the name of the chord and the fundamental note\"\"\"\n",
    "    num_funda = int(nameC[:-1])\n",
    "    if nameC[-1] == 'M':\n",
    "        val_notes = [num_funda, (num_funda+4)%12, (num_funda+7)%12]\n",
    "    elif nameC[-1] == 'm':\n",
    "        val_notes = [num_funda, (num_funda+3)%12, (num_funda+7)%12]\n",
    "    elif nameC[-1] == 'd':\n",
    "        val_notes = [num_funda, (num_funda+3)%12, (num_funda+6)%12]\n",
    "    \n",
    "    # Tessitura of each voice\n",
    "    tenorR = list(range(48, 69))\n",
    "    contR = list(range(52, 77))\n",
    "    sopR = list(range(60, 86))\n",
    "    \n",
    "    # Depending in the bass note this are the options for the others voices\n",
    "    if noteF%12 == val_notes[0]:\n",
    "        opc = [[1,1,1], [2,1,0], [0,1,2]]\n",
    "    elif noteF%12 == val_notes[1]:\n",
    "        opc = [[1,0,2], [3,0,0], [2,0,1]]\n",
    "    elif noteF%12 == val_notes[2]:\n",
    "        opc = [[1,1,1], [2,1,0]]\n",
    "    \n",
    "    opc = random.choice(opc)\n",
    "    chordN = list()\n",
    "    for num, val in zip(opc, val_notes):\n",
    "        chordN += [val]*num\n",
    "    \n",
    "    random.shuffle(chordN)\n",
    "    \n",
    "    chord = [noteF,]\n",
    "    for nte, voce in zip(chordN, [tenorR, contR, sopR]):\n",
    "        posible_n = [x for x in voce if x%12 == nte]\n",
    "        chord.append(random.choice(posible_n))\n",
    "    \n",
    "    return chord"
   ]
  },
  {
   "cell_type": "markdown",
   "metadata": {},
   "source": [
    "After this function I only need to select a chord for each of the notes in the bass. This "
   ]
  },
  {
   "cell_type": "code",
   "execution_count": 120,
   "metadata": {
    "collapsed": false
   },
   "outputs": [],
   "source": [
    "def selChord(ton, notesBass):\n",
    "    \"\"\"Select the chords from all the posibilities\"\"\"\n",
    "    listaOp = OPTIONS_M if ton[-1] == 'M' else OPTIONS_m\n",
    "    listaMod = MOD_M if ton[-1] == 'M' else MOD_m\n",
    "    prog = list()\n",
    "    \n",
    "    for note in notesBass:\n",
    "        name = note%12\n",
    "        grad = name-int(ton[:-1])\n",
    "        grad = math.ceil(((grad+12)%12) / 2)\n",
    "        num = (listaOp[grad][random.randint(0,len(listaOp[grad])-1)] + name +12) %12\n",
    "        grad = num-int(ton[:-1])\n",
    "        grad = math.ceil(((grad+12)%12) / 2)\n",
    "        name = '{}{}'.format(num, listaMod[grad])\n",
    "        prog.append([creatChord(name, note), grad])\n",
    "    return prog"
   ]
  },
  {
   "cell_type": "code",
   "execution_count": 121,
   "metadata": {
    "collapsed": false
   },
   "outputs": [],
   "source": [
    "def newChordProg(ton, notes):\n",
    "    \"\"\"Create a new individual given the tonality and the base notes\"\"\"\n",
    "    chords = selChord(ton, notes)\n",
    "    for c in chords:\n",
    "        yield c"
   ]
  },
  {
   "cell_type": "code",
   "execution_count": 122,
   "metadata": {
    "collapsed": false
   },
   "outputs": [],
   "source": [
    "def check_interval(chord):\n",
    "    \"\"\"Return the number of mistakes in the distance between the notes.\"\"\"\n",
    "    res = 0\n",
    "    if chord[2] - chord[1] > 12 or chord[2]-chord[1] < 0:\n",
    "        res += 15\n",
    "    if chord[3] - chord[2] > 12 or chord[3]-chord[2] < 0:\n",
    "        res += 15\n",
    "        \n",
    "    if chord[1] == chord[2] or chord[2] == chord[3]:\n",
    "        res += 1.4\n",
    "    return res    "
   ]
  },
  {
   "cell_type": "code",
   "execution_count": 123,
   "metadata": {
    "collapsed": false
   },
   "outputs": [],
   "source": [
    "def check_2_chords(ch1, ch2):\n",
    "    \"\"\"Return the number of mistakes in the intervals between 2 chords.\"\"\"\n",
    "    res = 0\n",
    "    \n",
    "    # Check for 5° and 8°\n",
    "    ite1 = map(lambda x,y: y-x, ch1[:-1], ch1[1:])\n",
    "    ite2 = map(lambda x,y: y-x, ch2[:-1], ch2[1:])\n",
    "    for inter1, inter2 in zip(ite1, ite2):\n",
    "        if inter1 == 7 and inter2 == 7:\n",
    "            res += 15\n",
    "        elif inter1 == 0 and inter2 == 0:\n",
    "            res += 15\n",
    "        elif inter1 == 12 and inter2 == 12:\n",
    "            res += 15\n",
    "    \n",
    "    # Check for big intervals, just to make it more \"human\" \n",
    "    for note1, note2 in zip(ch1[1:], ch2[1:]):\n",
    "        if abs(note1-note2) >= 7: # 7 equals 5° interval\n",
    "            res += .7\n",
    "    \n",
    "    return res"
   ]
  },
  {
   "cell_type": "code",
   "execution_count": 124,
   "metadata": {
    "collapsed": false
   },
   "outputs": [],
   "source": [
    "def neighborhood(iterable):\n",
    "    \"\"\"Generator gives the prev actual and next.\"\"\"\n",
    "    iterator = iter(iterable)\n",
    "    prev = None\n",
    "    item = next(iterator)  # throws StopIteration if empty.\n",
    "    for nex in iterator:\n",
    "        yield (prev,item,nex)\n",
    "        prev = item\n",
    "        item = nex\n",
    "    yield (prev,item,None)"
   ]
  },
  {
   "cell_type": "code",
   "execution_count": 125,
   "metadata": {
    "collapsed": false
   },
   "outputs": [],
   "source": [
    "def evalNumErr(ton, individual):\n",
    "    \"\"\"Evaluation function.\"\"\"\n",
    "    res = 0\n",
    "    for prev, item, nex in neighborhood(individual):\n",
    "        res += check_interval(item[0])\n",
    "        if prev == None:\n",
    "            if item[1] != 0:\n",
    "                res += 6\n",
    "            continue\n",
    "        else:\n",
    "            if prev[1] in [4, 6] and item[1] in [3, 1]:\n",
    "                res += 20\n",
    "            res += check_2_chords(prev[0], item[0])\n",
    "        if nex == None:\n",
    "            if item[1] in [1, 2, 3, 4, 5, 6]:\n",
    "                res += 6\n",
    "    return (res,)\n",
    "            "
   ]
  },
  {
   "cell_type": "code",
   "execution_count": 126,
   "metadata": {
    "collapsed": false
   },
   "outputs": [],
   "source": [
    "def mutChangeNotes(ton, individual, indpb):\n",
    "    \"\"\"Mutant function.\"\"\"\n",
    "    new_ind = toolbox.clone(individual)\n",
    "    for x in range(len(individual[0])):\n",
    "        if random.random() < indpb:\n",
    "            \n",
    "            listaOp = OPTIONS_M if ton[-1] == 'M' else OPTIONS_m\n",
    "            listaMod = MOD_M if ton[-1] == 'M' else MOD_m\n",
    "            \n",
    "            note = individual[x][0][0]\n",
    "            \n",
    "            name = note%12\n",
    "            grad = name-int(ton[:-1])\n",
    "            grad = math.ceil(((grad+12)%12) / 2)\n",
    "            num = (listaOp[grad][random.randint(0,len(listaOp[grad])-1)] + name +12) %12\n",
    "            grad = num-int(ton[:-1])\n",
    "            grad = math.ceil(((grad+12)%12) / 2)\n",
    "            name = '{}{}'.format(num, listaMod[grad])\n",
    "            \n",
    "            new_ind[x] = [creatChord(name, note), grad]\n",
    "    \n",
    "    del new_ind.fitness.values\n",
    "    return new_ind,"
   ]
  },
  {
   "cell_type": "code",
   "execution_count": 127,
   "metadata": {
    "collapsed": false
   },
   "outputs": [],
   "source": [
    "def transform_lilypond(ton, indiv, make_file=False):\n",
    "    \"\"\"Take one list of chords and print the it in lilypond notation.\"\"\"\n",
    "    note_map = dict()\n",
    "    if ton[-1] == 'M':\n",
    "        note_map = {0: 'c',\n",
    "                    1: 'cis',\n",
    "                    2: 'd',\n",
    "                    3: 'dis',\n",
    "                    4: 'e',\n",
    "                    5: 'f',\n",
    "                    6: 'fis',\n",
    "                    7: 'g',\n",
    "                    8: 'gis',\n",
    "                    9: 'a',\n",
    "                    10:'ais',\n",
    "                    11:'b'\n",
    "                    }\n",
    "        gra = 'major'\n",
    "    else:\n",
    "        note_map = {0: 'c',\n",
    "                    1: 'des',\n",
    "                    2: 'd',\n",
    "                    3: 'ees',\n",
    "                    4: 'e',\n",
    "                    5: 'f',\n",
    "                    6: 'ges',\n",
    "                    7: 'g',\n",
    "                    8: 'aes',\n",
    "                    9: 'a',\n",
    "                    10:'bes',\n",
    "                    11:'b'\n",
    "                    }\n",
    "        gra = 'minor'\n",
    "    voces = [[], [], [], []]\n",
    "    \n",
    "    for chord in indiv:\n",
    "        for note, voce in zip(chord, voces):\n",
    "            \n",
    "            octave = (note // 12)-4\n",
    "            name_lily = note_map[note % 12]\n",
    "            if octave < 0:\n",
    "                name_lily += ',' * (octave * -1)\n",
    "            elif octave > 0:\n",
    "                name_lily += \"'\" * octave\n",
    "            voce.append(name_lily)\n",
    "    \n",
    "    if make_file:\n",
    "        with open('lily/'+ton+'.ly', 'w') as f:\n",
    "            key_map = {'0': 'c',\n",
    "                    '1': 'des',\n",
    "                    '2': 'd',\n",
    "                    '3': 'ees',\n",
    "                    '4': 'e',\n",
    "                    '5': 'f',\n",
    "                    '6': 'ges',\n",
    "                    '7': 'g',\n",
    "                    '8': 'aes',\n",
    "                    '9': 'a',\n",
    "                    '10':'bes',\n",
    "                    '11':'b'\n",
    "                    }\n",
    "            print(ton)\n",
    "            f.write(Template(TEMPLATE).substitute(key=key_map[ton[:-1]], grade=gra, notes='{}|\\n{}|\\n{}|\\n{}|\\n'.format(*(' '.join(voce) for voce in reversed(voces)))))\n",
    "    \n",
    "    print('{}|\\n{}|\\n{}|\\n{}|\\n'.format(*(' '.join(voce) for voce in reversed(voces))))"
   ]
  },
  {
   "cell_type": "code",
   "execution_count": 128,
   "metadata": {
    "collapsed": false
   },
   "outputs": [],
   "source": [
    "def main(ton):\n",
    "    pop = toolbox.population(n=400)\n",
    "    hof = tools.HallOfFame(3)\n",
    "    stats = tools.Statistics(lambda ind: ind.fitness.values)\n",
    "    stats.register('avg', numpy.mean)\n",
    "    stats.register('std', numpy.std)\n",
    "    stats.register('min', numpy.min)\n",
    "    stats.register('max', numpy.max)\n",
    "    \n",
    "    pop, log = algorithms.eaSimple(pop, toolbox, cxpb=0.5, mutpb=0.3, ngen=70, stats=stats, halloffame=hof, verbose=True)\n",
    "    while min(log.select('min')) > 15:\n",
    "        pop = toolbox.population(n=400)\n",
    "        pop, log = algorithms.eaSimple(pop, toolbox, cxpb=0.5, mutpb=0.3, ngen=70, stats=stats, halloffame=hof, verbose=True)\n",
    "        \n",
    "    for best in hof:\n",
    "        print([x[0] for x in best])\n",
    "        \n",
    "        transform_lilypond(ton, [x[0] for x in best], make_file=True)"
   ]
  },
  {
   "cell_type": "code",
   "execution_count": 129,
   "metadata": {
    "collapsed": false,
    "scrolled": false
   },
   "outputs": [
    {
     "name": "stdout",
     "output_type": "stream",
     "text": [
      "n[#b] notas 0# 48 53 55 48\n",
      "0M [48, 53, 55, 48]\n",
      "gen\tnevals\tavg   \tstd    \tmin \tmax  \n",
      "0  \t400   \t72.657\t23.4774\t10.2\t141.2\n",
      "1  \t233   \t54.8365\t17.8438\t6.7 \t115.2\n",
      "2  \t258   \t42.8268\t16.3468\t1.4 \t94.9 \n",
      "3  \t246   \t32.7848\t14.2743\t1.4 \t81.9 \n",
      "4  \t259   \t24.902 \t14.51  \t0.7 \t71.6 \n",
      "5  \t242   \t16.8932\t11.5397\t0   \t64.2 \n",
      "6  \t261   \t13.2128\t11.6328\t0   \t56.6 \n",
      "7  \t254   \t9.89525\t10.6744\t0   \t62.6 \n",
      "8  \t280   \t7.145  \t10.7267\t0   \t68.8 \n",
      "9  \t262   \t5.8155 \t10.9647\t0   \t77.1 \n",
      "10 \t245   \t4.748  \t10.155 \t0   \t68.8 \n",
      "11 \t239   \t4.59525\t11.2751\t0   \t62.8 \n",
      "12 \t245   \t4.288  \t10.2401\t0   \t60.7 \n",
      "13 \t249   \t4.5715 \t11.4567\t0   \t77.8 \n",
      "14 \t260   \t4.04875\t11.0634\t0   \t67.4 \n",
      "15 \t251   \t4.10975\t10.4836\t0   \t53.8 \n",
      "16 \t277   \t5.2475 \t12.0424\t0   \t68.8 \n",
      "17 \t263   \t4.79275\t11.2373\t0   \t61.4 \n",
      "18 \t271   \t3.9625 \t9.80305\t0   \t55.2 \n",
      "19 \t252   \t3.63875\t9.83975\t0   \t68.1 \n",
      "20 \t267   \t4.93775\t11.397 \t0   \t67.4 \n",
      "21 \t273   \t4.62225\t11.7286\t0   \t68.8 \n",
      "22 \t270   \t4.896  \t11.6568\t0   \t62.1 \n",
      "23 \t256   \t3.92725\t10.4881\t0   \t55.2 \n",
      "24 \t266   \t4.509  \t10.6632\t0   \t54.5 \n",
      "25 \t243   \t3.5945 \t9.73884\t0   \t53.1 \n",
      "26 \t259   \t3.972  \t10.3932\t0   \t54.5 \n",
      "27 \t255   \t3.91825\t9.69537\t0   \t53.8 \n",
      "28 \t252   \t3.582  \t9.93067\t0   \t62.8 \n",
      "29 \t268   \t5.10125\t12.3467\t0   \t69.5 \n",
      "30 \t251   \t4.1525 \t10.2705\t0   \t53.8 \n",
      "31 \t254   \t3.937  \t9.90717\t0   \t67.4 \n",
      "32 \t266   \t4.6025 \t10.8454\t0   \t53.8 \n",
      "33 \t258   \t4.55825\t10.9776\t0   \t53.8 \n",
      "34 \t260   \t4.77   \t11.1463\t0   \t66.7 \n",
      "35 \t257   \t5.019  \t12.26  \t0   \t70.2 \n",
      "36 \t262   \t4.1145 \t10.6706\t0   \t69.5 \n",
      "37 \t276   \t4.80075\t11.3315\t0   \t69.5 \n",
      "38 \t268   \t4.37925\t11.039 \t0   \t68.1 \n",
      "39 \t284   \t4.4795 \t10.9135\t0   \t68.1 \n",
      "40 \t260   \t4.081  \t10.6986\t0   \t68.1 \n",
      "41 \t239   \t3.492  \t9.87953\t0   \t63.5 \n",
      "42 \t260   \t4.503  \t11.0701\t0   \t53.8 \n",
      "43 \t256   \t4.106  \t10.1762\t0   \t66.7 \n",
      "44 \t251   \t4.787  \t11.6278\t0   \t76.4 \n",
      "45 \t247   \t3.683  \t10.5722\t0   \t67.4 \n",
      "46 \t289   \t4.458  \t10.7693\t0   \t76.4 \n",
      "47 \t258   \t4.45775\t11.6178\t0   \t69.5 \n",
      "48 \t269   \t4.4395 \t12.0123\t0   \t77.8 \n",
      "49 \t262   \t4.32875\t11.1655\t0   \t69.5 \n",
      "50 \t270   \t4.2195 \t9.98702\t0   \t55.2 \n",
      "51 \t247   \t3.773  \t10.2238\t0   \t62.1 \n",
      "52 \t268   \t4.338  \t10.9439\t0   \t68.8 \n",
      "53 \t257   \t4.0015 \t10.0351\t0   \t61.4 \n",
      "54 \t261   \t4.32775\t10.4091\t0   \t62.8 \n",
      "55 \t262   \t4.827  \t11.8385\t0   \t68.8 \n",
      "56 \t273   \t4.638  \t11.3099\t0   \t68.1 \n",
      "57 \t243   \t4.4675 \t10.3296\t0   \t49.2 \n",
      "58 \t259   \t4.924  \t11.7483\t0   \t68.1 \n",
      "59 \t250   \t4.0485 \t10.2086\t0   \t67.4 \n",
      "60 \t256   \t4.673  \t11.3703\t0   \t69.5 \n",
      "61 \t257   \t4.26675\t10.9291\t0   \t68.1 \n",
      "62 \t266   \t4.89125\t11.9288\t0   \t77.1 \n",
      "63 \t263   \t4.8675 \t11.6089\t0   \t67.4 \n",
      "64 \t245   \t4.733  \t12.1528\t0   \t69.5 \n",
      "65 \t268   \t5.37225\t12.1124\t0   \t62.8 \n",
      "66 \t270   \t4.7315 \t11.6668\t0   \t92.1 \n",
      "67 \t274   \t4.94575\t11.9434\t0   \t69.5 \n",
      "68 \t271   \t3.496  \t9.46926\t0   \t66.7 \n",
      "69 \t254   \t3.98   \t10.9032\t0   \t68.8 \n",
      "70 \t257   \t4.90775\t11.4916\t0   \t61.4 \n",
      "[[48, 55, 67, 76], [53, 59, 65, 74], [55, 64, 71, 76], [48, 64, 67, 79]]\n",
      "0M\n",
      "e'' d'' e'' g''|\n",
      "g' f' b' g'|\n",
      "g b e' e'|\n",
      "c f g c|\n",
      "\n",
      "[[48, 64, 67, 79], [53, 59, 65, 74], [55, 62, 71, 74], [48, 64, 67, 79]]\n",
      "0M\n",
      "g'' d'' d'' g''|\n",
      "g' f' b' g'|\n",
      "e' b d' e'|\n",
      "c f g c|\n",
      "\n",
      "[[48, 64, 67, 79], [53, 59, 65, 74], [55, 59, 62, 74], [48, 55, 67, 76]]\n",
      "0M\n",
      "g'' d'' d'' e''|\n",
      "g' f' d' g'|\n",
      "e' b b g|\n",
      "c f g c|\n",
      "\n"
     ]
    }
   ],
   "source": [
    "if __name__ == '__main__':\n",
    "    line = input('n[#b] notas ')\n",
    "    ton, notes = setTon(line)\n",
    "    print(ton, notes)\n",
    "    \n",
    "    # ========================= GA setup =========================\n",
    "    creator.create('FitnessMin', base.Fitness, weights=(-1.0,))\n",
    "    creator.create('Individual', list, fitness=creator.FitnessMin)\n",
    "\n",
    "    toolbox = base.Toolbox()\n",
    "    toolbox.register('creat_notes', newChordProg, ton, notes)\n",
    "    toolbox.register('individual', tools.initIterate, creator.Individual,\n",
    "                     toolbox.creat_notes)\n",
    "    toolbox.register('population', tools.initRepeat, list, toolbox.individual)\n",
    "\n",
    "    toolbox.register('evaluate', evalNumErr, ton)\n",
    "    toolbox.register('mate', tools.cxOnePoint)\n",
    "    toolbox.register('mutate', mutChangeNotes, ton, indpb=0.4)\n",
    "    toolbox.register('select', tools.selTournament, tournsize=3)\n",
    "    # =============================================================\n",
    "    \n",
    "    main(ton)\n",
    "    \n",
    "    \"\"\"\n",
    "    a = toolbox.individual()\n",
    "    transform_lilypond(x[0] for x in a)\n",
    "   \n",
    "    \n",
    "    print(toolbox.evaluate(a))\n",
    "    b = toolbox.individual()\n",
    "    print(b)\n",
    "    print(toolbox.evaluate(b))\n",
    "    a,b = toolbox.mate(a,b)\n",
    "    print(a)\n",
    "    print(b)\n",
    "    print(\"_\"*20)\n",
    "    \n",
    "    a = toolbox.mutate(a)\n",
    "    print(a)\n",
    "    print(\"-\"*20)\n",
    "    \"\"\""
   ]
  },
  {
   "cell_type": "code",
   "execution_count": 130,
   "metadata": {
    "collapsed": false
   },
   "outputs": [
    {
     "ename": "TypeError",
     "evalue": "transform_lilypond() missing 1 required positional argument: 'indiv'",
     "output_type": "error",
     "traceback": [
      "\u001b[1;31m---------------------------------------------------------------------------\u001b[0m",
      "\u001b[1;31mTypeError\u001b[0m                                 Traceback (most recent call last)",
      "\u001b[1;32m<ipython-input-130-04a1e561742c>\u001b[0m in \u001b[0;36m<module>\u001b[1;34m()\u001b[0m\n\u001b[0;32m     28\u001b[0m          \u001b[1;33m[\u001b[0m\u001b[1;36m43\u001b[0m\u001b[1;33m,\u001b[0m \u001b[1;36m55\u001b[0m\u001b[1;33m,\u001b[0m \u001b[1;36m62\u001b[0m\u001b[1;33m,\u001b[0m \u001b[1;36m67\u001b[0m\u001b[1;33m]\u001b[0m\u001b[1;33m\u001b[0m\u001b[0m\n\u001b[0;32m     29\u001b[0m          ]\n\u001b[1;32m---> 30\u001b[1;33m \u001b[0mtransform_lilypond\u001b[0m\u001b[1;33m(\u001b[0m\u001b[0mhuman1\u001b[0m\u001b[1;33m)\u001b[0m\u001b[1;33m\u001b[0m\u001b[0m\n\u001b[0m\u001b[0;32m     31\u001b[0m \u001b[1;33m\u001b[0m\u001b[0m\n\u001b[0;32m     32\u001b[0m human2 = [[50, 57, 66, 74],\n",
      "\u001b[1;31mTypeError\u001b[0m: transform_lilypond() missing 1 required positional argument: 'indiv'"
     ]
    }
   ],
   "source": [
    "human1 = [[43, 55, 62, 71], \n",
    "         [50, 54, 62, 69], \n",
    "         [48, 55, 64, 72], \n",
    "         [47, 55, 66, 74], \n",
    "         \n",
    "         [45, 57, 64, 72], \n",
    "         [43, 59, 67, 74], \n",
    "         [55, 60, 64, 72], \n",
    "         [52, 60, 67, 72], \n",
    "         \n",
    "         [50, 62, 66, 74], \n",
    "         [48, 64, 69, 76], \n",
    "         [52, 64, 67, 71], \n",
    "         [50, 57, 66, 69], \n",
    "         \n",
    "         [50, 54, 62, 69], \n",
    "         [43, 55, 62, 71], \n",
    "         [45, 52, 64, 72], \n",
    "         [47, 55, 62, 67], \n",
    "         \n",
    "         [48, 55, 64, 72], \n",
    "         [47, 55, 62, 71], \n",
    "         [48, 55, 64, 67], \n",
    "         [52, 55, 64, 71], \n",
    "         \n",
    "         [50, 57, 66, 74], \n",
    "         [38, 50, 62, 66], \n",
    "         [43, 55, 62, 67]\n",
    "         ]\n",
    "transform_lilypond(human1)\n",
    "\n",
    "human2 = [[50, 57, 66, 74],\n",
    "          [43, 59, 67, 74],\n",
    "          [49, 57, 64, 69],\n",
    "          [50, 57, 66, 69],\n",
    "          \n",
    "          [52, 55, 64, 71],\n",
    "          [45, 57, 64, 73],\n",
    "          [49, 55, 64, 73],\n",
    "          [50, 54, 62, 69],\n",
    "          \n",
    "          [43, 55, 62, 71],\n",
    "          [45, 52, 61, 69],\n",
    "          [50, 54, 62, 69]\n",
    "          ]\n",
    "transform_lilypond(human2)\n",
    "\n",
    "human3 = [[46, 53, 62, 70],\n",
    "          [50, 53, 62, 69],\n",
    "          [48, 55, 63, 72],\n",
    "          [51, 55, 63, 70],\n",
    "          \n",
    "          [53, 57, 62, 74],\n",
    "          [51, 58, 67, 75],\n",
    "          [48, 57, 65, 77],\n",
    "          [45, 57, 63, 72],\n",
    "          \n",
    "          [46, 53, 62, 70]\n",
    "          ]\n",
    "transform_lilypond(human3)\n"
   ]
  },
  {
   "cell_type": "markdown",
   "metadata": {},
   "source": [
    "### Buenos resultados:"
   ]
  },
  {
   "cell_type": "raw",
   "metadata": {},
   "source": [
    "1# 43 50 48 47 45 43 55 52 50 48 52 50 50 43 45 47 48 47 48 52 50 38 43\n",
    "\n",
    "PRIMERA GENERACIÓN\n",
    "d' g' e'' b' d'' b' d'' e'' b' a'' c'' g' b' e' a' g' fis'' d' a' c'' b' d' g''|\n",
    "d' d' e' b' d' g' d' g' g' a' e' b b b c' g' a' g a' c' g' a g'|\n",
    "b b a d' fis d' b b g' a a d fis b a g c' d a g g' fis b|\n",
    "g, d c b, a, g, g e d c e d d g, a, b, c b, c e d d, g,|\n",
    "\n",
    "SEGUNDA GENERACIÓN\n",
    "d'' a' fis' g' c' e' d' b' b' a' c''' d'' d'' e' e' g' fis'' d'' a'' e'' a' b' g'|\n",
    "d' d' a d' a b b g' b' a' c'' g' fis' b c' e' a' g' a' g' d' fis' b|\n",
    "b fis fis d e e g b b e' c' b a b e b fis' d' a b fis fis g|\n",
    "g, d c b, a, g, g e d c e d d g, a, b, c b, c e d d, g,|\n",
    "\n",
    "g' d' fis' b' fis' g' b' a' b' e'' a'' fis'' fis' e'' d'' b' fis'' b' g' b' g'' d'' d''|\n",
    "b fis a d' c' d' e' c' b' c'' c'' fis' d' e' fis' d' fis' d' g' g' g' g' d'|\n",
    "g d fis b fis b b a b g' e' b a e d' b a b e' b b b b|\n",
    "g, d c b, a, g, g e d c e d d g, a, b, c b, c e d d, g,|\n",
    "\n",
    "g' b' fis' b' fis' g' b' a' b' e'' a'' fis'' fis' e'' d'' b' fis'' b' g' b' g'' d'' d''|\n",
    "b d' a d' c' d' e' c' b' c'' c'' fis' d' e' fis' d' fis' d' g' g' g' g' d'|\n",
    "g g fis b fis b b a b g' e' b a e d' b a b e' b b b b|\n",
    "g, d c b, a, g, g e d c e d d g, a, b, c b, c e d d, g,|\n",
    "\n",
    "b' fis' a' fis' c'' b' g' g' fis'' a'' g'' fis'' b' c'' a' g' a' b' a' e'' a' d'' g'|\n",
    "d' b e' fis' a' d' d' b b' c'' b' b' b g' c' g' e' d' a' a' fis' g' b|\n",
    "d fis e d' a d' b e fis' fis' e' b b e' a g' e fis a c' a b g|\n",
    "g, d c b, a, g, g e d c e d d g, a, b, c b, c e d d, g,|\n",
    "\n",
    "TERCERA\n",
    "\n",
    "# good\n",
    "d'' d'' c'' e'' c'' d' e' c'' b' a'' e'' b'' a' b'' fis'' e'' a'' g'' e'' e'' g'' a' g''|\n",
    "g' fis' fis' e' fis' b c' c' fis' a' g' b' fis' e'' c'' b' c'' d'' a' g' g' fis' b'|\n",
    "b a a g fis d g c' b a b b d' e' fis' g' fis' g' a b b a g'|\n",
    "g, d c b, a, g, g e d c e d d g, a, b, c b, c e d d, g,|\n",
    "\n",
    "g' d' e' e' fis' e'' c'' a' b' a'' c'' b' fis'' g'' a' b' fis' fis' a' g' b' b' d''|\n",
    "b b g b fis' e' e' c' fis' a' e' g' a' g' fis' d' c' d' c' b fis' g' d'|\n",
    "g g g g fis b c' a b a a d' a b d' b a b fis b b d' b|\n",
    "g, d c b, a, g, g e d c e d d g, a, b, c b, c e d d, g,|\n",
    "\n",
    "\n",
    "2# 50 43 49 50 52 45 49 50 43 45 50\n",
    "\n",
    "d'' b' a' g' a' fis' cis' fis' g' cis' d''|\n",
    "fis' e' cis' d' cis' cis' a a cis' a d'|\n",
    "a e fis b a fis fis d e a fis|\n",
    "d g, cis d e a, cis d g, a, d|\n",
    "\n",
    "d'' g'' a'' fis'' cis'' e'' cis'' d'' d'' d'' fis''|\n",
    "a' cis'' a' b' g' cis'' a' fis' d' fis' a'|\n",
    "fis' e' e' fis' cis' e' fis' d' b d' a|\n",
    "d g, cis d e a, cis d g, a, d|\n",
    "\n",
    "# good\n",
    "d' cis' fis' b' a' a' g' fis' e' d' fis'|\n",
    "fis g a d' cis' cis' e' d' cis' a d'|\n",
    "d e cis g a a g a g fis d|\n",
    "d g, cis d e a, cis d g, a, d|\n",
    "\n",
    "# good\n",
    "fis'' e'' e'' b' a' a' fis' fis' e' d' fis'|\n",
    "a' e' a' fis' cis' cis' a b cis' a d'|\n",
    "a b e' b a a fis fis g fis d|\n",
    "d g, cis d e a, cis d g, a, d|\n",
    "\n",
    "# very good\n",
    "a' g' a' a' a' a' fis' b' b' a' d''|\n",
    "fis' d' fis' fis' cis' cis' cis' g' e' e' fis'|\n",
    "a b cis' a a a a g b cis' d'|\n",
    "d g, cis d e a, cis d g, a, d|\n",
    "\n",
    "\n",
    "2b 46 50 48 51 53 51 48 45 46\n",
    "\n",
    "d'' bes' ees'' c'' d'' g'' f'' f'' d''|\n",
    "f' f' g' ees' d' bes' a' a' bes'|\n",
    "f bes g a a ees' f' d' bes|\n",
    "bes, d c ees f ees c a, bes,|"
   ]
  }
 ],
 "metadata": {
  "kernelspec": {
   "display_name": "Python 3",
   "language": "python",
   "name": "python3"
  },
  "language_info": {
   "codemirror_mode": {
    "name": "ipython",
    "version": 3
   },
   "file_extension": ".py",
   "mimetype": "text/x-python",
   "name": "python",
   "nbconvert_exporter": "python",
   "pygments_lexer": "ipython3",
   "version": "3.5.0"
  }
 },
 "nbformat": 4,
 "nbformat_minor": 0
}
