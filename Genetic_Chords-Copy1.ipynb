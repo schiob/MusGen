{
 "cells": [
  {
   "cell_type": "markdown",
   "metadata": {},
   "source": [
    "# Creating a chord progression with a genetic algorithm"
   ]
  },
  {
   "cell_type": "markdown",
   "metadata": {},
   "source": [
    "This work is the result of an experiment done some months ago. I used a simple genetic algorithm to find a solution to a classic exercise of harmony: given a certain voice (normally the bass) create the other three voices to make a chord progression. I know that the aproach to solve a progression with a genetic algorithm may not be the best I just wanted to play with this algorithms making somthing fun, the code isn't perfect and the algorithm can be improved adding more options in the chord selection, but for simplicity I didn't use seventh chords."
   ]
  },
  {
   "cell_type": "markdown",
   "metadata": {},
   "source": [
    "## Working with music"
   ]
  },
  {
   "cell_type": "markdown",
   "metadata": {},
   "source": [
    "The first part of this challenge is to find a way to easily represent the notes in the melody, luckily for us many years ago MIDI was created, so I used the numbers in MIDI to match every single note being, for example, 60 the central C. And at the beginning of the sequence of notes I set the key signature with the number of sharps or flats.\n",
    "\n",
    "So an example like this:\n",
    "<img src=\"img/simple.jpg\" width=400 />\n",
    "Will be rempresented as: **0# 57 59 60 62**"
   ]
  },
  {
   "cell_type": "markdown",
   "metadata": {},
   "source": [
    "### Lilypond"
   ]
  },
  {
   "cell_type": "markdown",
   "metadata": {},
   "source": [
    "Going from music notation to this MIDI number representation with just one voice is quite easy (although I might work a hack for that also), but once I generate all the notes that form the chords the process ends up beeing a pain in the ass. Therefore at the end I take the output and pass it throught a little script that transform the numbers to [Lilypond](http://www.lilypond.com), generate a .ly file and an .jpg of the sheet."
   ]
  },
  {
   "cell_type": "markdown",
   "metadata": {
    "collapsed": false,
    "slideshow": {
     "slide_type": "fragment"
    }
   },
   "source": [
    "Test cases:\n",
    "- 2# 54 67 69 61 62\n",
    "- 1# 43 50 48 47 45 43 55 52 50 48 52 50 50 43 45 47 48 47 48 52 50 38 43\n",
    "- 2# 50 43 49 50 52 45 49 50 43 45 50\n",
    "- 2b 46 50 48 51 53 51 48 45 46"
   ]
  },
  {
   "cell_type": "markdown",
   "metadata": {},
   "source": [
    "## The genetic algorithm"
   ]
  },
  {
   "cell_type": "markdown",
   "metadata": {},
   "source": [
    "A genetic algorithm works pretty much like a species evolution in real life. You take a group of individuals, called population, in this population there are a few individuals that have the best attributes, those are the ones that will survive and carry on the genes to the next generation. This process continues generation over generation until there is a individual with the perfect attributes, or at least with the best so far. You can read more in [Wikipedia](https://en.wikipedia.org/wiki/Genetic_algorithm).\n",
    "\n",
    "The process can be structured in this steps:\n",
    "- Initialization\n",
    "- Selection\n",
    "- Crossover\n",
    "- Mutation\n",
    "- Termination\n",
    "\n",
    "Let's tackle them one by one. But first let me explain the framework that I used."
   ]
  },
  {
   "cell_type": "markdown",
   "metadata": {},
   "source": [
    "### Working enviroment"
   ]
  },
  {
   "cell_type": "markdown",
   "metadata": {},
   "source": [
    "I used a library called [DEAP](https://github.com/deap), Distributed Evolutionary Algorithms in Python, it is a novel evolutionary computation framework for rapid prototyping and testing of ideas. It has all the basic tools to work with genetic algorithms you only have to create the functions to create, select, mate and mutate the individuals."
   ]
  },
  {
   "cell_type": "code",
   "execution_count": 29,
   "metadata": {
    "collapsed": false
   },
   "outputs": [],
   "source": [
    "import random\n",
    "import math\n",
    "import numpy\n",
    "from string import Template\n",
    "\n",
    "from deap import base\n",
    "from deap import creator\n",
    "from deap import tools\n",
    "from deap import algorithms\n",
    "\n",
    "from lily_template import TEMPLATE"
   ]
  },
  {
   "cell_type": "markdown",
   "metadata": {},
   "source": [
    "The file lily\\_template has the template to create the lilypond file and to give it format I used the string.Template class.\n",
    "Then I set some global variables that I'm going to use:\n",
    "\n",
    "OPTIONS\\_\\* are the diferent roles that a note can have in a chord: The first note in the scale of the tonality can be the first note in the tonic chord, the third degree in the 6° chord or the fifth degree in the subdominant. So I represented this options as diferences beethween the fundamental note of the posible chords and the note degree in the scale.\n",
    "This diferences change a little bit in a minor tonality.\n",
    "\n",
    "MOD\\_\\* are just the grades of the chords in a major and a minor tonality."
   ]
  },
  {
   "cell_type": "code",
   "execution_count": 30,
   "metadata": {
    "collapsed": false
   },
   "outputs": [],
   "source": [
    "# Global Variables\n",
    "OPTIONS_M = ((0,-3,5), (0,-3,5), (0,-4,5), (0,-3,6), (0,-3,5), (0,-4,5), (0,-4,5))\n",
    "OPTIONS_m = ((0,-4,5), (0,-4,5), (0,-3,5), (0,-3,5), (0,-4,5), (0,-3,6), (0,5))\n",
    "MOD_M = ('M','m','m','M','M','m','d')\n",
    "MOD_m = ('m','d','M','m','M','M','M')"
   ]
  },
  {
   "cell_type": "markdown",
   "metadata": {},
   "source": [
    "### Initialization"
   ]
  },
  {
   "cell_type": "markdown",
   "metadata": {},
   "source": [
    "In the initialization part, you have to create the initial population with all the individuals. In this example an individual will be a chord progression, with all the chords beeing of four notes each. I represented each individual as a list of chords, and each chord a list of notes, for example:\n",
    "\n",
    "<img src=\"img/ex_prog.jpg\" width=400 />\n",
    "This individual would be represented as\n",
    "[[48, 64, 67, 79], [53, 59, 65, 74], [55, 59, 62, 74], [48, 55, 67, 76]] \n",
    "\n",
    "To do anything I need the tonality of the exercise, so I defined a function to find it given the base voice and the key signature, it just looks at the key signature and it looks if the voice has any sight of beeing a minor key:\n"
   ]
  },
  {
   "cell_type": "code",
   "execution_count": 31,
   "metadata": {
    "collapsed": false
   },
   "outputs": [],
   "source": [
    "def setTon(line):\n",
    "    \"\"\"Return the tonality of the exercise and the bass notes of it\"\"\"\n",
    "    ton = line[:2]\n",
    "    notes = list(map(int, line[3:].split(' ')))\n",
    "    if ton[1] == '#':\n",
    "        ton = (int(ton[0])*7)%12\n",
    "    else:\n",
    "        ton = (int(ton[0])*5)%12\n",
    "    for note in notes:\n",
    "        if (ton+6)%12 == note%12:\n",
    "            ton = str((ton-3)%12)+'m'\n",
    "            break\n",
    "    else:\n",
    "        if ton-3 == notes[-1]%12:\n",
    "            ton = str((ton-3)%12)+'m'\n",
    "        else:\n",
    "            ton = str(ton)+'M'\n",
    "    return ton, notes"
   ]
  },
  {
   "cell_type": "markdown",
   "metadata": {},
   "source": [
    "The function returns a tuple with the tonality represented as a number from 0 to 11 (C to B) and a 'M' if the tonality is major or 'm' if it's minor.\n",
    "\n",
    "Then I wrote a function to create a single chord given the name of the chord and the fundamental note. The interesting part of this is that a chord of four notes can have multiple permutations, diferent set of notes and it can have a [close or open harmony](https://en.wikipedia.org/wiki/Close_and_open_harmony).\n",
    "\n",
    "For example all this chords are D major and have the same bass\n",
    "<img src=\"img/all_same.jpg\" width=400 />"
   ]
  },
  {
   "cell_type": "code",
   "execution_count": 32,
   "metadata": {
    "collapsed": false
   },
   "outputs": [],
   "source": [
    "def creatChord(nameC, noteF):\n",
    "    \"\"\"Create one chord given the name of the chord and the fundamental note\"\"\"\n",
    "    num_funda = int(nameC[:-1])\n",
    "    if nameC[-1] == 'M':\n",
    "        val_notes = [num_funda, (num_funda+4)%12, (num_funda+7)%12]\n",
    "    elif nameC[-1] == 'm':\n",
    "        val_notes = [num_funda, (num_funda+3)%12, (num_funda+7)%12]\n",
    "    elif nameC[-1] == 'd':\n",
    "        val_notes = [num_funda, (num_funda+3)%12, (num_funda+6)%12]\n",
    "    \n",
    "    # Tessitura of each voice\n",
    "    tenorR = list(range(48, 69))\n",
    "    contR = list(range(52, 77))\n",
    "    sopR = list(range(60, 86))\n",
    "    \n",
    "    # Depending in the bass note this are the options for the others voices\n",
    "    if noteF%12 == val_notes[0]:\n",
    "        opc = [[1,1,1], [2,1,0], [0,1,2]]\n",
    "    elif noteF%12 == val_notes[1]:\n",
    "        opc = [[1,0,2], [3,0,0], [2,0,1]]\n",
    "    elif noteF%12 == val_notes[2]:\n",
    "        opc = [[1,1,1], [2,1,0]]\n",
    "    \n",
    "    opc = random.choice(opc)\n",
    "    chordN = list()\n",
    "    for num, val in zip(opc, val_notes):\n",
    "        chordN += [val]*num\n",
    "    \n",
    "    random.shuffle(chordN)\n",
    "    \n",
    "    chord = [noteF,]\n",
    "    for nte, voce in zip(chordN, [tenorR, contR, sopR]):\n",
    "        posible_n = [x for x in voce if x%12 == nte]\n",
    "        chord.append(random.choice(posible_n))\n",
    "    \n",
    "    return chord"
   ]
  },
  {
   "cell_type": "markdown",
   "metadata": {},
   "source": [
    "After this function I only need to select a chord for each of the notes in the bass. This process use the midi representation of the notes and making arithmetic operation with them and with a random choice between the possible options. At the end we have a complete chord progression."
   ]
  },
  {
   "cell_type": "code",
   "execution_count": 33,
   "metadata": {
    "collapsed": false
   },
   "outputs": [],
   "source": [
    "def selChord(ton, notesBass):\n",
    "    \"\"\"Select the chords from all the posibilities\"\"\"\n",
    "    listaOp = OPTIONS_M if ton[-1] == 'M' else OPTIONS_m\n",
    "    listaMod = MOD_M if ton[-1] == 'M' else MOD_m\n",
    "    prog = list()\n",
    "    \n",
    "    for note in notesBass:\n",
    "        name = note%12\n",
    "        grad = name-int(ton[:-1])\n",
    "        grad = math.ceil(((grad+12)%12) / 2)\n",
    "        num = (random.choice(listaOp[grad]) + name +12) % 12\n",
    "        grad = num-int(ton[:-1])\n",
    "        grad = math.ceil(((grad+12)%12) / 2)\n",
    "        name = '{}{}'.format(num, listaMod[grad])\n",
    "        prog.append([creatChord(name, note), grad])\n",
    "    return prog"
   ]
  },
  {
   "cell_type": "markdown",
   "metadata": {},
   "source": [
    "Now, DEAP requires a generator to create the individuals, so I just create a simple generator that yields each chord of the progression."
   ]
  },
  {
   "cell_type": "code",
   "execution_count": 34,
   "metadata": {
    "collapsed": false
   },
   "outputs": [],
   "source": [
    "def newChordProg(ton, notes):\n",
    "    \"\"\"Create a new individual given the tonality and the base notes\"\"\"\n",
    "    chords = selChord(ton, notes)\n",
    "    for c in chords:\n",
    "        yield c"
   ]
  },
  {
   "cell_type": "markdown",
   "metadata": {},
   "source": [
    "### Selection"
   ]
  },
  {
   "cell_type": "markdown",
   "metadata": {},
   "source": [
    "From Wikipedia: _\"During each successive generation, a proportion of the existing population is selected to breed a new generation. Individual solutions are selected through a fitness-based process, where fitter solutions (as measured by a fitness function) are typically more likely to be selected.\"_\n",
    "So, I created a fitness function based on the classical harmony, it evaluate the progression to find \"errors\" like a distance between notes greater than an octave, or try to avoid two voices singing the same note:"
   ]
  },
  {
   "cell_type": "code",
   "execution_count": 35,
   "metadata": {
    "collapsed": false
   },
   "outputs": [],
   "source": [
    "def check_interval(chord):\n",
    "    \"\"\"Return the number of mistakes in the distance between the notes.\"\"\"\n",
    "    res = 0\n",
    "    if chord[2] - chord[1] > 12 or chord[2]-chord[1] < 0:\n",
    "        res += 15\n",
    "    if chord[3] - chord[2] > 12 or chord[3]-chord[2] < 0:\n",
    "        res += 15\n",
    "        \n",
    "    if chord[1] == chord[2] or chord[2] == chord[3]:\n",
    "        res += 1.4\n",
    "    return res    "
   ]
  },
  {
   "cell_type": "markdown",
   "metadata": {},
   "source": [
    "Also between two chords, you have to avoid the consecutive fifths and octaves, and a normal person tends to make the intervales in a voice more _\"natural\"_ making jumps not bigger than a fifth that often."
   ]
  },
  {
   "cell_type": "code",
   "execution_count": 36,
   "metadata": {
    "collapsed": false
   },
   "outputs": [],
   "source": [
    "def check_2_chords(ch1, ch2):\n",
    "    \"\"\"Return the number of mistakes in the intervals between 2 chords.\"\"\"\n",
    "    res = 0\n",
    "    \n",
    "    # Check for 5° and 8°\n",
    "    ite1 = map(lambda x,y: y-x, ch1[:-1], ch1[1:])\n",
    "    ite2 = map(lambda x,y: y-x, ch2[:-1], ch2[1:])\n",
    "    for inter1, inter2 in zip(ite1, ite2):\n",
    "        if inter1 == 7 and inter2 == 7:\n",
    "            res += 15\n",
    "        elif inter1 == 0 and inter2 == 0:\n",
    "            res += 15\n",
    "        elif inter1 == 12 and inter2 == 12:\n",
    "            res += 15\n",
    "    \n",
    "    # Check for big intervals, just to make it more \"human\" \n",
    "    for note1, note2 in zip(ch1[1:], ch2[1:]):\n",
    "        if abs(note1-note2) >= 7: # 7 equals 5° interval\n",
    "            res += .7\n",
    "    \n",
    "    return res"
   ]
  },
  {
   "cell_type": "markdown",
   "metadata": {},
   "source": [
    "And for the evaluation of an individual I used this generator to acces an element and the two neighbors:"
   ]
  },
  {
   "cell_type": "code",
   "execution_count": 37,
   "metadata": {
    "collapsed": false
   },
   "outputs": [],
   "source": [
    "def neighborhood(iterable):\n",
    "    \"\"\"Generator gives the prev actual and next.\"\"\"\n",
    "    iterator = iter(iterable)\n",
    "    prev = None\n",
    "    item = next(iterator)  # throws StopIteration if empty.\n",
    "    for nex in iterator:\n",
    "        yield (prev,item,nex)\n",
    "        prev = item\n",
    "        item = nex\n",
    "    yield (prev,item,None)"
   ]
  },
  {
   "cell_type": "markdown",
   "metadata": {},
   "source": [
    "The actual evatualion function:"
   ]
  },
  {
   "cell_type": "code",
   "execution_count": 38,
   "metadata": {
    "collapsed": false
   },
   "outputs": [],
   "source": [
    "def evalNumErr(ton, individual):\n",
    "    \"\"\"Evaluation function.\"\"\"\n",
    "    res = 0\n",
    "    for prev, item, nex in neighborhood(individual):\n",
    "        res += check_interval(item[0])\n",
    "        if prev == None:\n",
    "            if item[1] != 0:\n",
    "                res += 6\n",
    "            continue\n",
    "        else:\n",
    "            if prev[1] in [4, 6] and item[1] in [3, 1]:\n",
    "                res += 20\n",
    "            res += check_2_chords(prev[0], item[0])\n",
    "        if nex == None:\n",
    "            if item[1] in [1, 2, 3, 4, 5, 6]:\n",
    "                res += 6\n",
    "    return (res,)\n",
    "            "
   ]
  },
  {
   "cell_type": "markdown",
   "metadata": {},
   "source": [
    "### Crossover"
   ]
  },
  {
   "cell_type": "markdown",
   "metadata": {},
   "source": [
    "In the crossover section I used a simple [One point crossover][1] provided by DEAP in its set of tools.\n",
    "\n",
    "   [1]: https://en.wikipedia.org/wiki/Crossover_(genetic_algorithm)#One-point_crossover"
   ]
  },
  {
   "cell_type": "markdown",
   "metadata": {},
   "source": [
    "### Mutation"
   ]
  },
  {
   "cell_type": "markdown",
   "metadata": {},
   "source": []
  },
  {
   "cell_type": "code",
   "execution_count": 39,
   "metadata": {
    "collapsed": false
   },
   "outputs": [],
   "source": [
    "def mutChangeNotes(ton, individual, indpb):\n",
    "    \"\"\"Mutant function.\"\"\"\n",
    "    new_ind = toolbox.clone(individual)\n",
    "    for x in range(len(individual[0])):\n",
    "        if random.random() < indpb:\n",
    "            \n",
    "            listaOp = OPTIONS_M if ton[-1] == 'M' else OPTIONS_m\n",
    "            listaMod = MOD_M if ton[-1] == 'M' else MOD_m\n",
    "            \n",
    "            note = individual[x][0][0]\n",
    "            \n",
    "            name = note%12\n",
    "            grad = name-int(ton[:-1])\n",
    "            grad = math.ceil(((grad+12)%12) / 2)\n",
    "            num = (listaOp[grad][random.randint(0,len(listaOp[grad])-1)] + name +12) %12\n",
    "            grad = num-int(ton[:-1])\n",
    "            grad = math.ceil(((grad+12)%12) / 2)\n",
    "            name = '{}{}'.format(num, listaMod[grad])\n",
    "            \n",
    "            new_ind[x] = [creatChord(name, note), grad]\n",
    "    \n",
    "    del new_ind.fitness.values\n",
    "    return new_ind,"
   ]
  },
  {
   "cell_type": "markdown",
   "metadata": {},
   "source": []
  },
  {
   "cell_type": "code",
   "execution_count": 40,
   "metadata": {
    "collapsed": false
   },
   "outputs": [],
   "source": [
    "def transform_lilypond(ton, indiv, make_file=False):\n",
    "    \"\"\"Take one list of chords and print the it in lilypond notation.\"\"\"\n",
    "    note_map = dict()\n",
    "    if ton[-1] == 'M':\n",
    "        note_map = {0: 'c',\n",
    "                    1: 'cis',\n",
    "                    2: 'd',\n",
    "                    3: 'dis',\n",
    "                    4: 'e',\n",
    "                    5: 'f',\n",
    "                    6: 'fis',\n",
    "                    7: 'g',\n",
    "                    8: 'gis',\n",
    "                    9: 'a',\n",
    "                    10:'ais',\n",
    "                    11:'b'\n",
    "                    }\n",
    "        gra = 'major'\n",
    "    else:\n",
    "        note_map = {0: 'c',\n",
    "                    1: 'des',\n",
    "                    2: 'd',\n",
    "                    3: 'ees',\n",
    "                    4: 'e',\n",
    "                    5: 'f',\n",
    "                    6: 'ges',\n",
    "                    7: 'g',\n",
    "                    8: 'aes',\n",
    "                    9: 'a',\n",
    "                    10:'bes',\n",
    "                    11:'b'\n",
    "                    }\n",
    "        gra = 'minor'\n",
    "    voces = [[], [], [], []]\n",
    "    \n",
    "    for chord in indiv:\n",
    "        for note, voce in zip(chord, voces):\n",
    "            \n",
    "            octave = (note // 12)-4\n",
    "            name_lily = note_map[note % 12]\n",
    "            if octave < 0:\n",
    "                name_lily += ',' * (octave * -1)\n",
    "            elif octave > 0:\n",
    "                name_lily += \"'\" * octave\n",
    "            voce.append(name_lily)\n",
    "    \n",
    "    if make_file:\n",
    "        with open('lily/'+ton+'.ly', 'w') as f:\n",
    "            key_map = {'0': 'c',\n",
    "                    '1': 'des',\n",
    "                    '2': 'd',\n",
    "                    '3': 'ees',\n",
    "                    '4': 'e',\n",
    "                    '5': 'f',\n",
    "                    '6': 'ges',\n",
    "                    '7': 'g',\n",
    "                    '8': 'aes',\n",
    "                    '9': 'a',\n",
    "                    '10':'bes',\n",
    "                    '11':'b'\n",
    "                    }\n",
    "            print(ton)\n",
    "            f.write(Template(TEMPLATE).substitute(key=key_map[ton[:-1]], grade=gra, notes='{}|\\n{}|\\n{}|\\n{}|\\n'.format(*(' '.join(voce) for voce in reversed(voces)))))\n",
    "    \n",
    "    print('{}|\\n{}|\\n{}|\\n{}|\\n'.format(*(' '.join(voce) for voce in reversed(voces))))"
   ]
  },
  {
   "cell_type": "code",
   "execution_count": 41,
   "metadata": {
    "collapsed": false
   },
   "outputs": [],
   "source": [
    "def main(ton):\n",
    "    pop = toolbox.population(n=400)\n",
    "    hof = tools.HallOfFame(3)\n",
    "    stats = tools.Statistics(lambda ind: ind.fitness.values)\n",
    "    stats.register('avg', numpy.mean)\n",
    "    stats.register('std', numpy.std)\n",
    "    stats.register('min', numpy.min)\n",
    "    stats.register('max', numpy.max)\n",
    "    \n",
    "    pop, log = algorithms.eaSimple(pop, toolbox, cxpb=0.5, mutpb=0.3, ngen=70, stats=stats, halloffame=hof, verbose=True)\n",
    "    while min(log.select('min')) > 15:\n",
    "        pop = toolbox.population(n=400)\n",
    "        pop, log = algorithms.eaSimple(pop, toolbox, cxpb=0.5, mutpb=0.3, ngen=70, stats=stats, halloffame=hof, verbose=True)\n",
    "        \n",
    "    for best in hof:\n",
    "        print([x[0] for x in best])\n",
    "        \n",
    "        transform_lilypond(ton, [x[0] for x in best], make_file=True)"
   ]
  },
  {
   "cell_type": "code",
   "execution_count": 42,
   "metadata": {
    "collapsed": false,
    "scrolled": false
   },
   "outputs": [
    {
     "name": "stdout",
     "output_type": "stream",
     "text": [
      "n[#b] notas 2# 50 43 49 50 52 45 49 50 43 45 50\n",
      "2M [50, 43, 49, 50, 52, 45, 49, 50, 43, 45, 50]\n",
      "gen\tnevals\tavg    \tstd    \tmin \tmax  \n",
      "0  \t400   \t195.692\t39.6737\t88.1\t334.3\n",
      "1  \t263   \t165.279\t29.8988\t80  \t259.1\n",
      "2  \t274   \t142.221\t25.753 \t73.8\t222.8\n",
      "3  \t279   \t123.46 \t23.075 \t56.9\t194.3\n",
      "4  \t235   \t106.897\t19.6376\t47.9\t160.3\n",
      "5  \t262   \t93.95  \t18.6322\t20  \t155  \n",
      "6  \t249   \t80.8148\t17.7791\t27.6\t156.5\n",
      "7  \t282   \t70.2097\t16.3123\t24.6\t125  \n",
      "8  \t290   \t60.7028\t15.8194\t24.6\t125.8\n",
      "9  \t251   \t52.2425\t15.0515\t14  \t110  \n",
      "10 \t262   \t43.73  \t15.0322\t12.6\t108.6\n",
      "11 \t258   \t35.6822\t12.2394\t11.2\t101.7\n",
      "12 \t267   \t30.153 \t12.499 \t8.4 \t98.2 \n",
      "13 \t236   \t24.3485\t11.3894\t8.4 \t84.6 \n",
      "14 \t265   \t20.8842\t11.8616\t7.7 \t77.2 \n",
      "15 \t284   \t18.333 \t12.2333\t6.3 \t85.3 \n",
      "16 \t270   \t16.0442\t11.3543\t5.6 \t80.4 \n",
      "17 \t263   \t14.0703\t11.1679\t4.9 \t76.5 \n",
      "18 \t265   \t13.119 \t11.2894\t3.5 \t70.5 \n",
      "19 \t252   \t11.6375\t9.65354\t3.5 \t60.8 \n",
      "20 \t251   \t10.4205\t9.70284\t2.8 \t57.3 \n",
      "21 \t271   \t10.3993\t11.0462\t2.1 \t73   \n",
      "22 \t273   \t9.3105 \t9.8934 \t1.4 \t55.9 \n",
      "23 \t279   \t9.33675\t11.3155\t0.7 \t71.6 \n",
      "24 \t269   \t7.93575\t11.0821\t0.7 \t72.3 \n",
      "25 \t257   \t6.775  \t9.46545\t0.7 \t57.3 \n",
      "26 \t261   \t6.80275\t11.5459\t0.7 \t73.7 \n",
      "27 \t278   \t6.3215 \t10.1901\t0.7 \t55.9 \n",
      "28 \t260   \t6.37475\t12.0803\t0.7 \t73   \n",
      "29 \t250   \t5.2545 \t10.1008\t0.7 \t55.2 \n",
      "30 \t260   \t4.7075 \t9.6667 \t0.7 \t52.4 \n",
      "31 \t255   \t4.71125\t10.1586\t0.7 \t63.5 \n",
      "32 \t256   \t4.23125\t9.70974\t0.7 \t53.8 \n",
      "33 \t253   \t5.003  \t11.2919\t0.7 \t69.5 \n",
      "34 \t278   \t4.64225\t10.5664\t0.7 \t55.2 \n",
      "35 \t252   \t4.71375\t10.0504\t0.7 \t55.9 \n",
      "36 \t269   \t6.11175\t11.8847\t0.7 \t68.8 \n",
      "37 \t254   \t4.62025\t10.1035\t0.7 \t55.2 \n",
      "38 \t244   \t4.2515 \t9.6282 \t0.7 \t55.2 \n",
      "39 \t281   \t5.45475\t12.0603\t0.7 \t69.5 \n",
      "40 \t268   \t5.17275\t11.4752\t0.7 \t68.8 \n",
      "41 \t232   \t5.5375 \t11.9556\t0.7 \t69.5 \n",
      "42 \t256   \t5.2845 \t11.4305\t0.7 \t68.8 \n",
      "43 \t259   \t5.35475\t11.9999\t0.7 \t68.1 \n",
      "44 \t267   \t5.19375\t11.5844\t0.7 \t68.1 \n",
      "45 \t267   \t5.87   \t11.8872\t0.7 \t68.8 \n",
      "46 \t263   \t5.32375\t11.2515\t0.7 \t63.5 \n",
      "47 \t255   \t4.68225\t11.2147\t0.7 \t68.8 \n",
      "48 \t253   \t5.22175\t11.1903\t0.7 \t58   \n",
      "49 \t265   \t5.20675\t10.9176\t0.7 \t55.2 \n",
      "50 \t253   \t4.99175\t10.3159\t0.7 \t55.9 \n",
      "51 \t229   \t4.91275\t10.2195\t0.7 \t55.9 \n",
      "52 \t278   \t5.4855 \t11.3792\t0.7 \t69.5 \n",
      "53 \t237   \t4.75275\t9.93099\t0.7 \t53.8 \n",
      "54 \t270   \t4.10775\t9.21045\t0.7 \t53.8 \n",
      "55 \t256   \t6.11325\t12.6908\t0.7 \t62.8 \n",
      "56 \t246   \t4.876  \t10.2364\t0.7 \t55.9 \n",
      "57 \t246   \t4.89375\t10.724 \t0.7 \t62.1 \n",
      "58 \t260   \t5.66625\t12.1225\t0.7 \t70.2 \n",
      "59 \t276   \t4.54475\t10.2423\t0.7 \t56.6 \n",
      "60 \t270   \t5.72225\t11.4543\t0.7 \t55.9 \n",
      "61 \t260   \t3.556  \t8.87879\t0.7 \t53.8 \n",
      "62 \t270   \t4.91475\t11.1066\t0.7 \t69.5 \n",
      "63 \t245   \t4.26175\t9.54893\t0.7 \t54.5 \n",
      "64 \t270   \t5.68475\t12.2749\t0.7 \t69.5 \n",
      "65 \t265   \t5.91575\t12.2741\t0.7 \t68.8 \n",
      "66 \t271   \t6.22225\t13.1135\t0.7 \t69.5 \n",
      "67 \t257   \t4.8175 \t11.5004\t0.7 \t68.8 \n",
      "68 \t234   \t4.07725\t9.8508 \t0.7 \t54.5 \n",
      "69 \t267   \t5.662  \t11.9321\t0.7 \t62.1 \n",
      "70 \t248   \t5.348  \t11.4099\t0.7 \t62.1 \n",
      "[[50, 57, 66, 69], [43, 55, 61, 64], [49, 55, 61, 64], [50, 54, 59, 71], [52, 57, 61, 69], [45, 54, 61, 73], [49, 57, 66, 73], [50, 57, 66, 69], [43, 55, 67, 71], [45, 52, 61, 69], [50, 50, 62, 66]]\n",
      "2M\n",
      "a' e' e' b' a' cis'' cis'' a' b' a' fis'|\n",
      "fis' cis' cis' b cis' cis' fis' fis' g' cis' d'|\n",
      "a g g fis a fis a a g e d|\n",
      "d g, cis d e a, cis d g, a, d|\n",
      "\n",
      "[[50, 57, 66, 69], [43, 55, 61, 64], [49, 55, 61, 64], [50, 59, 66, 71], [52, 57, 61, 69], [45, 54, 61, 73], [49, 57, 66, 73], [50, 57, 66, 69], [43, 55, 67, 71], [45, 52, 61, 69], [50, 50, 62, 66]]\n",
      "2M\n",
      "a' e' e' b' a' cis'' cis'' a' b' a' fis'|\n",
      "fis' cis' cis' fis' cis' cis' fis' fis' g' cis' d'|\n",
      "a g g b a fis a a g e d|\n",
      "d g, cis d e a, cis d g, a, d|\n",
      "\n",
      "[[50, 54, 57, 69], [43, 55, 61, 64], [49, 55, 61, 64], [50, 54, 59, 71], [52, 57, 61, 69], [45, 54, 61, 73], [49, 57, 66, 73], [50, 57, 66, 69], [43, 55, 67, 71], [45, 52, 61, 69], [50, 50, 62, 66]]\n",
      "2M\n",
      "a' e' e' b' a' cis'' cis'' a' b' a' fis'|\n",
      "a cis' cis' b cis' cis' fis' fis' g' cis' d'|\n",
      "fis g g fis a fis a a g e d|\n",
      "d g, cis d e a, cis d g, a, d|\n",
      "\n"
     ]
    }
   ],
   "source": [
    "if __name__ == '__main__':\n",
    "    line = input('n[#b] notas ')\n",
    "    ton, notes = setTon(line)\n",
    "    print(ton, notes)\n",
    "    \n",
    "    # ========================= GA setup =========================\n",
    "    creator.create('FitnessMin', base.Fitness, weights=(-1.0,))\n",
    "    creator.create('Individual', list, fitness=creator.FitnessMin)\n",
    "\n",
    "    toolbox = base.Toolbox()\n",
    "    toolbox.register('creat_notes', newChordProg, ton, notes)\n",
    "    toolbox.register('individual', tools.initIterate, creator.Individual,\n",
    "                     toolbox.creat_notes)\n",
    "    toolbox.register('population', tools.initRepeat, list, toolbox.individual)\n",
    "\n",
    "    toolbox.register('evaluate', evalNumErr, ton)\n",
    "    toolbox.register('mate', tools.cxOnePoint)\n",
    "    toolbox.register('mutate', mutChangeNotes, ton, indpb=0.4)\n",
    "    toolbox.register('select', tools.selTournament, tournsize=3)\n",
    "    # =============================================================\n",
    "    \n",
    "    main(ton)\n",
    "    \n",
    "    \"\"\"\n",
    "    a = toolbox.individual()\n",
    "    transform_lilypond(x[0] for x in a)\n",
    "   \n",
    "    \n",
    "    print(toolbox.evaluate(a))\n",
    "    b = toolbox.individual()\n",
    "    print(b)\n",
    "    print(toolbox.evaluate(b))\n",
    "    a,b = toolbox.mate(a,b)\n",
    "    print(a)\n",
    "    print(b)\n",
    "    print(\"_\"*20)\n",
    "    \n",
    "    a = toolbox.mutate(a)\n",
    "    print(a)\n",
    "    print(\"-\"*20)\n",
    "    \"\"\""
   ]
  },
  {
   "cell_type": "code",
   "execution_count": 43,
   "metadata": {
    "collapsed": false
   },
   "outputs": [
    {
     "ename": "TypeError",
     "evalue": "transform_lilypond() missing 1 required positional argument: 'indiv'",
     "output_type": "error",
     "traceback": [
      "\u001b[1;31m---------------------------------------------------------------------------\u001b[0m",
      "\u001b[1;31mTypeError\u001b[0m                                 Traceback (most recent call last)",
      "\u001b[1;32m<ipython-input-43-04a1e561742c>\u001b[0m in \u001b[0;36m<module>\u001b[1;34m()\u001b[0m\n\u001b[0;32m     28\u001b[0m          \u001b[1;33m[\u001b[0m\u001b[1;36m43\u001b[0m\u001b[1;33m,\u001b[0m \u001b[1;36m55\u001b[0m\u001b[1;33m,\u001b[0m \u001b[1;36m62\u001b[0m\u001b[1;33m,\u001b[0m \u001b[1;36m67\u001b[0m\u001b[1;33m]\u001b[0m\u001b[1;33m\u001b[0m\u001b[0m\n\u001b[0;32m     29\u001b[0m          ]\n\u001b[1;32m---> 30\u001b[1;33m \u001b[0mtransform_lilypond\u001b[0m\u001b[1;33m(\u001b[0m\u001b[0mhuman1\u001b[0m\u001b[1;33m)\u001b[0m\u001b[1;33m\u001b[0m\u001b[0m\n\u001b[0m\u001b[0;32m     31\u001b[0m \u001b[1;33m\u001b[0m\u001b[0m\n\u001b[0;32m     32\u001b[0m human2 = [[50, 57, 66, 74],\n",
      "\u001b[1;31mTypeError\u001b[0m: transform_lilypond() missing 1 required positional argument: 'indiv'"
     ]
    }
   ],
   "source": [
    "human1 = [[43, 55, 62, 71], \n",
    "         [50, 54, 62, 69], \n",
    "         [48, 55, 64, 72], \n",
    "         [47, 55, 66, 74], \n",
    "         \n",
    "         [45, 57, 64, 72], \n",
    "         [43, 59, 67, 74], \n",
    "         [55, 60, 64, 72], \n",
    "         [52, 60, 67, 72], \n",
    "         \n",
    "         [50, 62, 66, 74], \n",
    "         [48, 64, 69, 76], \n",
    "         [52, 64, 67, 71], \n",
    "         [50, 57, 66, 69], \n",
    "         \n",
    "         [50, 54, 62, 69], \n",
    "         [43, 55, 62, 71], \n",
    "         [45, 52, 64, 72], \n",
    "         [47, 55, 62, 67], \n",
    "         \n",
    "         [48, 55, 64, 72], \n",
    "         [47, 55, 62, 71], \n",
    "         [48, 55, 64, 67], \n",
    "         [52, 55, 64, 71], \n",
    "         \n",
    "         [50, 57, 66, 74], \n",
    "         [38, 50, 62, 66], \n",
    "         [43, 55, 62, 67]\n",
    "         ]\n",
    "transform_lilypond(human1)\n",
    "\n",
    "human2 = [[50, 57, 66, 74],\n",
    "          [43, 59, 67, 74],\n",
    "          [49, 57, 64, 69],\n",
    "          [50, 57, 66, 69],\n",
    "          \n",
    "          [52, 55, 64, 71],\n",
    "          [45, 57, 64, 73],\n",
    "          [49, 55, 64, 73],\n",
    "          [50, 54, 62, 69],\n",
    "          \n",
    "          [43, 55, 62, 71],\n",
    "          [45, 52, 61, 69],\n",
    "          [50, 54, 62, 69]\n",
    "          ]\n",
    "transform_lilypond(human2)\n",
    "\n",
    "human3 = [[46, 53, 62, 70],\n",
    "          [50, 53, 62, 69],\n",
    "          [48, 55, 63, 72],\n",
    "          [51, 55, 63, 70],\n",
    "          \n",
    "          [53, 57, 62, 74],\n",
    "          [51, 58, 67, 75],\n",
    "          [48, 57, 65, 77],\n",
    "          [45, 57, 63, 72],\n",
    "          \n",
    "          [46, 53, 62, 70]\n",
    "          ]\n",
    "transform_lilypond(human3)\n"
   ]
  },
  {
   "cell_type": "markdown",
   "metadata": {},
   "source": [
    "### Buenos resultados:"
   ]
  },
  {
   "cell_type": "raw",
   "metadata": {},
   "source": [
    "1# 43 50 48 47 45 43 55 52 50 48 52 50 50 43 45 47 48 47 48 52 50 38 43\n",
    "\n",
    "PRIMERA GENERACIÓN\n",
    "d' g' e'' b' d'' b' d'' e'' b' a'' c'' g' b' e' a' g' fis'' d' a' c'' b' d' g''|\n",
    "d' d' e' b' d' g' d' g' g' a' e' b b b c' g' a' g a' c' g' a g'|\n",
    "b b a d' fis d' b b g' a a d fis b a g c' d a g g' fis b|\n",
    "g, d c b, a, g, g e d c e d d g, a, b, c b, c e d d, g,|\n",
    "\n",
    "SEGUNDA GENERACIÓN\n",
    "d'' a' fis' g' c' e' d' b' b' a' c''' d'' d'' e' e' g' fis'' d'' a'' e'' a' b' g'|\n",
    "d' d' a d' a b b g' b' a' c'' g' fis' b c' e' a' g' a' g' d' fis' b|\n",
    "b fis fis d e e g b b e' c' b a b e b fis' d' a b fis fis g|\n",
    "g, d c b, a, g, g e d c e d d g, a, b, c b, c e d d, g,|\n",
    "\n",
    "g' d' fis' b' fis' g' b' a' b' e'' a'' fis'' fis' e'' d'' b' fis'' b' g' b' g'' d'' d''|\n",
    "b fis a d' c' d' e' c' b' c'' c'' fis' d' e' fis' d' fis' d' g' g' g' g' d'|\n",
    "g d fis b fis b b a b g' e' b a e d' b a b e' b b b b|\n",
    "g, d c b, a, g, g e d c e d d g, a, b, c b, c e d d, g,|\n",
    "\n",
    "g' b' fis' b' fis' g' b' a' b' e'' a'' fis'' fis' e'' d'' b' fis'' b' g' b' g'' d'' d''|\n",
    "b d' a d' c' d' e' c' b' c'' c'' fis' d' e' fis' d' fis' d' g' g' g' g' d'|\n",
    "g g fis b fis b b a b g' e' b a e d' b a b e' b b b b|\n",
    "g, d c b, a, g, g e d c e d d g, a, b, c b, c e d d, g,|\n",
    "\n",
    "b' fis' a' fis' c'' b' g' g' fis'' a'' g'' fis'' b' c'' a' g' a' b' a' e'' a' d'' g'|\n",
    "d' b e' fis' a' d' d' b b' c'' b' b' b g' c' g' e' d' a' a' fis' g' b|\n",
    "d fis e d' a d' b e fis' fis' e' b b e' a g' e fis a c' a b g|\n",
    "g, d c b, a, g, g e d c e d d g, a, b, c b, c e d d, g,|\n",
    "\n",
    "TERCERA\n",
    "\n",
    "# good\n",
    "d'' d'' c'' e'' c'' d' e' c'' b' a'' e'' b'' a' b'' fis'' e'' a'' g'' e'' e'' g'' a' g''|\n",
    "g' fis' fis' e' fis' b c' c' fis' a' g' b' fis' e'' c'' b' c'' d'' a' g' g' fis' b'|\n",
    "b a a g fis d g c' b a b b d' e' fis' g' fis' g' a b b a g'|\n",
    "g, d c b, a, g, g e d c e d d g, a, b, c b, c e d d, g,|\n",
    "\n",
    "g' d' e' e' fis' e'' c'' a' b' a'' c'' b' fis'' g'' a' b' fis' fis' a' g' b' b' d''|\n",
    "b b g b fis' e' e' c' fis' a' e' g' a' g' fis' d' c' d' c' b fis' g' d'|\n",
    "g g g g fis b c' a b a a d' a b d' b a b fis b b d' b|\n",
    "g, d c b, a, g, g e d c e d d g, a, b, c b, c e d d, g,|\n",
    "\n",
    "\n",
    "2# 50 43 49 50 52 45 49 50 43 45 50\n",
    "\n",
    "d'' b' a' g' a' fis' cis' fis' g' cis' d''|\n",
    "fis' e' cis' d' cis' cis' a a cis' a d'|\n",
    "a e fis b a fis fis d e a fis|\n",
    "d g, cis d e a, cis d g, a, d|\n",
    "\n",
    "d'' g'' a'' fis'' cis'' e'' cis'' d'' d'' d'' fis''|\n",
    "a' cis'' a' b' g' cis'' a' fis' d' fis' a'|\n",
    "fis' e' e' fis' cis' e' fis' d' b d' a|\n",
    "d g, cis d e a, cis d g, a, d|\n",
    "\n",
    "# good\n",
    "d' cis' fis' b' a' a' g' fis' e' d' fis'|\n",
    "fis g a d' cis' cis' e' d' cis' a d'|\n",
    "d e cis g a a g a g fis d|\n",
    "d g, cis d e a, cis d g, a, d|\n",
    "\n",
    "# good\n",
    "fis'' e'' e'' b' a' a' fis' fis' e' d' fis'|\n",
    "a' e' a' fis' cis' cis' a b cis' a d'|\n",
    "a b e' b a a fis fis g fis d|\n",
    "d g, cis d e a, cis d g, a, d|\n",
    "\n",
    "# very good\n",
    "a' g' a' a' a' a' fis' b' b' a' d''|\n",
    "fis' d' fis' fis' cis' cis' cis' g' e' e' fis'|\n",
    "a b cis' a a a a g b cis' d'|\n",
    "d g, cis d e a, cis d g, a, d|\n",
    "\n",
    "\n",
    "2b 46 50 48 51 53 51 48 45 46\n",
    "\n",
    "d'' bes' ees'' c'' d'' g'' f'' f'' d''|\n",
    "f' f' g' ees' d' bes' a' a' bes'|\n",
    "f bes g a a ees' f' d' bes|\n",
    "bes, d c ees f ees c a, bes,|"
   ]
  }
 ],
 "metadata": {
  "kernelspec": {
   "display_name": "Python 3",
   "language": "python",
   "name": "python3"
  },
  "language_info": {
   "codemirror_mode": {
    "name": "ipython",
    "version": 3
   },
   "file_extension": ".py",
   "mimetype": "text/x-python",
   "name": "python",
   "nbconvert_exporter": "python",
   "pygments_lexer": "ipython3",
   "version": "3.5.0"
  }
 },
 "nbformat": 4,
 "nbformat_minor": 0
}
