{
 "cells": [
  {
   "cell_type": "markdown",
   "metadata": {},
   "source": [
    "# Creating a chord progression with a genetic algorithm"
   ]
  },
  {
   "cell_type": "markdown",
   "metadata": {},
   "source": [
    "This work is the result of an experiment done some months ago. I used a simple genetic algorithm to find a solution to a classic exercise of harmony: given a certain voice (normally the bass) create the other three voices to make a chord progression. The code isn't perfect and the algorithm can be improved adding more options in the chord selection, but for simplicity I didn't use seventh chords."
   ]
  },
  {
   "cell_type": "markdown",
   "metadata": {},
   "source": [
    "## Working with music"
   ]
  },
  {
   "cell_type": "markdown",
   "metadata": {},
   "source": [
    "The first part of this challenge is to find a way to easily represent the notes in the melody, luckily for us many years ago MIDI was created, so I used the numbers in MIDI to match every single note being, for example, 60 the central C. And at the beginning of the sequence of notes I set the key signature with the number of sharps or flats.\n",
    "\n",
    "So an example like this:\n",
    "<img src=\"im.jpg\" width=400 />\n",
    "Will be rempresented as: **0# 57 59 60 62**"
   ]
  },
  {
   "cell_type": "markdown",
   "metadata": {},
   "source": [
    "### Lilypond"
   ]
  },
  {
   "cell_type": "markdown",
   "metadata": {},
   "source": [
    "Going from music notation to this MIDI number representation with just one voice is quite easy (although I might work a hack for that also), but once I generate all the notes that form the chords the process ends up beeing a pain in the ass. Therefore at the end I take the output and pass it throught a little script that transform the numbers to [Lilypond](http://www.lilypond.com), generate a .ly file and an .jpg of the sheet."
   ]
  },
  {
   "cell_type": "code",
   "execution_count": 8,
   "metadata": {
    "collapsed": false,
    "slideshow": {
     "slide_type": "fragment"
    }
   },
   "outputs": [],
   "source": [
    "# Test cases:\n",
    "# 2# 54 67 69 61 62\n",
    "# 1# 43 50 48 47 45 43 55 52 50 48 52 50 50 43 45 47 48 47 48 52 50 38 43\n",
    "# 2# 50 43 49 50 52 45 49 50 43 45 50\n",
    "# 2b 46 50 48 51 53 51 48 45 46"
   ]
  },
  {
   "cell_type": "markdown",
   "metadata": {},
   "source": [
    "## The genetic algorithm"
   ]
  },
  {
   "cell_type": "markdown",
   "metadata": {},
   "source": [
    "A genetic algorithm works pretty much like a species evolution in real life. You take a population of... lets say dogs, you take a lot of dogs, each dog has its own atributes, each of this "
   ]
  },
  {
   "cell_type": "code",
   "execution_count": 9,
   "metadata": {
    "collapsed": false
   },
   "outputs": [],
   "source": [
    "import random\n",
    "import math\n",
    "import numpy\n",
    "\n",
    "from deap import base\n",
    "from deap import creator\n",
    "from deap import tools\n",
    "from deap import algorithms"
   ]
  },
  {
   "cell_type": "raw",
   "metadata": {},
   "source": [
    "si la armadura tiene sostenido se multiplica 7 por el número de sostenidos mod(12)\n",
    "si la armadura tiene bemoles se multiplica 5 por el número de bemoles mod(12)"
   ]
  },
  {
   "cell_type": "code",
   "execution_count": 10,
   "metadata": {
    "collapsed": false
   },
   "outputs": [],
   "source": [
    "# Global Variables\n",
    "OPTIONS_M = ((0,-3,5), (0,-3,5), (0,-4,5), (0,-3,6), (0,-3,5), (0,-4,5), (0,-4,5))\n",
    "OPTIONS_m = ((0,-4,5), (0,-4,5), (0,-3,5), (0,-3,5), (0,-4,5), (0,-3,6), (0,5))\n",
    "MOD_M = ('M','m','m','M','M','m','d')\n",
    "MOD_m = ('m','d','M','m','M','M','M')"
   ]
  },
  {
   "cell_type": "code",
   "execution_count": 11,
   "metadata": {
    "collapsed": false
   },
   "outputs": [],
   "source": [
    "def neighborhood(iterable):\n",
    "    \"\"\"Generator gives the prev actual and next.\"\"\"\n",
    "    iterator = iter(iterable)\n",
    "    prev = None\n",
    "    item = next(iterator)  # throws StopIteration if empty.\n",
    "    for nex in iterator:\n",
    "        yield (prev,item,nex)\n",
    "        prev = item\n",
    "        item = nex\n",
    "    yield (prev,item,None)"
   ]
  },
  {
   "cell_type": "code",
   "execution_count": 12,
   "metadata": {
    "collapsed": false
   },
   "outputs": [],
   "source": [
    "def setTon(line):\n",
    "    \"\"\"Determine the tonality of the exercice.\"\"\"\n",
    "    ton = line[:2]\n",
    "    notes = list(map(int, line[3:].split(' ')))\n",
    "    if ton[1] == '#':\n",
    "        ton = (int(ton[0])*7)%12\n",
    "    else:\n",
    "        ton = (int(ton[0])*5)%12\n",
    "    for note in notes:\n",
    "        if (ton+6)%12 == note%12:\n",
    "            ton = str((ton-3)%12)+'m'\n",
    "            break\n",
    "    else:\n",
    "        if ton-3 == notes[-1]%12:\n",
    "            ton = str((ton-3)%12)+'m'\n",
    "        else:\n",
    "            ton = str(ton)+'M'\n",
    "    return ton, notes"
   ]
  },
  {
   "cell_type": "code",
   "execution_count": 13,
   "metadata": {
    "collapsed": false
   },
   "outputs": [],
   "source": [
    "def creatChord(nameC, noteF):\n",
    "    \"\"\"Create one chord given the name of the chord and the fundamental note.\"\"\"\n",
    "    num_funda = int(nameC[:-1])\n",
    "    if nameC[-1] == 'M':\n",
    "        val_notes = [num_funda, (num_funda+4)%12, (num_funda+7)%12]\n",
    "    elif nameC[-1] == 'm':\n",
    "        val_notes = [num_funda, (num_funda+3)%12, (num_funda+7)%12]\n",
    "    elif nameC[-1] == 'd':\n",
    "        val_notes = [num_funda, (num_funda+3)%12, (num_funda+6)%12]\n",
    "        \n",
    "    tenorR = list(range(48, 69))\n",
    "    contR = list(range(52, 77))\n",
    "    sopR = list(range(60, 86))\n",
    "    \n",
    "    # Depending in the bass note this are the options for the others voices\n",
    "    if noteF%12 == val_notes[0]:\n",
    "        opc = [[1,1,1], [2,1,0], [0,1,2]]\n",
    "    elif noteF%12 == val_notes[1]:\n",
    "        opc = [[1,0,2], [3,0,0], [2,0,1]]\n",
    "    elif noteF%12 == val_notes[2]:\n",
    "        opc = [[1,1,1], [2,1,0]]\n",
    "    \n",
    "    opc = random.choice(opc)\n",
    "    chordN = list()\n",
    "    for num, val in zip(opc, val_notes):\n",
    "        chordN += [val]*num\n",
    "    \n",
    "    random.shuffle(chordN)\n",
    "    \n",
    "    chord = [noteF,]\n",
    "    for nte, voce in zip(chordN, [tenorR, contR, sopR]):\n",
    "        posible_n = [x for x in voce if x%12 == nte]\n",
    "        chord.append(random.choice(posible_n))\n",
    "    \n",
    "    return chord"
   ]
  },
  {
   "cell_type": "code",
   "execution_count": 14,
   "metadata": {
    "collapsed": false
   },
   "outputs": [],
   "source": [
    "def selChord(ton, notesBass):\n",
    "    \"\"\"Select the chords from all the posibilities.\"\"\"\n",
    "    listaOp = OPTIONS_M if ton[-1] == 'M' else OPTIONS_m\n",
    "    listaMod = MOD_M if ton[-1] == 'M' else MOD_m\n",
    "    prog = list()\n",
    "    \n",
    "    for note in notesBass:\n",
    "        name = note%12\n",
    "        grad = name-int(ton[:-1])\n",
    "        grad = math.ceil(((grad+12)%12) / 2)\n",
    "        num = (listaOp[grad][random.randint(0,len(listaOp[grad])-1)] + name +12) %12\n",
    "        grad = num-int(ton[:-1])\n",
    "        grad = math.ceil(((grad+12)%12) / 2)\n",
    "        name = '{}{}'.format(num, listaMod[grad])\n",
    "        prog.append([creatChord(name, note), grad])\n",
    "    return prog"
   ]
  },
  {
   "cell_type": "code",
   "execution_count": 15,
   "metadata": {
    "collapsed": false
   },
   "outputs": [],
   "source": [
    "def newChordProg(ton, notes):\n",
    "    \"\"\"Create a new individual given the tonality and the base notes.\"\"\"\n",
    "    chords = selChord(ton, notes)\n",
    "    for c in chords:\n",
    "        yield c"
   ]
  },
  {
   "cell_type": "code",
   "execution_count": 16,
   "metadata": {
    "collapsed": false
   },
   "outputs": [],
   "source": [
    "def check_interval(chord):\n",
    "    \"\"\"Return the number of mistakes in the distance between the notes.\"\"\"\n",
    "    res = 0\n",
    "    if chord[2] - chord[1] > 12 or chord[2]-chord[1] < 0:\n",
    "        res += 15\n",
    "    if chord[3] - chord[2] > 12 or chord[3]-chord[2] < 0:\n",
    "        res += 15\n",
    "        \n",
    "    if chord[1] == chord[2] or chord[2] == chord[3]:\n",
    "        res += 1.4\n",
    "    return res    "
   ]
  },
  {
   "cell_type": "code",
   "execution_count": 17,
   "metadata": {
    "collapsed": false
   },
   "outputs": [],
   "source": [
    "def check_2_chords(ch1, ch2):\n",
    "    \"\"\"Return the number of mistakes in the intervals between 2 chords.\"\"\"\n",
    "    res = 0\n",
    "    \n",
    "    # Check for 5° and 8°\n",
    "    ite1 = map(lambda x,y: y-x, ch1[:-1], ch1[1:])\n",
    "    ite2 = map(lambda x,y: y-x, ch2[:-1], ch2[1:])\n",
    "    for inter1, inter2 in zip(ite1, ite2):\n",
    "        if inter1 == 7 and inter2 == 7:\n",
    "            res += 15\n",
    "        elif inter1 == 0 and inter2 == 0:\n",
    "            res += 15\n",
    "        elif inter1 == 12 and inter2 == 12:\n",
    "            res += 15\n",
    "    \n",
    "    # Check for big intervals, just to make it more \"human\" \n",
    "    for note1, note2 in zip(ch1[1:], ch2[1:]):\n",
    "        if abs(note1-note2) >= 7: # 7 equals 5° interval\n",
    "            res += .7\n",
    "    \n",
    "    return res"
   ]
  },
  {
   "cell_type": "code",
   "execution_count": 18,
   "metadata": {
    "collapsed": false
   },
   "outputs": [],
   "source": [
    "def evalNumErr(ton, individual):\n",
    "    \"\"\"Evaluation function.\"\"\"\n",
    "    res = 0\n",
    "    for prev, item, nex in neighborhood(individual):\n",
    "        res += check_interval(item[0])\n",
    "        if prev == None:\n",
    "            if item[1] != 0:\n",
    "                res += 6\n",
    "            continue\n",
    "        else:\n",
    "            if prev[1] in [4, 6] and item[1] in [3, 1]:\n",
    "                res += 20\n",
    "            res += check_2_chords(prev[0], item[0])\n",
    "        if nex == None:\n",
    "            if item[1] in [1, 2, 3, 4, 5, 6]:\n",
    "                res += 6\n",
    "    return (res,)\n",
    "            "
   ]
  },
  {
   "cell_type": "code",
   "execution_count": 19,
   "metadata": {
    "collapsed": false
   },
   "outputs": [],
   "source": [
    "def mutChangeNotes(ton, individual, indpb):\n",
    "    \"\"\"Mutant function.\"\"\"\n",
    "    new_ind = toolbox.clone(individual)\n",
    "    for x in range(len(individual[0])):\n",
    "        if random.random() < indpb:\n",
    "            \n",
    "            listaOp = OPTIONS_M if ton[-1] == 'M' else OPTIONS_m\n",
    "            listaMod = MOD_M if ton[-1] == 'M' else MOD_m\n",
    "            \n",
    "            note = individual[x][0][0]\n",
    "            \n",
    "            name = note%12\n",
    "            grad = name-int(ton[:-1])\n",
    "            grad = math.ceil(((grad+12)%12) / 2)\n",
    "            num = (listaOp[grad][random.randint(0,len(listaOp[grad])-1)] + name +12) %12\n",
    "            grad = num-int(ton[:-1])\n",
    "            grad = math.ceil(((grad+12)%12) / 2)\n",
    "            name = '{}{}'.format(num, listaMod[grad])\n",
    "            \n",
    "            new_ind[x] = [creatChord(name, note), grad]\n",
    "    \n",
    "    del new_ind.fitness.values\n",
    "    return new_ind,"
   ]
  },
  {
   "cell_type": "code",
   "execution_count": 20,
   "metadata": {
    "collapsed": false
   },
   "outputs": [],
   "source": [
    "def transform_lilypond(ton, indiv):\n",
    "    \"\"\"Take one list of chords and print the it in lilypond notation.\"\"\"\n",
    "    note_map = dict()\n",
    "    if ton[-1] == 'M':\n",
    "        note_map = {0: 'c',\n",
    "                    1: 'cis',\n",
    "                    2: 'd',\n",
    "                    3: 'dis',\n",
    "                    4: 'e',\n",
    "                    5: 'f',\n",
    "                    6: 'fis',\n",
    "                    7: 'g',\n",
    "                    8: 'gis',\n",
    "                    9: 'a',\n",
    "                    10:'ais',\n",
    "                    11:'b'\n",
    "                    }\n",
    "    else:\n",
    "        note_map = {0: 'c',\n",
    "                    1: 'des',\n",
    "                    2: 'd',\n",
    "                    3: 'ees',\n",
    "                    4: 'e',\n",
    "                    5: 'f',\n",
    "                    6: 'ges',\n",
    "                    7: 'g',\n",
    "                    8: 'aes',\n",
    "                    9: 'a',\n",
    "                    10:'bes',\n",
    "                    11:'b'\n",
    "                    }\n",
    "    voces = [[], [], [], []]\n",
    "    \n",
    "    for chord in indiv:\n",
    "        for note, voce in zip(chord, voces):\n",
    "            \n",
    "            octave = (note // 12)-4\n",
    "            name_lily = note_map[note % 12]\n",
    "            if octave < 0:\n",
    "                name_lily += ',' * (octave * -1)\n",
    "            elif octave > 0:\n",
    "                name_lily += \"'\" * octave\n",
    "            voce.append(name_lily)\n",
    "      \n",
    "    print('{}|\\n{}|\\n{}|\\n{}|\\n'.format(*(' '.join(voce) for voce in reversed(voces))))"
   ]
  },
  {
   "cell_type": "code",
   "execution_count": 21,
   "metadata": {
    "collapsed": false
   },
   "outputs": [],
   "source": [
    "def main(ton):\n",
    "    pop = toolbox.population(n=400)\n",
    "    hof = tools.HallOfFame(3)\n",
    "    stats = tools.Statistics(lambda ind: ind.fitness.values)\n",
    "    stats.register('avg', numpy.mean)\n",
    "    stats.register('std', numpy.std)\n",
    "    stats.register('min', numpy.min)\n",
    "    stats.register('max', numpy.max)\n",
    "    \n",
    "    pop, log = algorithms.eaSimple(pop, toolbox, cxpb=0.5, mutpb=0.3, ngen=70, stats=stats, halloffame=hof, verbose=True)\n",
    "    while min(log.select('min')) > 15:\n",
    "        pop = toolbox.population(n=400)\n",
    "        pop, log = algorithms.eaSimple(pop, toolbox, cxpb=0.5, mutpb=0.3, ngen=70, stats=stats, halloffame=hof, verbose=True)\n",
    "        \n",
    "    for best in hof:\n",
    "        print([x[0] for x in best])\n",
    "        \n",
    "        transform_lilypond(ton, [x[0] for x in best])"
   ]
  },
  {
   "cell_type": "code",
   "execution_count": 22,
   "metadata": {
    "collapsed": false
   },
   "outputs": [
    {
     "name": "stdout",
     "output_type": "stream",
     "text": [
      "n[#b] notas 0# 57 59 60 62\n",
      "0M [57, 59, 60, 62]\n",
      "gen\tnevals\tavg    \tstd    \tmin \tmax  \n",
      "0  \t400   \t78.4737\t21.2799\t14.1\t136.2\n",
      "1  \t246   \t62.0025\t19.2554\t14.1\t119.8\n",
      "2  \t251   \t49.0057\t16.4188\t14.1\t105.5\n",
      "3  \t269   \t37.5075\t13.7616\t13.4\t81.2 \n",
      "4  \t256   \t29.7832\t13.1362\t12  \t95.4 \n",
      "5  \t249   \t23.7312\t10.6634\t12.7\t61.9 \n",
      "6  \t262   \t21.0675\t10.9926\t12.7\t74.8 \n",
      "7  \t269   \t19.4262\t10.3011\t12  \t76.2 \n",
      "8  \t232   \t18.8707\t10.3109\t12  \t75.5 \n",
      "9  \t254   \t18.2395\t10.4735\t12  \t74.8 \n",
      "10 \t248   \t18.6515\t11.069 \t12  \t74.8 \n",
      "11 \t270   \t18.0492\t10.0973\t12  \t61.2 \n",
      "12 \t228   \t16.8632\t9.52484\t12  \t74.1 \n",
      "13 \t269   \t17.0643\t9.54794\t12  \t63.3 \n",
      "14 \t248   \t16.8002\t10.3666\t12  \t74.8 \n",
      "15 \t268   \t17.188 \t10.6571\t12  \t61.2 \n",
      "16 \t253   \t17.131 \t10.4555\t12  \t61.2 \n",
      "17 \t263   \t17.6382\t10.7318\t12  \t74.1 \n",
      "18 \t252   \t17.3268\t10.9415\t12  \t75.5 \n",
      "19 \t264   \t17.5963\t11.5621\t12  \t75.5 \n",
      "20 \t281   \t16.847 \t10.3083\t12  \t75.5 \n",
      "21 \t255   \t17.705 \t11.5271\t12  \t74.1 \n",
      "22 \t274   \t16.6248\t9.94831\t12  \t74.1 \n",
      "23 \t276   \t17.7052\t11.0098\t12  \t74.1 \n",
      "24 \t291   \t18.8428\t12.4365\t12  \t74.1 \n",
      "25 \t256   \t16.6055\t9.98799\t12  \t61.2 \n",
      "26 \t271   \t16.2197\t9.67347\t12  \t60.5 \n",
      "27 \t265   \t17.3745\t11.579 \t12  \t74.8 \n",
      "28 \t257   \t16.7797\t10.6242\t12  \t61.2 \n",
      "29 \t262   \t15.7758\t9.37398\t12  \t74.1 \n",
      "30 \t270   \t16.333 \t10.0378\t12  \t60.5 \n",
      "31 \t252   \t16.6565\t10.9342\t12  \t73.4 \n",
      "32 \t250   \t16.368 \t9.83774\t12  \t61.2 \n",
      "33 \t266   \t15.985 \t9.84429\t12  \t74.8 \n",
      "34 \t267   \t16.9815\t11.1421\t12  \t60.5 \n",
      "35 \t264   \t15.9485\t10.0699\t12  \t74.8 \n",
      "36 \t248   \t16.484 \t11.387 \t12  \t88.4 \n",
      "37 \t269   \t16.0207\t10.129 \t12  \t74.8 \n",
      "38 \t269   \t15.8497\t9.62824\t12  \t73.4 \n",
      "39 \t267   \t16.8842\t11.6227\t12  \t75.5 \n",
      "40 \t248   \t15.6117\t9.72377\t12  \t74.8 \n",
      "41 \t263   \t16.3618\t10.5454\t12  \t73.4 \n",
      "42 \t242   \t15.8697\t10.0024\t12  \t73.4 \n",
      "43 \t254   \t16.1595\t10.3691\t12  \t74.8 \n",
      "44 \t257   \t15.8238\t10.039 \t12  \t59.8 \n",
      "45 \t270   \t16.4413\t10.6815\t12  \t74.8 \n",
      "46 \t257   \t15.997 \t10.0902\t12  \t60.5 \n",
      "47 \t226   \t16.1203\t10.4111\t12  \t75.5 \n",
      "48 \t266   \t15.7888\t9.93492\t12  \t74.8 \n",
      "49 \t263   \t15.5255\t9.14712\t12  \t72.7 \n",
      "50 \t260   \t17.2157\t12.2533\t12  \t74.1 \n",
      "51 \t250   \t16.9325\t11.5447\t12  \t75.5 \n",
      "52 \t254   \t16.6148\t11.1434\t12  \t74.8 \n",
      "53 \t256   \t15.7678\t10.2958\t12  \t59.8 \n",
      "54 \t279   \t17.099 \t11.028 \t12  \t60.5 \n",
      "55 \t268   \t16.6603\t10.5745\t12  \t60.5 \n",
      "56 \t260   \t16.6053\t11.0078\t12  \t60.5 \n",
      "57 \t257   \t15.7635\t9.59694\t12  \t74.8 \n",
      "58 \t252   \t15.569 \t9.18435\t12  \t59.8 \n",
      "59 \t271   \t16.7065\t10.9429\t12  \t74.1 \n",
      "60 \t263   \t16.2372\t10.0281\t12  \t59.8 \n",
      "61 \t255   \t16.0227\t9.82809\t12  \t72.7 \n",
      "62 \t243   \t16.4868\t10.7422\t12  \t60.5 \n",
      "63 \t269   \t16.4672\t10.9529\t12  \t74.1 \n",
      "64 \t265   \t15.7792\t9.91284\t12  \t74.8 \n",
      "65 \t247   \t16.647 \t10.8197\t12  \t60.5 \n",
      "66 \t275   \t17.1513\t10.9197\t12  \t59.1 \n",
      "67 \t245   \t15.6055\t9.5    \t12  \t74.8 \n",
      "68 \t257   \t16.3575\t10.7324\t12  \t74.8 \n",
      "69 \t245   \t15.5862\t9.68757\t12  \t73.4 \n",
      "70 \t266   \t15.7245\t9.31607\t12  \t60.5 \n",
      "[[57, 60, 72, 77], [59, 62, 71, 77], [60, 64, 67, 79], [62, 65, 71, 77]]\n",
      "f'' f'' g'' f''|\n",
      "c'' b' g' b'|\n",
      "c' d' e' f'|\n",
      "a b c' d'|\n",
      "\n",
      "[[57, 53, 60, 65], [59, 55, 64, 71], [60, 52, 60, 72], [62, 55, 62, 71]]\n",
      "f' b' c'' b'|\n",
      "c' e' c' d'|\n",
      "f g e g|\n",
      "a b c' d'|\n",
      "\n",
      "[[57, 64, 72, 81], [59, 62, 71, 77], [60, 64, 72, 79], [62, 67, 71, 79]]\n",
      "a'' f'' g'' g''|\n",
      "c'' b' c'' b'|\n",
      "e' d' e' g'|\n",
      "a b c' d'|\n",
      "\n"
     ]
    }
   ],
   "source": [
    "if __name__ == '__main__':\n",
    "    line = input('n[#b] notas ')\n",
    "    ton, notes = setTon(line)\n",
    "    print(ton, notes)\n",
    "    \n",
    "    # ========================= GA setup =========================\n",
    "    creator.create('FitnessMin', base.Fitness, weights=(-1.0,))\n",
    "    creator.create('Individual', list, fitness=creator.FitnessMin)\n",
    "\n",
    "    toolbox = base.Toolbox()\n",
    "    toolbox.register('creat_notes', newChordProg, ton, notes)\n",
    "    toolbox.register('individual', tools.initIterate, creator.Individual,\n",
    "                     toolbox.creat_notes)\n",
    "    toolbox.register('population', tools.initRepeat, list, toolbox.individual)\n",
    "\n",
    "    toolbox.register('evaluate', evalNumErr, ton)\n",
    "    toolbox.register('mate', tools.cxOnePoint)\n",
    "    toolbox.register('mutate', mutChangeNotes, ton, indpb=0.4)\n",
    "    toolbox.register('select', tools.selTournament, tournsize=3)\n",
    "    # =============================================================\n",
    "    \n",
    "    main(ton)\n",
    "    \n",
    "    \"\"\"\n",
    "    a = toolbox.individual()\n",
    "    transform_lilypond(x[0] for x in a)\n",
    "   \n",
    "    \n",
    "    print(toolbox.evaluate(a))\n",
    "    b = toolbox.individual()\n",
    "    print(b)\n",
    "    print(toolbox.evaluate(b))\n",
    "    a,b = toolbox.mate(a,b)\n",
    "    print(a)\n",
    "    print(b)\n",
    "    print(\"_\"*20)\n",
    "    \n",
    "    a = toolbox.mutate(a)\n",
    "    print(a)\n",
    "    print(\"-\"*20)\n",
    "    \"\"\""
   ]
  },
  {
   "cell_type": "code",
   "execution_count": 23,
   "metadata": {
    "collapsed": false
   },
   "outputs": [
    {
     "ename": "TypeError",
     "evalue": "transform_lilypond() missing 1 required positional argument: 'indiv'",
     "output_type": "error",
     "traceback": [
      "\u001b[1;31m---------------------------------------------------------------------------\u001b[0m",
      "\u001b[1;31mTypeError\u001b[0m                                 Traceback (most recent call last)",
      "\u001b[1;32m<ipython-input-23-04a1e561742c>\u001b[0m in \u001b[0;36m<module>\u001b[1;34m()\u001b[0m\n\u001b[0;32m     28\u001b[0m          \u001b[1;33m[\u001b[0m\u001b[1;36m43\u001b[0m\u001b[1;33m,\u001b[0m \u001b[1;36m55\u001b[0m\u001b[1;33m,\u001b[0m \u001b[1;36m62\u001b[0m\u001b[1;33m,\u001b[0m \u001b[1;36m67\u001b[0m\u001b[1;33m]\u001b[0m\u001b[1;33m\u001b[0m\u001b[0m\n\u001b[0;32m     29\u001b[0m          ]\n\u001b[1;32m---> 30\u001b[1;33m \u001b[0mtransform_lilypond\u001b[0m\u001b[1;33m(\u001b[0m\u001b[0mhuman1\u001b[0m\u001b[1;33m)\u001b[0m\u001b[1;33m\u001b[0m\u001b[0m\n\u001b[0m\u001b[0;32m     31\u001b[0m \u001b[1;33m\u001b[0m\u001b[0m\n\u001b[0;32m     32\u001b[0m human2 = [[50, 57, 66, 74],\n",
      "\u001b[1;31mTypeError\u001b[0m: transform_lilypond() missing 1 required positional argument: 'indiv'"
     ]
    }
   ],
   "source": [
    "human1 = [[43, 55, 62, 71], \n",
    "         [50, 54, 62, 69], \n",
    "         [48, 55, 64, 72], \n",
    "         [47, 55, 66, 74], \n",
    "         \n",
    "         [45, 57, 64, 72], \n",
    "         [43, 59, 67, 74], \n",
    "         [55, 60, 64, 72], \n",
    "         [52, 60, 67, 72], \n",
    "         \n",
    "         [50, 62, 66, 74], \n",
    "         [48, 64, 69, 76], \n",
    "         [52, 64, 67, 71], \n",
    "         [50, 57, 66, 69], \n",
    "         \n",
    "         [50, 54, 62, 69], \n",
    "         [43, 55, 62, 71], \n",
    "         [45, 52, 64, 72], \n",
    "         [47, 55, 62, 67], \n",
    "         \n",
    "         [48, 55, 64, 72], \n",
    "         [47, 55, 62, 71], \n",
    "         [48, 55, 64, 67], \n",
    "         [52, 55, 64, 71], \n",
    "         \n",
    "         [50, 57, 66, 74], \n",
    "         [38, 50, 62, 66], \n",
    "         [43, 55, 62, 67]\n",
    "         ]\n",
    "transform_lilypond(human1)\n",
    "\n",
    "human2 = [[50, 57, 66, 74],\n",
    "          [43, 59, 67, 74],\n",
    "          [49, 57, 64, 69],\n",
    "          [50, 57, 66, 69],\n",
    "          \n",
    "          [52, 55, 64, 71],\n",
    "          [45, 57, 64, 73],\n",
    "          [49, 55, 64, 73],\n",
    "          [50, 54, 62, 69],\n",
    "          \n",
    "          [43, 55, 62, 71],\n",
    "          [45, 52, 61, 69],\n",
    "          [50, 54, 62, 69]\n",
    "          ]\n",
    "transform_lilypond(human2)\n",
    "\n",
    "human3 = [[46, 53, 62, 70],\n",
    "          [50, 53, 62, 69],\n",
    "          [48, 55, 63, 72],\n",
    "          [51, 55, 63, 70],\n",
    "          \n",
    "          [53, 57, 62, 74],\n",
    "          [51, 58, 67, 75],\n",
    "          [48, 57, 65, 77],\n",
    "          [45, 57, 63, 72],\n",
    "          \n",
    "          [46, 53, 62, 70]\n",
    "          ]\n",
    "transform_lilypond(human3)\n"
   ]
  },
  {
   "cell_type": "markdown",
   "metadata": {},
   "source": [
    "### Buenos resultados:"
   ]
  },
  {
   "cell_type": "raw",
   "metadata": {},
   "source": [
    "1# 43 50 48 47 45 43 55 52 50 48 52 50 50 43 45 47 48 47 48 52 50 38 43\n",
    "\n",
    "PRIMERA GENERACIÓN\n",
    "d' g' e'' b' d'' b' d'' e'' b' a'' c'' g' b' e' a' g' fis'' d' a' c'' b' d' g''|\n",
    "d' d' e' b' d' g' d' g' g' a' e' b b b c' g' a' g a' c' g' a g'|\n",
    "b b a d' fis d' b b g' a a d fis b a g c' d a g g' fis b|\n",
    "g, d c b, a, g, g e d c e d d g, a, b, c b, c e d d, g,|\n",
    "\n",
    "SEGUNDA GENERACIÓN\n",
    "d'' a' fis' g' c' e' d' b' b' a' c''' d'' d'' e' e' g' fis'' d'' a'' e'' a' b' g'|\n",
    "d' d' a d' a b b g' b' a' c'' g' fis' b c' e' a' g' a' g' d' fis' b|\n",
    "b fis fis d e e g b b e' c' b a b e b fis' d' a b fis fis g|\n",
    "g, d c b, a, g, g e d c e d d g, a, b, c b, c e d d, g,|\n",
    "\n",
    "g' d' fis' b' fis' g' b' a' b' e'' a'' fis'' fis' e'' d'' b' fis'' b' g' b' g'' d'' d''|\n",
    "b fis a d' c' d' e' c' b' c'' c'' fis' d' e' fis' d' fis' d' g' g' g' g' d'|\n",
    "g d fis b fis b b a b g' e' b a e d' b a b e' b b b b|\n",
    "g, d c b, a, g, g e d c e d d g, a, b, c b, c e d d, g,|\n",
    "\n",
    "g' b' fis' b' fis' g' b' a' b' e'' a'' fis'' fis' e'' d'' b' fis'' b' g' b' g'' d'' d''|\n",
    "b d' a d' c' d' e' c' b' c'' c'' fis' d' e' fis' d' fis' d' g' g' g' g' d'|\n",
    "g g fis b fis b b a b g' e' b a e d' b a b e' b b b b|\n",
    "g, d c b, a, g, g e d c e d d g, a, b, c b, c e d d, g,|\n",
    "\n",
    "b' fis' a' fis' c'' b' g' g' fis'' a'' g'' fis'' b' c'' a' g' a' b' a' e'' a' d'' g'|\n",
    "d' b e' fis' a' d' d' b b' c'' b' b' b g' c' g' e' d' a' a' fis' g' b|\n",
    "d fis e d' a d' b e fis' fis' e' b b e' a g' e fis a c' a b g|\n",
    "g, d c b, a, g, g e d c e d d g, a, b, c b, c e d d, g,|\n",
    "\n",
    "TERCERA\n",
    "\n",
    "# good\n",
    "d'' d'' c'' e'' c'' d' e' c'' b' a'' e'' b'' a' b'' fis'' e'' a'' g'' e'' e'' g'' a' g''|\n",
    "g' fis' fis' e' fis' b c' c' fis' a' g' b' fis' e'' c'' b' c'' d'' a' g' g' fis' b'|\n",
    "b a a g fis d g c' b a b b d' e' fis' g' fis' g' a b b a g'|\n",
    "g, d c b, a, g, g e d c e d d g, a, b, c b, c e d d, g,|\n",
    "\n",
    "g' d' e' e' fis' e'' c'' a' b' a'' c'' b' fis'' g'' a' b' fis' fis' a' g' b' b' d''|\n",
    "b b g b fis' e' e' c' fis' a' e' g' a' g' fis' d' c' d' c' b fis' g' d'|\n",
    "g g g g fis b c' a b a a d' a b d' b a b fis b b d' b|\n",
    "g, d c b, a, g, g e d c e d d g, a, b, c b, c e d d, g,|\n",
    "\n",
    "\n",
    "2# 50 43 49 50 52 45 49 50 43 45 50\n",
    "\n",
    "d'' b' a' g' a' fis' cis' fis' g' cis' d''|\n",
    "fis' e' cis' d' cis' cis' a a cis' a d'|\n",
    "a e fis b a fis fis d e a fis|\n",
    "d g, cis d e a, cis d g, a, d|\n",
    "\n",
    "d'' g'' a'' fis'' cis'' e'' cis'' d'' d'' d'' fis''|\n",
    "a' cis'' a' b' g' cis'' a' fis' d' fis' a'|\n",
    "fis' e' e' fis' cis' e' fis' d' b d' a|\n",
    "d g, cis d e a, cis d g, a, d|\n",
    "\n",
    "# good\n",
    "d' cis' fis' b' a' a' g' fis' e' d' fis'|\n",
    "fis g a d' cis' cis' e' d' cis' a d'|\n",
    "d e cis g a a g a g fis d|\n",
    "d g, cis d e a, cis d g, a, d|\n",
    "\n",
    "# good\n",
    "fis'' e'' e'' b' a' a' fis' fis' e' d' fis'|\n",
    "a' e' a' fis' cis' cis' a b cis' a d'|\n",
    "a b e' b a a fis fis g fis d|\n",
    "d g, cis d e a, cis d g, a, d|\n",
    "\n",
    "# very good\n",
    "a' g' a' a' a' a' fis' b' b' a' d''|\n",
    "fis' d' fis' fis' cis' cis' cis' g' e' e' fis'|\n",
    "a b cis' a a a a g b cis' d'|\n",
    "d g, cis d e a, cis d g, a, d|\n",
    "\n",
    "\n",
    "2b 46 50 48 51 53 51 48 45 46\n",
    "\n",
    "d'' bes' ees'' c'' d'' g'' f'' f'' d''|\n",
    "f' f' g' ees' d' bes' a' a' bes'|\n",
    "f bes g a a ees' f' d' bes|\n",
    "bes, d c ees f ees c a, bes,|"
   ]
  }
 ],
 "metadata": {
  "kernelspec": {
   "display_name": "Python 3",
   "language": "python",
   "name": "python3"
  },
  "language_info": {
   "codemirror_mode": {
    "name": "ipython",
    "version": 3
   },
   "file_extension": ".py",
   "mimetype": "text/x-python",
   "name": "python",
   "nbconvert_exporter": "python",
   "pygments_lexer": "ipython3",
   "version": "3.4.3"
  }
 },
 "nbformat": 4,
 "nbformat_minor": 0
}
