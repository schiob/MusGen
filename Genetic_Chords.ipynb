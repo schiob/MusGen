{
 "metadata": {
  "name": "",
  "signature": "sha256:3598f5af5df5f37c5aaca4f423271555d78ee1e409a3f1c8b8cd3730055fdbb3"
 },
 "nbformat": 3,
 "nbformat_minor": 0,
 "worksheets": [
  {
   "cells": [
    {
     "cell_type": "code",
     "collapsed": false,
     "input": [
      "# Casos de prueba:\n",
      "# 2# 54 67 69 61 62\n",
      "# 1# 43 50 48 47 45 43 55 52 50 48 52 50 50 43 45 47 48 47 48 52 50 38 43\n",
      "# 2# 50 43 49 50 52 45 49 50 43 45 50\n"
     ],
     "language": "python",
     "metadata": {},
     "outputs": [],
     "prompt_number": 231
    },
    {
     "cell_type": "code",
     "collapsed": false,
     "input": [
      "import random\n",
      "import math\n",
      "import numpy\n",
      "\n",
      "from deap import base\n",
      "from deap import creator\n",
      "from deap import tools\n",
      "from deap import algorithms"
     ],
     "language": "python",
     "metadata": {},
     "outputs": [],
     "prompt_number": 232
    },
    {
     "cell_type": "raw",
     "metadata": {},
     "source": [
      "si la armadura tiene sostenido se multiplica 7 por el n\u00famero de sostenidos mod(12)\n",
      "si la armadura tiene bemoles se multiplica 5 por el n\u00famero de bemoles mod(12)"
     ]
    },
    {
     "cell_type": "code",
     "collapsed": false,
     "input": [
      "# Global Variables\n",
      "OPTIONS_M = ((0,-3,5), (0,-3,5), (0,-4,5), (0,-3,6), (0,-3,5), (0,-4,5), (0,-4,5))\n",
      "OPTIONS_m = ((0,-4,5), (0,-4,5), (0,-3,5), (0,-3,5), (0,-4,5), (0,-3,6), (0,5))\n",
      "MOD_M = ('M','m','m','M','M','m','d')\n",
      "MOD_m = ('m','d','M','m','M','M','M')"
     ],
     "language": "python",
     "metadata": {},
     "outputs": [],
     "prompt_number": 233
    },
    {
     "cell_type": "code",
     "collapsed": false,
     "input": [
      "def neighborhood(iterable):\n",
      "    \"\"\"Generator gives the prev actual and next\"\"\"\n",
      "    iterator = iter(iterable)\n",
      "    prev = None\n",
      "    item = next(iterator)  # throws StopIteration if empty.\n",
      "    for nex in iterator:\n",
      "        yield (prev,item,nex)\n",
      "        prev = item\n",
      "        item = nex\n",
      "    yield (prev,item,None)"
     ],
     "language": "python",
     "metadata": {},
     "outputs": [],
     "prompt_number": 234
    },
    {
     "cell_type": "code",
     "collapsed": false,
     "input": [
      "# Tonality function\n",
      "def setTon(line):\n",
      "    \"\"\"Determine the tonality of the exercice\"\"\"\n",
      "    ton = line[:2]\n",
      "    notes = list(map(int, line[3:].split(' ')))\n",
      "    if ton[1] == '#':\n",
      "        ton = (int(ton[0])*7)%12\n",
      "    else:\n",
      "        ton = (int(ton[0])*5)%12\n",
      "    for note in notes:\n",
      "        if (ton+6)%12 == note%12:\n",
      "            ton = str((ton-3)%12)+'m'\n",
      "            break\n",
      "    else:\n",
      "        if ton-3 == notes[-1]%12:\n",
      "            ton = str((ton-3)%12)+'m'\n",
      "        else:\n",
      "            ton = str(ton)+'M'\n",
      "    return ton, notes"
     ],
     "language": "python",
     "metadata": {},
     "outputs": [],
     "prompt_number": 235
    },
    {
     "cell_type": "code",
     "collapsed": false,
     "input": [
      "def creatChord(nameC, noteF):\n",
      "    \"\"\"Create one chord given the name of the chord and the fundamental note\"\"\"\n",
      "    \n",
      "    num_funda = int(nameC[:-1])\n",
      "    if nameC[-1] == 'M':\n",
      "        val_notes = [num_funda, (num_funda+4)%12, (num_funda+7)%12]\n",
      "    elif nameC[-1] == 'm':\n",
      "        val_notes = [num_funda, (num_funda+3)%12, (num_funda+7)%12]\n",
      "    elif nameC[-1] == 'd':\n",
      "        val_notes = [num_funda, (num_funda+3)%12, (num_funda+6)%12]\n",
      "        \n",
      "    tenorR = list(range(48, 69))\n",
      "    contR = list(range(52, 77))\n",
      "    sopR = list(range(60, 86))\n",
      "    \n",
      "    # Depending in the bass note this are the options for the others voices\n",
      "    if noteF%12 == val_notes[0]:\n",
      "        opc = [[1,1,1], [2,1,0], [0,1,2]]\n",
      "    elif noteF%12 == val_notes[1]:\n",
      "        opc = [[1,0,2], [3,0,0], [2,0,1]]\n",
      "    elif noteF%12 == val_notes[2]:\n",
      "        opc = [[1,1,1], [2,1,0]]\n",
      "    \n",
      "    opc = random.choice(opc)\n",
      "    chordN = list()\n",
      "    for num, val in zip(opc, val_notes):\n",
      "        chordN += [val]*num\n",
      "    \n",
      "    random.shuffle(chordN)\n",
      "    \n",
      "    chord = [noteF,]\n",
      "    for nte, voce in zip(chordN, [tenorR, contR, sopR]):\n",
      "        posible_n = [x for x in voce if x%12 == nte]\n",
      "        chord.append(random.choice(posible_n))\n",
      "    \n",
      "    return chord"
     ],
     "language": "python",
     "metadata": {},
     "outputs": [],
     "prompt_number": 236
    },
    {
     "cell_type": "code",
     "collapsed": false,
     "input": [
      "# Selection of the chord\n",
      "def selChord(ton, notesBass):\n",
      "    \"\"\"Select the chords from all the posibilities\"\"\"\n",
      "    listaOp = OPTIONS_M if ton[-1] == 'M' else OPTIONS_m\n",
      "    listaMod = MOD_M if ton[-1] == 'M' else MOD_m\n",
      "    prog = list()\n",
      "    \n",
      "    for note in notesBass:\n",
      "        name = note%12\n",
      "        grad = name-int(ton[:-1])\n",
      "        grad = math.ceil(((grad+12)%12) / 2)\n",
      "        num = (listaOp[grad][random.randint(0,len(listaOp[grad])-1)] + name +12) %12\n",
      "        grad = num-int(ton[:-1])\n",
      "        grad = math.ceil(((grad+12)%12) / 2)\n",
      "        name = '{}{}'.format(num, listaMod[grad])\n",
      "        prog.append([creatChord(name, note), grad])\n",
      "    return prog"
     ],
     "language": "python",
     "metadata": {},
     "outputs": [],
     "prompt_number": 237
    },
    {
     "cell_type": "code",
     "collapsed": false,
     "input": [
      "# Individual creation\n",
      "def newChordProg(ton, notes):\n",
      "    \"\"\"Create a new individual given the tonality and the base notes\"\"\"\n",
      "    chords = selChord(ton, notes)\n",
      "    for c in chords:\n",
      "        yield c"
     ],
     "language": "python",
     "metadata": {},
     "outputs": [],
     "prompt_number": 238
    },
    {
     "cell_type": "code",
     "collapsed": false,
     "input": [
      "def check_interval(chord):\n",
      "    \"\"\"Return the number of mistakes in the distance between the notes\"\"\"\n",
      "    res = 0\n",
      "    if chord[2] - chord[1] > 12 or chord[2]-chord[1] < 0:\n",
      "        res += 15\n",
      "    if chord[3] - chord[2] > 12 or chord[3]-chord[2] < 0:\n",
      "        res += 15\n",
      "        \n",
      "    if chord[1] == chord[2] or chord[2] == chord[3]:\n",
      "        res += 1.4\n",
      "    return res    "
     ],
     "language": "python",
     "metadata": {},
     "outputs": [],
     "prompt_number": 239
    },
    {
     "cell_type": "code",
     "collapsed": false,
     "input": [
      "def check_2_chords(ch1, ch2):\n",
      "    \"\"\"Return the number of mistakes in the intervals between 2 chords\"\"\"\n",
      "    res = 0\n",
      "    \n",
      "    # Check for 5\u00b0 and 8\u00b0\n",
      "    ite1 = map(lambda x,y: y-x, ch1[:-1], ch1[1:])\n",
      "    ite2 = map(lambda x,y: y-x, ch2[:-1], ch2[1:])\n",
      "    for inter1, inter2 in zip(ite1, ite2):\n",
      "        if inter1 == 7 and inter2 == 7:\n",
      "            res += 15\n",
      "        elif inter1 == 0 and inter2 == 0:\n",
      "            res += 15\n",
      "        elif inter1 == 12 and inter2 == 12:\n",
      "            res += 15\n",
      "    \n",
      "    # Check for big intervals, just to make it more \"human\" \n",
      "    for note1, note2 in zip(ch1[1:], ch2[1:]):\n",
      "        if abs(note1-note2) >= 7: # 7 equals 5\u00b0 interval\n",
      "            res += .7\n",
      "    \n",
      "    return res"
     ],
     "language": "python",
     "metadata": {},
     "outputs": [],
     "prompt_number": 240
    },
    {
     "cell_type": "code",
     "collapsed": false,
     "input": [
      "# Evaluation function\n",
      "def evalNumErr(ton, individual):\n",
      "    res = 0\n",
      "    for prev, item, nex in neighborhood(individual):\n",
      "        res += check_interval(item[0])\n",
      "        if prev == None:\n",
      "            if item[1] != 0:\n",
      "                res += 6\n",
      "            continue\n",
      "        else:\n",
      "            if prev[1] in [4, 6] and item[1] in [3, 1]:\n",
      "                res += 20\n",
      "            res += check_2_chords(prev[0], item[0])\n",
      "        if nex == None:\n",
      "            if item[1] in [1, 2, 3, 4, 5, 6]:\n",
      "                res += 6\n",
      "    return (res,)\n",
      "            "
     ],
     "language": "python",
     "metadata": {},
     "outputs": [],
     "prompt_number": 241
    },
    {
     "cell_type": "code",
     "collapsed": false,
     "input": [
      "# Mutant function\n",
      "def mutChangeNotes(ton, individual, indpb):\n",
      "    new_ind = toolbox.clone(individual)\n",
      "    for x in range(len(individual[0])):\n",
      "        if random.random() < indpb:\n",
      "            \n",
      "            listaOp = OPTIONS_M if ton[-1] == 'M' else OPTIONS_m\n",
      "            listaMod = MOD_M if ton[-1] == 'M' else MOD_m\n",
      "            \n",
      "            note = individual[x][0][0]\n",
      "            \n",
      "            name = note%12\n",
      "            grad = name-int(ton[:-1])\n",
      "            grad = math.ceil(((grad+12)%12) / 2)\n",
      "            num = (listaOp[grad][random.randint(0,len(listaOp[grad])-1)] + name +12) %12\n",
      "            grad = num-int(ton[:-1])\n",
      "            grad = math.ceil(((grad+12)%12) / 2)\n",
      "            name = '{}{}'.format(num, listaMod[grad])\n",
      "            \n",
      "            new_ind[x] = [creatChord(name, note), grad]\n",
      "    \n",
      "    del new_ind.fitness.values\n",
      "    return new_ind,"
     ],
     "language": "python",
     "metadata": {},
     "outputs": [],
     "prompt_number": 242
    },
    {
     "cell_type": "code",
     "collapsed": false,
     "input": [
      "def transform_lilypond(indiv):\n",
      "    \"\"\"Take one list of chords and print the it in lilypond notation\"\"\"\n",
      "    note_map = {0: 'c',\n",
      "                1: 'cis',\n",
      "                2: 'd',\n",
      "                3: 'dis',\n",
      "                4: 'e',\n",
      "                5: 'f',\n",
      "                6: 'fis',\n",
      "                7: 'g',\n",
      "                8: 'gis',\n",
      "                9: 'a',\n",
      "                10:'ais',\n",
      "                11:'b'\n",
      "                }\n",
      "    voces = [[], [], [], []]\n",
      "    \n",
      "    for chord in indiv:\n",
      "        for note, voce in zip(chord, voces):\n",
      "            \n",
      "            octave = (note // 12)-4\n",
      "            name_lily = note_map[note % 12]\n",
      "            if octave < 0:\n",
      "                name_lily += ',' * (octave * -1)\n",
      "            elif octave > 0:\n",
      "                name_lily += \"'\" * octave\n",
      "            voce.append(name_lily)\n",
      "      \n",
      "    print('{}|\\n{}|\\n{}|\\n{}|\\n'.format(*(' '.join(voce) for voce in reversed(voces))))"
     ],
     "language": "python",
     "metadata": {},
     "outputs": [],
     "prompt_number": 243
    },
    {
     "cell_type": "code",
     "collapsed": false,
     "input": [
      "def main():\n",
      "    pop = toolbox.population(n=500)\n",
      "    hof = tools.HallOfFame(3)\n",
      "    stats = tools.Statistics(lambda ind: ind.fitness.values)\n",
      "    stats.register('avg', numpy.mean)\n",
      "    stats.register('std', numpy.std)\n",
      "    stats.register('min', numpy.min)\n",
      "    stats.register('max', numpy.max)\n",
      "    \n",
      "    pop, log = algorithms.eaSimple(pop, toolbox, cxpb=0.5, mutpb=0.3, ngen=40, stats=stats, halloffame=hof, verbose=True)\n",
      "    while min(log.select('min')) != 0:\n",
      "        pop = toolbox.population(n=500)\n",
      "        pop, log = algorithms.eaSimple(pop, toolbox, cxpb=0.5, mutpb=0.3, ngen=40, stats=stats, halloffame=hof, verbose=True)\n",
      "        \n",
      "    for best in hof:\n",
      "        print([x[0] for x in best])\n",
      "        \n",
      "        transform_lilypond([x[0] for x in best])"
     ],
     "language": "python",
     "metadata": {},
     "outputs": [],
     "prompt_number": 244
    },
    {
     "cell_type": "code",
     "collapsed": false,
     "input": [
      "if __name__ == '__main__':\n",
      "    line = input('n[#b] notas ')\n",
      "    ton, notes = setTon(line)\n",
      "    print(ton, notes)\n",
      "    \n",
      "    # ========================= GA setup =========================\n",
      "    creator.create('FitnessMin', base.Fitness, weights=(-1.0,))\n",
      "    creator.create('Individual', list, fitness=creator.FitnessMin)\n",
      "\n",
      "    toolbox = base.Toolbox()\n",
      "    toolbox.register('creat_notes', newChordProg, ton, notes)\n",
      "    toolbox.register('individual', tools.initIterate, creator.Individual,\n",
      "                     toolbox.creat_notes)\n",
      "    toolbox.register('population', tools.initRepeat, list, toolbox.individual)\n",
      "\n",
      "    toolbox.register('evaluate', evalNumErr, ton)\n",
      "    toolbox.register('mate', tools.cxOnePoint)\n",
      "    toolbox.register('mutate', mutChangeNotes, ton, indpb=0.4)\n",
      "    toolbox.register('select', tools.selTournament, tournsize=3)\n",
      "    # =============================================================\n",
      "    \n",
      "    main()\n",
      "    \"\"\"\n",
      "    a = toolbox.individual()\n",
      "    print(a)\n",
      "    print(toolbox.evaluate(a))\n",
      "    b = toolbox.individual()\n",
      "    print(b)\n",
      "    print(toolbox.evaluate(b))\n",
      "    a,b = toolbox.mate(a,b)\n",
      "    print(a)\n",
      "    print(b)\n",
      "    print(\"_\"*20)\n",
      "    \n",
      "    a = toolbox.mutate(a)\n",
      "    print(a)\n",
      "    print(\"-\"*20)\n",
      "    \"\"\""
     ],
     "language": "python",
     "metadata": {},
     "outputs": [
      {
       "name": "stdout",
       "output_type": "stream",
       "stream": "stdout",
       "text": [
        "n[#b] notas 2# 50 43 49 50 52 45 49 50 43 45 50\n"
       ]
      },
      {
       "output_type": "stream",
       "stream": "stdout",
       "text": [
        "2M [50, 43, 49, 50, 52, 45, 49, 50, 43, 45, 50]\n",
        "gen\tnevals\tavg    \tstd   \tmin \tmax  \n",
        "0  \t500   \t194.977\t38.689\t89.7\t341.4"
       ]
      },
      {
       "output_type": "stream",
       "stream": "stdout",
       "text": [
        "\n",
        "1  \t314   \t164.38 \t30.3359\t80.7\t247.4"
       ]
      },
      {
       "output_type": "stream",
       "stream": "stdout",
       "text": [
        "\n",
        "2  \t307   \t139.452\t25.4568\t71.2\t225.3"
       ]
      },
      {
       "output_type": "stream",
       "stream": "stdout",
       "text": [
        "\n",
        "3  \t348   \t120.522\t24.8436\t46.5\t220.7"
       ]
      },
      {
       "output_type": "stream",
       "stream": "stdout",
       "text": [
        "\n",
        "4  \t316   \t102.645\t21.4351\t30.4\t177.4"
       ]
      },
      {
       "output_type": "stream",
       "stream": "stdout",
       "text": [
        "\n",
        "5  \t322   \t88.3904\t20.4291\t30.4\t167.9"
       ]
      },
      {
       "output_type": "stream",
       "stream": "stdout",
       "text": [
        "\n",
        "6  \t334   \t74.8898\t19.2757\t16.8\t136.1"
       ]
      },
      {
       "output_type": "stream",
       "stream": "stdout",
       "text": [
        "\n",
        "7  \t316   \t61.4346\t19.4712\t15.8\t154.3"
       ]
      },
      {
       "output_type": "stream",
       "stream": "stdout",
       "text": [
        "\n",
        "8  \t325   \t50.2412\t17.6388\t11.2\t129.2"
       ]
      },
      {
       "output_type": "stream",
       "stream": "stdout",
       "text": [
        "\n",
        "9  \t333   \t40.5102\t15.0794\t11.2\t137.6"
       ]
      },
      {
       "output_type": "stream",
       "stream": "stdout",
       "text": [
        "\n",
        "10 \t322   \t33.1338\t13.5771\t7.7 \t98.5 "
       ]
      },
      {
       "output_type": "stream",
       "stream": "stdout",
       "text": [
        "\n",
        "11 \t337   \t28.2368\t13.4933\t6.3 \t79.3 "
       ]
      },
      {
       "output_type": "stream",
       "stream": "stdout",
       "text": [
        "\n",
        "12 \t322   \t22.0924\t11.894 \t6.3 \t81.4 "
       ]
      },
      {
       "output_type": "stream",
       "stream": "stdout",
       "text": [
        "\n",
        "13 \t320   \t18.7302\t11.6028\t6.3 \t77.2 "
       ]
      },
      {
       "output_type": "stream",
       "stream": "stdout",
       "text": [
        "\n",
        "14 \t339   \t16.063 \t10.8872\t4.2 \t64.3 "
       ]
      },
      {
       "output_type": "stream",
       "stream": "stdout",
       "text": [
        "\n",
        "15 \t329   \t14.8556\t12.1937\t3.5 \t78.6 "
       ]
      },
      {
       "output_type": "stream",
       "stream": "stdout",
       "text": [
        "\n",
        "16 \t313   \t12.6438\t11.3339\t2.1 \t75.1 "
       ]
      },
      {
       "output_type": "stream",
       "stream": "stdout",
       "text": [
        "\n",
        "17 \t342   \t11.6864\t11.4062\t2.1 \t76.5 "
       ]
      },
      {
       "output_type": "stream",
       "stream": "stdout",
       "text": [
        "\n",
        "18 \t324   \t10.0998\t11.1796\t1.4 \t72.3 "
       ]
      },
      {
       "output_type": "stream",
       "stream": "stdout",
       "text": [
        "\n",
        "19 \t315   \t9.2148 \t11.3757\t1.4 \t72.3 "
       ]
      },
      {
       "output_type": "stream",
       "stream": "stdout",
       "text": [
        "\n",
        "20 \t325   \t7.7732 \t10.1174\t0.7 \t70.9 "
       ]
      },
      {
       "output_type": "stream",
       "stream": "stdout",
       "text": [
        "\n",
        "21 \t309   \t6.5432 \t9.16694\t0.7 \t56.6 "
       ]
      },
      {
       "output_type": "stream",
       "stream": "stdout",
       "text": [
        "\n",
        "22 \t345   \t7.5204 \t11.5396\t0.7 \t70.2 "
       ]
      },
      {
       "output_type": "stream",
       "stream": "stdout",
       "text": [
        "\n",
        "23 \t309   \t6.4354 \t10.5322\t0.7 \t63.5 "
       ]
      },
      {
       "output_type": "stream",
       "stream": "stdout",
       "text": [
        "\n",
        "24 \t329   \t6.3184 \t11.6117\t0.7 \t69.5 "
       ]
      },
      {
       "output_type": "stream",
       "stream": "stdout",
       "text": [
        "\n",
        "25 \t314   \t5.1248 \t9.43232\t0.7 \t54.5 "
       ]
      },
      {
       "output_type": "stream",
       "stream": "stdout",
       "text": [
        "\n",
        "26 \t326   \t6.0908 \t11.9216\t0.7 \t70.2 "
       ]
      },
      {
       "output_type": "stream",
       "stream": "stdout",
       "text": [
        "\n",
        "27 \t312   \t4.8156 \t10.5932\t0.7 \t69.5 "
       ]
      },
      {
       "output_type": "stream",
       "stream": "stdout",
       "text": [
        "\n",
        "28 \t335   \t4.3026 \t10.3208\t0.7 \t69.5 "
       ]
      },
      {
       "output_type": "stream",
       "stream": "stdout",
       "text": [
        "\n",
        "29 \t310   \t5.5358 \t11.6127\t0.7 \t69.5 "
       ]
      },
      {
       "output_type": "stream",
       "stream": "stdout",
       "text": [
        "\n",
        "30 \t314   \t5.1886 \t11.1015\t0.7 \t68.8 "
       ]
      },
      {
       "output_type": "stream",
       "stream": "stdout",
       "text": [
        "\n",
        "31 \t323   \t5.2254 \t11.5263\t0.7 \t70.2 "
       ]
      },
      {
       "output_type": "stream",
       "stream": "stdout",
       "text": [
        "\n",
        "32 \t348   \t4.299  \t9.65749\t0.7 \t69.5 "
       ]
      },
      {
       "output_type": "stream",
       "stream": "stdout",
       "text": [
        "\n",
        "33 \t332   \t5.1886 \t11.4517\t0.7 \t66.7 "
       ]
      },
      {
       "output_type": "stream",
       "stream": "stdout",
       "text": [
        "\n",
        "34 \t319   \t5.0914 \t11.2191\t0.7 \t69.5 "
       ]
      },
      {
       "output_type": "stream",
       "stream": "stdout",
       "text": [
        "\n",
        "35 \t322   \t5.4092 \t11.4269\t0.7 \t77.1 "
       ]
      },
      {
       "output_type": "stream",
       "stream": "stdout",
       "text": [
        "\n",
        "36 \t364   \t5.364  \t11.6759\t0.7 \t63.5 "
       ]
      },
      {
       "output_type": "stream",
       "stream": "stdout",
       "text": [
        "\n",
        "37 \t338   \t5.2228 \t11.5118\t0.7 \t68.8 "
       ]
      },
      {
       "output_type": "stream",
       "stream": "stdout",
       "text": [
        "\n",
        "38 \t318   \t5.3352 \t11.3987\t0.7 \t62.8 "
       ]
      },
      {
       "output_type": "stream",
       "stream": "stdout",
       "text": [
        "\n",
        "39 \t304   \t5.2688 \t11.1906\t0.7 \t70.2 "
       ]
      },
      {
       "output_type": "stream",
       "stream": "stdout",
       "text": [
        "\n",
        "40 \t330   \t6.002  \t12.3644\t0.7 \t70.2 "
       ]
      },
      {
       "output_type": "stream",
       "stream": "stdout",
       "text": [
        "\n",
        "gen\tnevals\tavg    \tstd    \tmin \tmax  \n",
        "0  \t500   \t190.525\t37.2765\t62.9\t304.7"
       ]
      },
      {
       "output_type": "stream",
       "stream": "stdout",
       "text": [
        "\n",
        "1  \t314   \t159.046\t31.1106\t50  \t244  "
       ]
      },
      {
       "output_type": "stream",
       "stream": "stdout",
       "text": [
        "\n",
        "2  \t320   \t134.409\t26.8176\t20.7\t208.8"
       ]
      },
      {
       "output_type": "stream",
       "stream": "stdout",
       "text": [
        "\n",
        "3  \t352   \t115.127\t24.8669\t29  \t183.1"
       ]
      },
      {
       "output_type": "stream",
       "stream": "stdout",
       "text": [
        "\n",
        "4  \t338   \t97.1082\t21.8272\t39.2\t170.7"
       ]
      },
      {
       "output_type": "stream",
       "stream": "stdout",
       "text": [
        "\n",
        "5  \t320   \t81.1564\t20.3987\t30.4\t152.4"
       ]
      },
      {
       "output_type": "stream",
       "stream": "stdout",
       "text": [
        "\n",
        "6  \t321   \t67.5518\t19.3748\t18.6\t156.8"
       ]
      },
      {
       "output_type": "stream",
       "stream": "stdout",
       "text": [
        "\n",
        "7  \t321   \t56.4992\t16.4808\t12.6\t110  "
       ]
      },
      {
       "output_type": "stream",
       "stream": "stdout",
       "text": [
        "\n",
        "8  \t324   \t46.956 \t16.5403\t11.2\t105.4"
       ]
      },
      {
       "output_type": "stream",
       "stream": "stdout",
       "text": [
        "\n",
        "9  \t338   \t37.8362\t14.1783\t9.1 \t103.2"
       ]
      },
      {
       "output_type": "stream",
       "stream": "stdout",
       "text": [
        "\n",
        "10 \t318   \t30.0766\t13.8601\t10.5\t101.7"
       ]
      },
      {
       "output_type": "stream",
       "stream": "stdout",
       "text": [
        "\n",
        "11 \t319   \t24.3162\t12.5051\t9.1 \t80.7 "
       ]
      },
      {
       "output_type": "stream",
       "stream": "stdout",
       "text": [
        "\n",
        "12 \t325   \t20.7964\t11.2539\t8.4 \t80.7 "
       ]
      },
      {
       "output_type": "stream",
       "stream": "stdout",
       "text": [
        "\n",
        "13 \t318   \t17.9726\t11.2113\t8.4 \t69.2 "
       ]
      },
      {
       "output_type": "stream",
       "stream": "stdout",
       "text": [
        "\n",
        "14 \t325   \t16.5788\t11.3519\t7.7 \t79.3 "
       ]
      },
      {
       "output_type": "stream",
       "stream": "stdout",
       "text": [
        "\n",
        "15 \t340   \t15.063 \t11.3808\t6.3 \t82.8 "
       ]
      },
      {
       "output_type": "stream",
       "stream": "stdout",
       "text": [
        "\n",
        "16 \t312   \t13.8462\t10.0889\t5.6 \t62.5 "
       ]
      },
      {
       "output_type": "stream",
       "stream": "stdout",
       "text": [
        "\n",
        "17 \t314   \t13.747 \t11.3787\t5.6 \t72.6 "
       ]
      },
      {
       "output_type": "stream",
       "stream": "stdout",
       "text": [
        "\n",
        "18 \t349   \t13.1942\t11.7053\t5.6 \t64.3 "
       ]
      },
      {
       "output_type": "stream",
       "stream": "stdout",
       "text": [
        "\n",
        "19 \t315   \t11.8386\t10.8068\t4.9 \t61.5 "
       ]
      },
      {
       "output_type": "stream",
       "stream": "stdout",
       "text": [
        "\n",
        "20 \t335   \t10.814 \t10.3018\t4.2 \t62.2 "
       ]
      },
      {
       "output_type": "stream",
       "stream": "stdout",
       "text": [
        "\n",
        "21 \t306   \t10.8842\t11.4633\t3.5 \t70.5 "
       ]
      },
      {
       "output_type": "stream",
       "stream": "stdout",
       "text": [
        "\n",
        "22 \t314   \t10.11  \t10.8691\t3.5 \t58.7 "
       ]
      },
      {
       "output_type": "stream",
       "stream": "stdout",
       "text": [
        "\n",
        "23 \t327   \t10.1832\t11.6969\t3.5 \t73   "
       ]
      },
      {
       "output_type": "stream",
       "stream": "stdout",
       "text": [
        "\n",
        "24 \t307   \t9.1852 \t10.577 \t3.5 \t59.4 "
       ]
      },
      {
       "output_type": "stream",
       "stream": "stdout",
       "text": [
        "\n",
        "25 \t326   \t9.1484 \t11.8955\t2.8 \t75.1 "
       ]
      },
      {
       "output_type": "stream",
       "stream": "stdout",
       "text": [
        "\n",
        "26 \t332   \t7.509  \t9.78894\t2.8 \t58   "
       ]
      },
      {
       "output_type": "stream",
       "stream": "stdout",
       "text": [
        "\n",
        "27 \t320   \t7.6776 \t11.0175\t2.8 \t73   "
       ]
      },
      {
       "output_type": "stream",
       "stream": "stdout",
       "text": [
        "\n",
        "28 \t325   \t7.9996 \t10.5015\t2.8 \t58.7 "
       ]
      },
      {
       "output_type": "stream",
       "stream": "stdout",
       "text": [
        "\n",
        "29 \t313   \t7.208  \t9.77674\t2.8 \t64.2 "
       ]
      },
      {
       "output_type": "stream",
       "stream": "stdout",
       "text": [
        "\n",
        "30 \t316   \t7.6114 \t11.1202\t2.8 \t72.3 "
       ]
      },
      {
       "output_type": "stream",
       "stream": "stdout",
       "text": [
        "\n",
        "31 \t338   \t8.1636 \t11.7864\t2.8 \t72.3 "
       ]
      },
      {
       "output_type": "stream",
       "stream": "stdout",
       "text": [
        "\n",
        "32 \t308   \t7.1268 \t10.3467\t2.8 \t56.6 "
       ]
      },
      {
       "output_type": "stream",
       "stream": "stdout",
       "text": [
        "\n",
        "33 \t326   \t6.6098 \t10.204 \t2.8 \t70.9 "
       ]
      },
      {
       "output_type": "stream",
       "stream": "stdout",
       "text": [
        "\n",
        "34 \t350   \t7.6504 \t11.4519\t2.8 \t72.3 "
       ]
      },
      {
       "output_type": "stream",
       "stream": "stdout",
       "text": [
        "\n",
        "35 \t312   \t7.273  \t11.4827\t2.8 \t70.2 "
       ]
      },
      {
       "output_type": "stream",
       "stream": "stdout",
       "text": [
        "\n",
        "36 \t330   \t7.2798 \t11.0533\t2.8 \t65.6 "
       ]
      },
      {
       "output_type": "stream",
       "stream": "stdout",
       "text": [
        "\n",
        "37 \t328   \t6.9888 \t10.1613\t2.8 \t64.9 "
       ]
      },
      {
       "output_type": "stream",
       "stream": "stdout",
       "text": [
        "\n",
        "38 \t323   \t6.9424 \t10.6004\t2.8 \t65.6 "
       ]
      },
      {
       "output_type": "stream",
       "stream": "stdout",
       "text": [
        "\n",
        "39 \t326   \t7.107  \t10.9453\t2.8 \t70.2 "
       ]
      },
      {
       "output_type": "stream",
       "stream": "stdout",
       "text": [
        "\n",
        "40 \t330   \t6.8628 \t10.5599\t2.8 \t64.9 "
       ]
      },
      {
       "output_type": "stream",
       "stream": "stdout",
       "text": [
        "\n",
        "gen\tnevals\tavg    \tstd    \tmin \tmax  \n",
        "0  \t500   \t191.657\t38.2777\t76.5\t306.7"
       ]
      },
      {
       "output_type": "stream",
       "stream": "stdout",
       "text": [
        "\n",
        "1  \t315   \t157.394\t32.2832\t61.5\t249.6"
       ]
      },
      {
       "output_type": "stream",
       "stream": "stdout",
       "text": [
        "\n",
        "2  \t326   \t132.337\t26.5207\t49.4\t215  "
       ]
      },
      {
       "output_type": "stream",
       "stream": "stdout",
       "text": [
        "\n",
        "3  \t322   \t111.585\t23.9552\t49.4\t187.1"
       ]
      },
      {
       "output_type": "stream",
       "stream": "stdout",
       "text": [
        "\n",
        "4  \t326   \t94.8566\t21.7895\t38.9\t182.9"
       ]
      },
      {
       "output_type": "stream",
       "stream": "stdout",
       "text": [
        "\n",
        "5  \t343   \t79.0048\t20.6098\t15.8\t148.7"
       ]
      },
      {
       "output_type": "stream",
       "stream": "stdout",
       "text": [
        "\n",
        "6  \t323   \t66.2224\t19.3254\t14.7\t137.2"
       ]
      },
      {
       "output_type": "stream",
       "stream": "stdout",
       "text": [
        "\n",
        "7  \t320   \t53.3254\t17.4834\t11.6\t131  "
       ]
      },
      {
       "output_type": "stream",
       "stream": "stdout",
       "text": [
        "\n",
        "8  \t346   \t42.9686\t15.3165\t5.6 \t101.8"
       ]
      },
      {
       "output_type": "stream",
       "stream": "stdout",
       "text": [
        "\n",
        "9  \t323   \t34.7304\t14.997 \t7.7 \t86   "
       ]
      },
      {
       "output_type": "stream",
       "stream": "stdout",
       "text": [
        "\n",
        "10 \t322   \t27.4608\t13.5679\t7.7 \t84.6 "
       ]
      },
      {
       "output_type": "stream",
       "stream": "stdout",
       "text": [
        "\n",
        "11 \t318   \t21.5082\t11.7585\t5.6 \t65   "
       ]
      },
      {
       "output_type": "stream",
       "stream": "stdout",
       "text": [
        "\n",
        "12 \t318   \t17.8056\t11.5525\t4.9 \t78.6 "
       ]
      },
      {
       "output_type": "stream",
       "stream": "stdout",
       "text": [
        "\n",
        "13 \t313   \t16.3306\t12.3342\t4.9 \t82.8 "
       ]
      },
      {
       "output_type": "stream",
       "stream": "stdout",
       "text": [
        "\n",
        "14 \t324   \t14.563 \t11.4532\t4.9 \t80.7 "
       ]
      },
      {
       "output_type": "stream",
       "stream": "stdout",
       "text": [
        "\n",
        "15 \t311   \t13.7766\t12.0831\t2.1 \t78.6 "
       ]
      },
      {
       "output_type": "stream",
       "stream": "stdout",
       "text": [
        "\n",
        "16 \t317   \t12.3194\t11.7303\t2.1 \t74.4 "
       ]
      },
      {
       "output_type": "stream",
       "stream": "stdout",
       "text": [
        "\n",
        "17 \t327   \t10.5102\t10.5551\t1.4 \t69.1 "
       ]
      },
      {
       "output_type": "stream",
       "stream": "stdout",
       "text": [
        "\n",
        "18 \t324   \t9.211  \t10.0753\t0   \t72.3 "
       ]
      },
      {
       "output_type": "stream",
       "stream": "stdout",
       "text": [
        "\n",
        "19 \t309   \t8.7888 \t11.8287\t0   \t71.6 "
       ]
      },
      {
       "output_type": "stream",
       "stream": "stdout",
       "text": [
        "\n",
        "20 \t329   \t7.0528 \t11.1476\t0   \t69.5 "
       ]
      },
      {
       "output_type": "stream",
       "stream": "stdout",
       "text": [
        "\n",
        "21 \t311   \t6.4248 \t10.8463\t0   \t55.9 "
       ]
      },
      {
       "output_type": "stream",
       "stream": "stdout",
       "text": [
        "\n",
        "22 \t322   \t6.3942 \t11.6862\t0   \t62.8 "
       ]
      },
      {
       "output_type": "stream",
       "stream": "stdout",
       "text": [
        "\n",
        "23 \t340   \t5.0432 \t9.75306\t0   \t49.9 "
       ]
      },
      {
       "output_type": "stream",
       "stream": "stdout",
       "text": [
        "\n",
        "24 \t317   \t5.5304 \t11.185 \t0   \t53.8 "
       ]
      },
      {
       "output_type": "stream",
       "stream": "stdout",
       "text": [
        "\n",
        "25 \t311   \t4.6296 \t10.3168\t0   \t53.1 "
       ]
      },
      {
       "output_type": "stream",
       "stream": "stdout",
       "text": [
        "\n",
        "26 \t341   \t4.3754 \t10.9145\t0   \t68.8 "
       ]
      },
      {
       "output_type": "stream",
       "stream": "stdout",
       "text": [
        "\n",
        "27 \t298   \t5.2728 \t12.2002\t0   \t69.5 "
       ]
      },
      {
       "output_type": "stream",
       "stream": "stdout",
       "text": [
        "\n",
        "28 \t335   \t3.7068 \t10.0163\t0   \t55.2 "
       ]
      },
      {
       "output_type": "stream",
       "stream": "stdout",
       "text": [
        "\n",
        "29 \t334   \t4.874  \t11.5593\t0   \t69.5 "
       ]
      },
      {
       "output_type": "stream",
       "stream": "stdout",
       "text": [
        "\n",
        "30 \t348   \t5.6378 \t13.2111\t0   \t68.1 "
       ]
      },
      {
       "output_type": "stream",
       "stream": "stdout",
       "text": [
        "\n",
        "31 \t327   \t3.9716 \t10.3457\t0   \t51.7 "
       ]
      },
      {
       "output_type": "stream",
       "stream": "stdout",
       "text": [
        "\n",
        "32 \t303   \t5.1116 \t12.2466\t0   \t77.8 "
       ]
      },
      {
       "output_type": "stream",
       "stream": "stdout",
       "text": [
        "\n",
        "33 \t341   \t4.4306 \t10.6808\t0   \t55.2 "
       ]
      },
      {
       "output_type": "stream",
       "stream": "stdout",
       "text": [
        "\n",
        "34 \t330   \t4.9942 \t12.1006\t0   \t62.8 "
       ]
      },
      {
       "output_type": "stream",
       "stream": "stdout",
       "text": [
        "\n",
        "35 \t316   \t4.7174 \t11.3392\t0   \t53.1 "
       ]
      },
      {
       "output_type": "stream",
       "stream": "stdout",
       "text": [
        "\n",
        "36 \t315   \t4.2428 \t11.3882\t0   \t68.8 "
       ]
      },
      {
       "output_type": "stream",
       "stream": "stdout",
       "text": [
        "\n",
        "37 \t325   \t3.8212 \t10.0514\t0   \t66.7 "
       ]
      },
      {
       "output_type": "stream",
       "stream": "stdout",
       "text": [
        "\n",
        "38 \t295   \t4.6154 \t11.3312\t0   \t68.1 "
       ]
      },
      {
       "output_type": "stream",
       "stream": "stdout",
       "text": [
        "\n",
        "39 \t324   \t3.7552 \t10.4716\t0   \t54.5 "
       ]
      },
      {
       "output_type": "stream",
       "stream": "stdout",
       "text": [
        "\n",
        "40 \t342   \t4.1318 \t10.5017\t0   \t66.7 "
       ]
      },
      {
       "output_type": "stream",
       "stream": "stdout",
       "text": [
        "\n",
        "[[50, 57, 62, 66], [43, 55, 59, 62], [49, 57, 61, 66], [50, 59, 66, 71], [52, 55, 67, 73], [45, 61, 66, 78], [49, 66, 69, 78], [50, 62, 66, 74], [43, 59, 67, 79], [45, 57, 64, 73], [50, 57, 69, 78]]\n",
        "fis' d' fis' b' cis'' fis'' fis'' d'' g'' cis'' fis''|\n",
        "d' b cis' fis' g' fis' a' fis' g' e' a'|\n",
        "a g a b g cis' fis' d' b a a|\n",
        "d g, cis d e a, cis d g, a, d|\n",
        "\n",
        "[[50, 57, 62, 66], [43, 52, 64, 71], [49, 57, 61, 66], [50, 59, 66, 71], [52, 55, 67, 73], [45, 61, 66, 78], [49, 66, 69, 78], [50, 62, 66, 74], [43, 59, 67, 79], [45, 57, 64, 73], [50, 57, 69, 78]]\n",
        "fis' b' fis' b' cis'' fis'' fis'' d'' g'' cis'' fis''|\n",
        "d' e' cis' fis' g' fis' a' fis' g' e' a'|\n",
        "a e a b g cis' fis' d' b a a|\n",
        "d g, cis d e a, cis d g, a, d|\n",
        "\n",
        "[[50, 57, 62, 66], [43, 55, 67, 71], [49, 57, 61, 66], [50, 59, 66, 71], [52, 55, 67, 73], [45, 61, 66, 78], [49, 66, 69, 78], [50, 62, 66, 74], [43, 59, 67, 79], [45, 57, 64, 73], [50, 57, 69, 78]]\n",
        "fis' b' fis' b' cis'' fis'' fis'' d'' g'' cis'' fis''|\n",
        "d' g' cis' fis' g' fis' a' fis' g' e' a'|\n",
        "a g a b g cis' fis' d' b a a|\n",
        "d g, cis d e a, cis d g, a, d|\n",
        "\n"
       ]
      }
     ],
     "prompt_number": 247
    },
    {
     "cell_type": "code",
     "collapsed": false,
     "input": [
      "human = [[43, 55, 62, 71], \n",
      "         [50, 54, 62, 69], \n",
      "         [48, 55, 64, 72], \n",
      "         [47, 55, 66, 74], \n",
      "         \n",
      "         [45, 57, 64, 72], \n",
      "         [43, 59, 67, 74], \n",
      "         [55, 60, 64, 72], \n",
      "         [52, 60, 67, 72], \n",
      "         \n",
      "         [50, 62, 66, 74], \n",
      "         [48, 64, 69, 76], \n",
      "         [52, 64, 67, 71], \n",
      "         [50, 57, 66, 69], \n",
      "         \n",
      "         [50, 54, 62, 69], \n",
      "         [43, 55, 62, 71], \n",
      "         [45, 52, 64, 72], \n",
      "         [47, 55, 62, 67], \n",
      "         \n",
      "         [48, 55, 64, 72], \n",
      "         [47, 55, 62, 71], \n",
      "         [48, 55, 64, 67], \n",
      "         [52, 55, 64, 71], \n",
      "         \n",
      "         [50, 57, 66, 74], \n",
      "         [38, 50, 62, 66], \n",
      "         [43, 55, 62, 67]\n",
      "         ]\n",
      "transform_lilypond(human)"
     ],
     "language": "python",
     "metadata": {},
     "outputs": [
      {
       "output_type": "stream",
       "stream": "stdout",
       "text": [
        "b' a' c'' d'' c'' d'' c'' c'' d'' e'' b' a' a' b' c'' g' c'' b' g' b' d'' fis' g'|\n",
        "d' d' e' fis' e' g' e' g' fis' a' g' fis' d' d' e' d' e' d' e' e' fis' d' d'|\n",
        "g fis g g a b c' c' d' e' e' a fis g e g g g g g a d g|\n",
        "g, d c b, a, g, g e d c e d d g, a, b, c b, c e d d, g,|\n",
        "\n"
       ]
      }
     ],
     "prompt_number": 246
    },
    {
     "cell_type": "heading",
     "level": 3,
     "metadata": {},
     "source": [
      "Buenos resultados:"
     ]
    },
    {
     "cell_type": "raw",
     "metadata": {},
     "source": [
      "1# 43 50 48 47 45 43 55 52 50 48 52 50 50 43 45 47 48 47 48 52 50 38 43\n",
      "\n",
      "PRIMERA GENERACI\u00d3N\n",
      "d' g' e'' b' d'' b' d'' e'' b' a'' c'' g' b' e' a' g' fis'' d' a' c'' b' d' g''|\n",
      "d' d' e' b' d' g' d' g' g' a' e' b b b c' g' a' g a' c' g' a g'|\n",
      "b b a d' fis d' b b g' a a d fis b a g c' d a g g' fis b|\n",
      "g, d c b, a, g, g e d c e d d g, a, b, c b, c e d d, g,|\n",
      "\n",
      "SEGUNDA GENERACI\u00d3N\n",
      "d'' a' fis' g' c' e' d' b' b' a' c''' d'' d'' e' e' g' fis'' d'' a'' e'' a' b' g'|\n",
      "d' d' a d' a b b g' b' a' c'' g' fis' b c' e' a' g' a' g' d' fis' b|\n",
      "b fis fis d e e g b b e' c' b a b e b fis' d' a b fis fis g|\n",
      "g, d c b, a, g, g e d c e d d g, a, b, c b, c e d d, g,|\n",
      "\n",
      "g' d' fis' b' fis' g' b' a' b' e'' a'' fis'' fis' e'' d'' b' fis'' b' g' b' g'' d'' d''|\n",
      "b fis a d' c' d' e' c' b' c'' c'' fis' d' e' fis' d' fis' d' g' g' g' g' d'|\n",
      "g d fis b fis b b a b g' e' b a e d' b a b e' b b b b|\n",
      "g, d c b, a, g, g e d c e d d g, a, b, c b, c e d d, g,|\n",
      "\n",
      "g' b' fis' b' fis' g' b' a' b' e'' a'' fis'' fis' e'' d'' b' fis'' b' g' b' g'' d'' d''|\n",
      "b d' a d' c' d' e' c' b' c'' c'' fis' d' e' fis' d' fis' d' g' g' g' g' d'|\n",
      "g g fis b fis b b a b g' e' b a e d' b a b e' b b b b|\n",
      "g, d c b, a, g, g e d c e d d g, a, b, c b, c e d d, g,|\n",
      "\n",
      "b' fis' a' fis' c'' b' g' g' fis'' a'' g'' fis'' b' c'' a' g' a' b' a' e'' a' d'' g'|\n",
      "d' b e' fis' a' d' d' b b' c'' b' b' b g' c' g' e' d' a' a' fis' g' b|\n",
      "d fis e d' a d' b e fis' fis' e' b b e' a g' e fis a c' a b g|\n",
      "g, d c b, a, g, g e d c e d d g, a, b, c b, c e d d, g,|\n",
      "\n",
      "\n",
      "\n",
      "2# 50 43 49 50 52 45 49 50 43 45 50\n",
      "\n",
      "d'' b' a' g' a' fis' cis' fis' g' cis' d''|\n",
      "fis' e' cis' d' cis' cis' a a cis' a d'|\n",
      "a e fis b a fis fis d e a fis|\n",
      "d g, cis d e a, cis d g, a, d|\n",
      "\n",
      "d'' g'' a'' fis'' cis'' e'' cis'' d'' d'' d'' fis''|\n",
      "a' cis'' a' b' g' cis'' a' fis' d' fis' a'|\n",
      "fis' e' e' fis' cis' e' fis' d' b d' a|\n",
      "d g, cis d e a, cis d g, a, d|\n",
      "\n",
      "# good\n",
      "d' cis' fis' b' a' a' g' fis' e' d' fis'|\n",
      "fis g a d' cis' cis' e' d' cis' a d'|\n",
      "d e cis g a a g a g fis d|\n",
      "d g, cis d e a, cis d g, a, d|\n",
      "\n",
      "# good\n",
      "fis'' e'' e'' b' a' a' fis' fis' e' d' fis'|\n",
      "a' e' a' fis' cis' cis' a b cis' a d'|\n",
      "a b e' b a a fis fis g fis d|\n",
      "d g, cis d e a, cis d g, a, d|\n",
      "\n",
      "# very good\n",
      "a' g' a' a' a' a' fis' b' b' a' d''|\n",
      "fis' d' fis' fis' cis' cis' cis' g' e' e' fis'|\n",
      "a b cis' a a a a g b cis' d'|\n",
      "d g, cis d e a, cis d g, a, d|\n"
     ]
    }
   ],
   "metadata": {}
  }
 ]
}