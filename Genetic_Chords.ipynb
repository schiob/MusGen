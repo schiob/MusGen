{
 "metadata": {
  "name": "",
  "signature": "sha256:e3b61e1a10fdac3202fd925f8485514fc71b89eb7d2cb5088099aba81d277175"
 },
 "nbformat": 3,
 "nbformat_minor": 0,
 "worksheets": [
  {
   "cells": [
    {
     "cell_type": "code",
     "collapsed": false,
     "input": [
      "# Casos de prueba:\n",
      "# 2# 54 67 69 61 62\n"
     ],
     "language": "python",
     "metadata": {},
     "outputs": [],
     "prompt_number": 271
    },
    {
     "cell_type": "code",
     "collapsed": false,
     "input": [
      "import random\n",
      "import math\n",
      "import numpy\n",
      "\n",
      "from deap import base\n",
      "from deap import creator\n",
      "from deap import tools\n",
      "from deap import algorithms"
     ],
     "language": "python",
     "metadata": {},
     "outputs": [],
     "prompt_number": 272
    },
    {
     "cell_type": "raw",
     "metadata": {},
     "source": [
      "si la armadura tiene sostenido se multiplica 7 por el n\u00famero de sostenidos mod(12)\n",
      "si la armadura tiene bemoles se multiplica 5 por el n\u00famero de bemoles mod(12)"
     ]
    },
    {
     "cell_type": "code",
     "collapsed": false,
     "input": [
      "# Global Variables\n",
      "OPTIONS_M = ((0,-3,5), (0,-3,5), (0,-4,5), (0,-3,6), (0,-3,5), (0,-4,5), (0,-4,5))\n",
      "OPTIONS_m = ((0,-4,5), (0,-4,5), (0,-3,5), (0,-3,5), (0,-4,5), (0,-3,6), (0,5))\n",
      "MOD_M = ('M','m','m','M','M','m','d')\n",
      "MOD_m = ('m','d','M','m','M','M','M')"
     ],
     "language": "python",
     "metadata": {},
     "outputs": [],
     "prompt_number": 273
    },
    {
     "cell_type": "code",
     "collapsed": false,
     "input": [
      "def neighborhood(iterable):\n",
      "    \"\"\"Generator gives the prev actual and next\"\"\"\n",
      "    iterator = iter(iterable)\n",
      "    prev = None\n",
      "    item = next(iterator)  # throws StopIteration if empty.\n",
      "    for nex in iterator:\n",
      "        yield (prev,item,nex)\n",
      "        prev = item\n",
      "        item = nex\n",
      "    yield (prev,item,None)"
     ],
     "language": "python",
     "metadata": {},
     "outputs": [],
     "prompt_number": 274
    },
    {
     "cell_type": "code",
     "collapsed": false,
     "input": [
      "# Tonality function\n",
      "def setTon(line):\n",
      "    \"\"\"Determine the tonality of the exercice\"\"\"\n",
      "    ton = line[:2]\n",
      "    notes = list(map(int, line[3:].split(' ')))\n",
      "    if ton[1] == '#':\n",
      "        ton = (int(ton[0])*7)%12\n",
      "    else:\n",
      "        ton = (int(ton[0])*5)%12\n",
      "    for note in notes:\n",
      "        if (ton+6)%12 == note%12:\n",
      "            ton = str((ton-3)%12)+'m'\n",
      "            break\n",
      "    else:\n",
      "        if ton-3 == notes[-1]%12:\n",
      "            ton = str((ton-3)%12)+'m'\n",
      "        else:\n",
      "            ton = str(ton)+'M'\n",
      "    return ton, notes"
     ],
     "language": "python",
     "metadata": {},
     "outputs": [],
     "prompt_number": 275
    },
    {
     "cell_type": "code",
     "collapsed": false,
     "input": [
      "def creatChord(nameC, noteF):\n",
      "    \"\"\"Create one chord given the name of the chord and the fundamental note\"\"\"\n",
      "    \n",
      "    num_funda = int(nameC[:-1])\n",
      "    if nameC[-1] == 'M':\n",
      "        val_notes = [num_funda, (num_funda+4)%12, (num_funda+7)%12]\n",
      "    elif nameC[-1] == 'm':\n",
      "        val_notes = [num_funda, (num_funda+3)%12, (num_funda+7)%12]\n",
      "    elif nameC[-1] == 'd':\n",
      "        val_notes = [num_funda, (num_funda+3)%12, (num_funda+6)%12]\n",
      "        \n",
      "    tenorR = list(range(48, 74))\n",
      "    contR = list(range(52, 77))\n",
      "    sopR = list(range(60, 86))\n",
      "    \n",
      "    # Depending in the bass note this are the options for the others voices\n",
      "    if noteF%12 == val_notes[0]:\n",
      "        opc = [[1,1,1], [2,1,0], [0,1,2]]\n",
      "    elif noteF%12 == val_notes[1]:\n",
      "        opc = [[1,0,2], [3,0,0], [2,0,1]]\n",
      "    elif noteF%12 == val_notes[2]:\n",
      "        opc = [[1,1,1], [2,1,0]]\n",
      "        \n",
      "    # Continua en la hoja suelta\n",
      "    # Conciderar usar random.choice()\n",
      "    \n",
      "    opc = random.choice(opc)\n",
      "    chordN = list()\n",
      "    for num, val in zip(opc, val_notes):\n",
      "        chordN += [val]*num\n",
      "    \n",
      "    random.shuffle(chordN)\n",
      "    \n",
      "    chord = [noteF,]\n",
      "    for nte, voce in zip(chordN, [tenorR, contR, sopR]):\n",
      "        posible_n = [x for x in voce if x%12 == nte]\n",
      "        chord.append(random.choice(posible_n))\n",
      "    \n",
      "    return chord"
     ],
     "language": "python",
     "metadata": {},
     "outputs": [],
     "prompt_number": 276
    },
    {
     "cell_type": "code",
     "collapsed": false,
     "input": [
      "# Selection of the chord\n",
      "def selChord(ton, notesBass):\n",
      "    \"\"\"Select the chords from all the posibilities\"\"\"\n",
      "    listaOp = OPTIONS_M if ton[-1] == 'M' else OPTIONS_m\n",
      "    listaMod = MOD_M if ton[-1] == 'M' else MOD_m\n",
      "    prog = list()\n",
      "    \n",
      "    for note in notesBass:\n",
      "        name = note%12\n",
      "        grad = name-int(ton[:-1])\n",
      "        grad = math.ceil(((grad+12)%12) / 2)\n",
      "        num = (listaOp[grad][random.randint(0,len(listaOp[grad])-1)] + name +12) %12\n",
      "        grad = num-int(ton[:-1])\n",
      "        grad = math.ceil(((grad+12)%12) / 2)\n",
      "        name = '{}{}'.format(num, listaMod[grad])\n",
      "        prog.append([creatChord(name, note), grad])\n",
      "    return prog"
     ],
     "language": "python",
     "metadata": {},
     "outputs": [],
     "prompt_number": 277
    },
    {
     "cell_type": "code",
     "collapsed": false,
     "input": [
      "# Individual creation\n",
      "def newChordProg(ton, notes):\n",
      "    \"\"\"Create a new individual given the tonality and the base notes\"\"\"\n",
      "    chords = selChord(ton, notes)\n",
      "    for c in chords:\n",
      "        yield c"
     ],
     "language": "python",
     "metadata": {},
     "outputs": [],
     "prompt_number": 278
    },
    {
     "cell_type": "code",
     "collapsed": false,
     "input": [
      "def check_interval(chord):\n",
      "    \"\"\"Return the number of mistakes in the distance between the notes\"\"\"\n",
      "    res = 0\n",
      "    if chord[2] - chord[1] > 12 or chord[2]-chord[1] < 0:\n",
      "        res += 5\n",
      "    if chord[3] - chord[2] > 12 or chord[3]-chord[2] < 0:\n",
      "        res += 5\n",
      "    return res    "
     ],
     "language": "python",
     "metadata": {},
     "outputs": [],
     "prompt_number": 279
    },
    {
     "cell_type": "code",
     "collapsed": false,
     "input": [
      "def check_2_chords(ch1, ch2):\n",
      "    \"\"\"Return the number of mistakes in the intervals between 2 chords\"\"\"\n",
      "    res = 0\n",
      "    ite1 = map(lambda x,y: y-x, ch1[:-1], ch1[1:])\n",
      "    ite2 = map(lambda x,y: y-x, ch2[:-1], ch2[1:])\n",
      "    for inter1, inter2 in zip(ite1, ite2):\n",
      "        if inter1 == 7 and inter2 == 7:\n",
      "            res += 5\n",
      "        elif inter1 == 12 and inter2 == 12:\n",
      "            res += 5\n",
      "    return res"
     ],
     "language": "python",
     "metadata": {},
     "outputs": [],
     "prompt_number": 280
    },
    {
     "cell_type": "code",
     "collapsed": false,
     "input": [
      "# Evaluation function\n",
      "def evalNumErr(ton, individual):\n",
      "    res = 0\n",
      "    for prev, item, nex in neighborhood(individual):\n",
      "        res += check_interval(item[0])\n",
      "        if prev == None:\n",
      "            if item[1] != 0:\n",
      "                res += 2\n",
      "            continue\n",
      "        else:\n",
      "            if prev[1] in [4, 6] and item[1] in [3, 2]:\n",
      "                res += 10\n",
      "            res += check_2_chords(prev[0], item[0])\n",
      "        if nex == None:\n",
      "            if item[1] in [1, 2, 3, 4, 6]:\n",
      "                res += 2\n",
      "    return (res,)\n",
      "            "
     ],
     "language": "python",
     "metadata": {},
     "outputs": [],
     "prompt_number": 281
    },
    {
     "cell_type": "code",
     "collapsed": false,
     "input": [
      "# Mutant function\n",
      "def mutChangeNotes(ton, individual, indpb):\n",
      "    new_ind = toolbox.clone(individual)\n",
      "    for x in range(len(individual[0])):\n",
      "        if random.random() < indpb:\n",
      "            \n",
      "            listaOp = OPTIONS_M if ton[-1] == 'M' else OPTIONS_m\n",
      "            listaMod = MOD_M if ton[-1] == 'M' else MOD_m\n",
      "            \n",
      "            note = individual[x][0][0]\n",
      "            \n",
      "            name = note%12\n",
      "            grad = name-int(ton[:-1])\n",
      "            grad = math.ceil(((grad+12)%12) / 2)\n",
      "            num = (listaOp[grad][random.randint(0,len(listaOp[grad])-1)] + name +12) %12\n",
      "            grad = num-int(ton[:-1])\n",
      "            grad = math.ceil(((grad+12)%12) / 2)\n",
      "            name = '{}{}'.format(num, listaMod[grad])\n",
      "            \n",
      "            new_ind[x] = [creatChord(name, note), grad]\n",
      "    \n",
      "    del new_ind.fitness.values\n",
      "    return new_ind,"
     ],
     "language": "python",
     "metadata": {},
     "outputs": [],
     "prompt_number": 282
    },
    {
     "cell_type": "code",
     "collapsed": false,
     "input": [
      "def main():\n",
      "    pop = toolbox.population(n=300)\n",
      "    hof = tools.HallOfFame(3)\n",
      "    stats = tools.Statistics(lambda ind: ind.fitness.values)\n",
      "    stats.register('avg', numpy.mean)\n",
      "    stats.register('std', numpy.std)\n",
      "    stats.register('min', numpy.min)\n",
      "    stats.register('max', numpy.max)\n",
      "    \n",
      "    pop, log = algorithms.eaSimple(pop, toolbox, cxpb=0.5, mutpb=0.2, ngen=40, stats=stats, halloffame=hof, verbose=True)\n",
      "    print(hof)"
     ],
     "language": "python",
     "metadata": {},
     "outputs": [],
     "prompt_number": 292
    },
    {
     "cell_type": "code",
     "collapsed": false,
     "input": [
      "if __name__ == '__main__':\n",
      "    line = input('n[#b] notas ')\n",
      "    ton, notes = setTon(line)\n",
      "    print(ton, notes)\n",
      "    \n",
      "    # ========================= GA setup =========================\n",
      "    creator.create('FitnessMin', base.Fitness, weights=(-1.0,))\n",
      "    creator.create('Individual', list, fitness=creator.FitnessMin)\n",
      "\n",
      "    toolbox = base.Toolbox()\n",
      "    toolbox.register('creat_notes', newChordProg, ton, notes)\n",
      "    toolbox.register('individual', tools.initIterate, creator.Individual,\n",
      "                     toolbox.creat_notes)\n",
      "    toolbox.register('population', tools.initRepeat, list, toolbox.individual)\n",
      "\n",
      "    toolbox.register('evaluate', evalNumErr, ton)\n",
      "    toolbox.register('mate', tools.cxOnePoint)\n",
      "    toolbox.register('mutate', mutChangeNotes, ton, indpb=0.05)\n",
      "    toolbox.register('select', tools.selTournament, tournsize=3)\n",
      "    # =============================================================\n",
      "    \n",
      "    main()\n",
      "    \"\"\"\n",
      "    a = toolbox.individual()\n",
      "    print(a)\n",
      "    print(toolbox.evaluate(a))\n",
      "    b = toolbox.individual()\n",
      "    print(b)\n",
      "    print(toolbox.evaluate(b))\n",
      "    a,b = toolbox.mate(a,b)\n",
      "    print(a)\n",
      "    print(b)\n",
      "    print(\"_\"*20)\n",
      "    \n",
      "    a = toolbox.mutate(a)\n",
      "    print(a)\n",
      "    print(\"-\"*20)\n",
      "    \"\"\""
     ],
     "language": "python",
     "metadata": {},
     "outputs": [
      {
       "name": "stdout",
       "output_type": "stream",
       "stream": "stdout",
       "text": [
        "n[#b] notas 2# 54 67 69 61 62\n"
       ]
      },
      {
       "output_type": "stream",
       "stream": "stdout",
       "text": [
        "2M [54, 67, 69, 61, 62]\n",
        "gen\tnevals\tavg    \tstd    \tmin\tmax\n",
        "0  \t300   \t30.3433\t9.62906\t5  \t57 "
       ]
      },
      {
       "output_type": "stream",
       "stream": "stdout",
       "text": [
        "\n",
        "1  \t178   \t22.7333\t7.37353\t5  \t42 "
       ]
      },
      {
       "output_type": "stream",
       "stream": "stdout",
       "text": [
        "\n",
        "2  \t182   \t17.1533\t5.94837\t5  \t42 "
       ]
      },
      {
       "output_type": "stream",
       "stream": "stdout",
       "text": [
        "\n",
        "3  \t194   \t12.2133\t5.30734\t0  \t30 "
       ]
      },
      {
       "output_type": "stream",
       "stream": "stdout",
       "text": [
        "\n",
        "4  \t177   \t7.96667\t4.49358\t0  \t22 "
       ]
      },
      {
       "output_type": "stream",
       "stream": "stdout",
       "text": [
        "\n",
        "5  \t147   \t4.52333\t3.5874 \t0  \t20 "
       ]
      },
      {
       "output_type": "stream",
       "stream": "stdout",
       "text": [
        "\n",
        "6  \t170   \t1.84667\t2.45285\t0  \t12 "
       ]
      },
      {
       "output_type": "stream",
       "stream": "stdout",
       "text": [
        "\n",
        "7  \t158   \t0.686667\t2.12175\t0  \t20 "
       ]
      },
      {
       "output_type": "stream",
       "stream": "stdout",
       "text": [
        "\n",
        "8  \t179   \t0.0966667\t0.77502\t0  \t10 "
       ]
      },
      {
       "output_type": "stream",
       "stream": "stdout",
       "text": [
        "\n",
        "9  \t165   \t0.223333 \t1.41896\t0  \t12 "
       ]
      },
      {
       "output_type": "stream",
       "stream": "stdout",
       "text": [
        "\n",
        "10 \t178   \t0.203333 \t1.07175\t0  \t10 "
       ]
      },
      {
       "output_type": "stream",
       "stream": "stdout",
       "text": [
        "\n",
        "11 \t181   \t0.163333 \t1.02469\t0  \t10 "
       ]
      },
      {
       "output_type": "stream",
       "stream": "stdout",
       "text": [
        "\n",
        "12 \t202   \t0.263333 \t1.42852\t0  \t10 "
       ]
      },
      {
       "output_type": "stream",
       "stream": "stdout",
       "text": [
        "\n",
        "13 \t187   \t0.163333 \t1.17615\t0  \t10 "
       ]
      },
      {
       "output_type": "stream",
       "stream": "stdout",
       "text": [
        "\n",
        "14 \t180   \t0.17     \t1.15229\t0  \t10 "
       ]
      },
      {
       "output_type": "stream",
       "stream": "stdout",
       "text": [
        "\n",
        "15 \t158   \t0.03     \t0.419245\t0  \t7  "
       ]
      },
      {
       "output_type": "stream",
       "stream": "stdout",
       "text": [
        "\n",
        "16 \t176   \t0.163333 \t1.10302 \t0  \t10 "
       ]
      },
      {
       "output_type": "stream",
       "stream": "stdout",
       "text": [
        "\n",
        "17 \t184   \t0.35     \t1.66158 \t0  \t12 "
       ]
      },
      {
       "output_type": "stream",
       "stream": "stdout",
       "text": [
        "\n",
        "18 \t169   \t0.106667 \t0.949713\t0  \t10 "
       ]
      },
      {
       "output_type": "stream",
       "stream": "stdout",
       "text": [
        "\n",
        "19 \t157   \t0.13     \t1.06134 \t0  \t12 "
       ]
      },
      {
       "output_type": "stream",
       "stream": "stdout",
       "text": [
        "\n",
        "20 \t200   \t0.133333 \t0.991071\t0  \t10 "
       ]
      },
      {
       "output_type": "stream",
       "stream": "stdout",
       "text": [
        "\n",
        "21 \t175   \t0.266667 \t1.45907 \t0  \t12 "
       ]
      },
      {
       "output_type": "stream",
       "stream": "stdout",
       "text": [
        "\n",
        "22 \t184   \t0.213333 \t1.29659 \t0  \t12 "
       ]
      },
      {
       "output_type": "stream",
       "stream": "stdout",
       "text": [
        "\n",
        "23 \t188   \t0.19     \t1.3015  \t0  \t12 "
       ]
      },
      {
       "output_type": "stream",
       "stream": "stdout",
       "text": [
        "\n",
        "24 \t192   \t0.2      \t1.27541 \t0  \t10 "
       ]
      },
      {
       "output_type": "stream",
       "stream": "stdout",
       "text": [
        "\n",
        "25 \t171   \t0.19     \t1.24923 \t0  \t10 "
       ]
      },
      {
       "output_type": "stream",
       "stream": "stdout",
       "text": [
        "\n",
        "26 \t204   \t0.21     \t1.38777 \t0  \t12 "
       ]
      },
      {
       "output_type": "stream",
       "stream": "stdout",
       "text": [
        "\n",
        "27 \t184   \t0.173333 \t1.17613 \t0  \t10 "
       ]
      },
      {
       "output_type": "stream",
       "stream": "stdout",
       "text": [
        "\n",
        "28 \t187   \t0.166667 \t1.14261 \t0  \t10 "
       ]
      },
      {
       "output_type": "stream",
       "stream": "stdout",
       "text": [
        "\n",
        "29 \t174   \t0.106667 \t0.984186\t0  \t12 "
       ]
      },
      {
       "output_type": "stream",
       "stream": "stdout",
       "text": [
        "\n",
        "30 \t191   \t0.21     \t1.54679 \t0  \t15 "
       ]
      },
      {
       "output_type": "stream",
       "stream": "stdout",
       "text": [
        "\n",
        "31 \t159   \t0.173333 \t1.20414 \t0  \t12 "
       ]
      },
      {
       "output_type": "stream",
       "stream": "stdout",
       "text": [
        "\n",
        "32 \t193   \t0.18     \t1.30164 \t0  \t12 "
       ]
      },
      {
       "output_type": "stream",
       "stream": "stdout",
       "text": [
        "\n",
        "33 \t165   \t0.183333 \t1.31011 \t0  \t10 "
       ]
      },
      {
       "output_type": "stream",
       "stream": "stdout",
       "text": [
        "\n",
        "34 \t172   \t0.04     \t0.495042\t0  \t7  "
       ]
      },
      {
       "output_type": "stream",
       "stream": "stdout",
       "text": [
        "\n",
        "35 \t172   \t0.203333 \t1.41962 \t0  \t12 "
       ]
      },
      {
       "output_type": "stream",
       "stream": "stdout",
       "text": [
        "\n",
        "36 \t167   \t0.173333 \t1.17613 \t0  \t10 "
       ]
      },
      {
       "output_type": "stream",
       "stream": "stdout",
       "text": [
        "\n",
        "37 \t172   \t0.223333 \t1.38328 \t0  \t12 "
       ]
      },
      {
       "output_type": "stream",
       "stream": "stdout",
       "text": [
        "\n",
        "38 \t175   \t0.04     \t0.495042\t0  \t7  "
       ]
      },
      {
       "output_type": "stream",
       "stream": "stdout",
       "text": [
        "\n",
        "39 \t199   \t0.17     \t1.13773 \t0  \t10 "
       ]
      },
      {
       "output_type": "stream",
       "stream": "stdout",
       "text": [
        "\n",
        "40 \t191   \t0.123333 \t1.02378 \t0  \t12 "
       ]
      },
      {
       "output_type": "stream",
       "stream": "stdout",
       "text": [
        "\n",
        "[[[[54, 62, 62, 74], 0], [[67, 50, 59, 67], 3], [[69, 66, 69, 74], 0], [[61, 49, 55, 64], 6], [[62, 59, 59, 71], 5]], [[[54, 62, 62, 74], 0], [[67, 50, 59, 67], 3], [[69, 62, 66, 74], 0], [[61, 49, 55, 64], 6], [[62, 71, 71, 83], 5]], [[[54, 57, 57, 62], 0], [[67, 67, 76, 85], 6], [[69, 57, 61, 69], 4], [[61, 49, 55, 64], 6], [[62, 59, 66, 71], 5]]]\n"
       ]
      }
     ],
     "prompt_number": 293
    },
    {
     "cell_type": "code",
     "collapsed": false,
     "input": [],
     "language": "python",
     "metadata": {},
     "outputs": [],
     "prompt_number": 284
    }
   ],
   "metadata": {}
  }
 ]
}