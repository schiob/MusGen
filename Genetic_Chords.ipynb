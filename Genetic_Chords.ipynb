{
 "metadata": {
  "name": "",
  "signature": "sha256:07fe0946eef58c0280eedb3f45ec35602b236abb01a7e379232ef7351cd162ef"
 },
 "nbformat": 3,
 "nbformat_minor": 0,
 "worksheets": [
  {
   "cells": [
    {
     "cell_type": "code",
     "collapsed": false,
     "input": [
      "import random\n",
      "\n",
      "from deap import base\n",
      "from deap import creator\n",
      "from deap import tools\n",
      "from deap import algorithms"
     ],
     "language": "python",
     "metadata": {},
     "outputs": [],
     "prompt_number": 1
    },
    {
     "cell_type": "raw",
     "metadata": {},
     "source": [
      "si la armadura tiene sostenido se multiplica 7 por el n\u00famero de sostenidos mod(12)\n",
      "si la armadura tiene bemoles se multiplica 5 por el n\u00famero de bemoles mod(12)"
     ]
    },
    {
     "cell_type": "code",
     "collapsed": false,
     "input": [
      "# Tonality function\n",
      "def setTon(line):\n",
      "    global ton, notes\n",
      "    ton = line[:2]\n",
      "    notes = list(map(int, line[3:].split(' ')))\n",
      "    if ton[1] == '#':\n",
      "        ton = (int(ton[0])*7)%12\n",
      "    else:\n",
      "        ton = (int(ton[0])*5)%12\n",
      "    for note in notes:\n",
      "        if (ton+6)%12 == note%12:\n",
      "            ton = str((ton-3)%12)+'m'\n",
      "            break\n",
      "    else:\n",
      "        if ton-3 == notes[-1]%12:\n",
      "            ton = str((ton-3)%12)+'m'\n",
      "        else:\n",
      "            ton = str(ton)+'M'"
     ],
     "language": "python",
     "metadata": {},
     "outputs": [],
     "prompt_number": 2
    },
    {
     "cell_type": "code",
     "collapsed": false,
     "input": [
      "# ---- PENDIENTE ----\n",
      "def newChord(ton, noteF):\n",
      "    \"\"\" Toma la nota del bajo, dependiendo de la tonalidad hay 2 sets de posibles acordes. \n",
      "        Una vez escogido el acorde este se ensambla\"\"\"\n",
      "    return [ton, noteF, noteF+1, noteF+2]"
     ],
     "language": "python",
     "metadata": {},
     "outputs": [],
     "prompt_number": 10
    },
    {
     "cell_type": "code",
     "collapsed": false,
     "input": [
      "# Individual creation\n",
      "def newChordProg(ton, notes):\n",
      "    chords = [newChord(ton, note) for note in notes]\n",
      "    for c in chords:\n",
      "        yield c"
     ],
     "language": "python",
     "metadata": {},
     "outputs": [],
     "prompt_number": 12
    },
    {
     "cell_type": "code",
     "collapsed": false,
     "input": [
      "# Evaluation function\n",
      "def evalNumErr(individual):\n",
      "    pass"
     ],
     "language": "python",
     "metadata": {},
     "outputs": [],
     "prompt_number": 5
    },
    {
     "cell_type": "code",
     "collapsed": false,
     "input": [
      "# Mutant function\n",
      "def mutChangeNotes(individual, indpb):\n",
      "    pass"
     ],
     "language": "python",
     "metadata": {},
     "outputs": [],
     "prompt_number": 6
    },
    {
     "cell_type": "code",
     "collapsed": false,
     "input": [
      "def main():\n",
      "    pop = toolbox.population(n=300)\n",
      "    hof = tools.HallOfFame(1)\n",
      "    stats = tools.Statistics(lambda ind: ind.fitness.values)\n",
      "    stats.register('avg', numpy.mean)\n",
      "    stats.register('std', numpy.std)\n",
      "    stats.register('min', numpy.min)\n",
      "    stats.register('max', numpy.max)\n",
      "    \n",
      "    pop, log = algorithms.eaSimple(pop, toolbox, cxpb=0.5, mutpb=0.2, ngen=40, stats=stats, halloffame=hof, verbose=True)"
     ],
     "language": "python",
     "metadata": {},
     "outputs": [],
     "prompt_number": 7
    },
    {
     "cell_type": "code",
     "collapsed": false,
     "input": [
      "if __name__ == '__main__':\n",
      "    line = input('n[#b] notas ')\n",
      "    setTon(line)\n",
      "    print(ton, notes)\n",
      "    \n",
      "    # ========================= GA setup =========================\n",
      "    creator.create('FitnessMin', base.Fitness, weights=(-1.0,))\n",
      "    creator.create('Individual', list, fitness=creator.FitnessMin)\n",
      "\n",
      "    toolbox = base.Toolbox()\n",
      "    toolbox.register('creat_notes', newChordProg, ton, notes)\n",
      "    toolbox.register('individual', tools.initIterate, creator.Individual,\n",
      "                     toolbox.creat_notes)\n",
      "    toolbox.register('population', tools.initRepeat, list, toolbox.individual)\n",
      "\n",
      "    toolbox.register('evaluate', evalNumErr)\n",
      "    toolbox.register('mate', tools.cxTwoPoint)\n",
      "    toolbox.register('mutate', mutChangeNotes, indpb=0.05)\n",
      "    toolbox.register('select', tools.selTournament, tournsize=3)\n",
      "    # =============================================================\n",
      "    \n",
      "    print(toolbox.individual())\n",
      "    "
     ],
     "language": "python",
     "metadata": {},
     "outputs": [
      {
       "name": "stdout",
       "output_type": "stream",
       "stream": "stdout",
       "text": [
        "n[#b] notas 1# 60 49 20 40\n"
       ]
      },
      {
       "output_type": "stream",
       "stream": "stdout",
       "text": [
        "4m [60, 49, 20, 40]\n",
        "[['4m', 60, 61, 62], ['4m', 49, 50, 51], ['4m', 20, 21, 22], ['4m', 40, 41, 42]]\n"
       ]
      }
     ],
     "prompt_number": 14
    }
   ],
   "metadata": {}
  }
 ]
}