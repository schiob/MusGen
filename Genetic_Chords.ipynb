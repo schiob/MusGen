{
 "metadata": {
  "name": "",
  "signature": "sha256:f0435463090ec554df55b6800fe1256869518a33d7dd728b78970bdd60d14aa8"
 },
 "nbformat": 3,
 "nbformat_minor": 0,
 "worksheets": [
  {
   "cells": [
    {
     "cell_type": "code",
     "collapsed": false,
     "input": [
      "# Casos de prueba:\n",
      "# 2# 62 67 69 62 61\n"
     ],
     "language": "python",
     "metadata": {},
     "outputs": [],
     "prompt_number": 52
    },
    {
     "cell_type": "code",
     "collapsed": false,
     "input": [
      "import random\n",
      "import math\n",
      "\n",
      "from deap import base\n",
      "from deap import creator\n",
      "from deap import tools\n",
      "from deap import algorithms"
     ],
     "language": "python",
     "metadata": {},
     "outputs": [],
     "prompt_number": 31
    },
    {
     "cell_type": "raw",
     "metadata": {},
     "source": [
      "si la armadura tiene sostenido se multiplica 7 por el n\u00famero de sostenidos mod(12)\n",
      "si la armadura tiene bemoles se multiplica 5 por el n\u00famero de bemoles mod(12)"
     ]
    },
    {
     "cell_type": "code",
     "collapsed": false,
     "input": [
      "# Global Variables\n",
      "global ton, notes\n",
      "OPTIONS_M = ((0,-3,5), (0,-3,5), (0,-4,5), (0,-3,6), (0,-3,5), (0,-4,5), (0,-4,5))\n",
      "OPTIONS_m = ((0,-4,5), (0,-4,5), (0,-3,5), (0,-3,5), (0,-4,5), (0,-3,6), (0,5))\n",
      "MOD_M = ('M','m','m','M','M','m','d')\n",
      "MOD_m = ('m','d','M','m','M','M','M')"
     ],
     "language": "python",
     "metadata": {},
     "outputs": [],
     "prompt_number": 16
    },
    {
     "cell_type": "code",
     "collapsed": false,
     "input": [
      "# Tonality function\n",
      "def setTon(line):\n",
      "    global ton, notes\n",
      "    ton = line[:2]\n",
      "    notes = list(map(int, line[3:].split(' ')))\n",
      "    if ton[1] == '#':\n",
      "        ton = (int(ton[0])*7)%12\n",
      "    else:\n",
      "        ton = (int(ton[0])*5)%12\n",
      "    for note in notes:\n",
      "        if (ton+6)%12 == note%12:\n",
      "            ton = str((ton-3)%12)+'m'\n",
      "            break\n",
      "    else:\n",
      "        if ton-3 == notes[-1]%12:\n",
      "            ton = str((ton-3)%12)+'m'\n",
      "        else:\n",
      "            ton = str(ton)+'M'"
     ],
     "language": "python",
     "metadata": {},
     "outputs": [],
     "prompt_number": 17
    },
    {
     "cell_type": "code",
     "collapsed": false,
     "input": [
      "def creatChord(nameC, noteF):\n",
      "    return [nameC, noteF]"
     ],
     "language": "python",
     "metadata": {},
     "outputs": [],
     "prompt_number": 64
    },
    {
     "cell_type": "code",
     "collapsed": false,
     "input": [
      "# Selection of the chord\n",
      "def selChord(ton, notesBass):\n",
      "    listaOp = OPTIONS_M if ton[-1] == 'M' else OPTIONS_m\n",
      "    listaMod = MOD_M if ton[-1] == 'M' else MOD_m\n",
      "    prog = list()\n",
      "    \n",
      "    for note in notesBass:\n",
      "        name = note%12\n",
      "        grad = name-int(ton[:-1])\n",
      "        grad = math.ceil(((grad+12)%12) / 2)\n",
      "        num = (listaOp[grad][random.randint(0,len(listaOp[grad])-1)] + name +12) %12\n",
      "        grad = num-int(ton[:-1])\n",
      "        grad = math.ceil(((grad+12)%12) / 2)\n",
      "        name = '{}{}'.format(num, listaMod[grad])\n",
      "        prog.append(creatChord(name, note))\n",
      "    return prog"
     ],
     "language": "python",
     "metadata": {},
     "outputs": [],
     "prompt_number": 66
    },
    {
     "cell_type": "code",
     "collapsed": false,
     "input": [
      "# Individual creation\n",
      "def newChordProg(ton, notes):\n",
      "    chords = selChord(ton, notes)\n",
      "    for c in chords:\n",
      "        yield c"
     ],
     "language": "python",
     "metadata": {},
     "outputs": [],
     "prompt_number": 20
    },
    {
     "cell_type": "code",
     "collapsed": false,
     "input": [
      "# Evaluation function\n",
      "def evalNumErr(individual):\n",
      "    pass"
     ],
     "language": "python",
     "metadata": {},
     "outputs": [],
     "prompt_number": 21
    },
    {
     "cell_type": "code",
     "collapsed": false,
     "input": [
      "# Mutant function\n",
      "def mutChangeNotes(individual, indpb):\n",
      "    pass"
     ],
     "language": "python",
     "metadata": {},
     "outputs": [],
     "prompt_number": 22
    },
    {
     "cell_type": "code",
     "collapsed": false,
     "input": [
      "def main():\n",
      "    pop = toolbox.population(n=300)\n",
      "    hof = tools.HallOfFame(1)\n",
      "    stats = tools.Statistics(lambda ind: ind.fitness.values)\n",
      "    stats.register('avg', numpy.mean)\n",
      "    stats.register('std', numpy.std)\n",
      "    stats.register('min', numpy.min)\n",
      "    stats.register('max', numpy.max)\n",
      "    \n",
      "    pop, log = algorithms.eaSimple(pop, toolbox, cxpb=0.5, mutpb=0.2, ngen=40, stats=stats, halloffame=hof, verbose=True)"
     ],
     "language": "python",
     "metadata": {},
     "outputs": [],
     "prompt_number": 23
    },
    {
     "cell_type": "code",
     "collapsed": false,
     "input": [
      "if __name__ == '__main__':\n",
      "    line = input('n[#b] notas ')\n",
      "    setTon(line)\n",
      "    print(ton, notes)\n",
      "    \n",
      "    # ========================= GA setup =========================\n",
      "    creator.create('FitnessMin', base.Fitness, weights=(-1.0,))\n",
      "    creator.create('Individual', list, fitness=creator.FitnessMin)\n",
      "\n",
      "    toolbox = base.Toolbox()\n",
      "    toolbox.register('creat_notes', newChordProg, ton, notes)\n",
      "    toolbox.register('individual', tools.initIterate, creator.Individual,\n",
      "                     toolbox.creat_notes)\n",
      "    toolbox.register('population', tools.initRepeat, list, toolbox.individual)\n",
      "\n",
      "    toolbox.register('evaluate', evalNumErr)\n",
      "    toolbox.register('mate', tools.cxTwoPoint)\n",
      "    toolbox.register('mutate', mutChangeNotes, indpb=0.05)\n",
      "    toolbox.register('select', tools.selTournament, tournsize=3)\n",
      "    # =============================================================\n",
      "    \n",
      "    print(toolbox.individual())\n",
      "    "
     ],
     "language": "python",
     "metadata": {},
     "outputs": [
      {
       "name": "stdout",
       "output_type": "stream",
       "stream": "stdout",
       "text": [
        "n[#b] notas 2# 62 67 69 62 61\n"
       ]
      },
      {
       "output_type": "stream",
       "stream": "stdout",
       "text": [
        "2M [62, 67, 69, 62, 61]\n",
        "[['7M', 62], ['4m', 67], ['6m', 69], ['7M', 62], ['1d', 61]]\n"
       ]
      }
     ],
     "prompt_number": 67
    }
   ],
   "metadata": {}
  }
 ]
}