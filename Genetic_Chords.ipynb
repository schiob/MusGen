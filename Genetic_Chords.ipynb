{
 "metadata": {
  "name": "",
  "signature": "sha256:07b2307e1c4bc08f5cdeb7595621571662bd9b471e1070667a526161b3a724b1"
 },
 "nbformat": 3,
 "nbformat_minor": 0,
 "worksheets": [
  {
   "cells": [
    {
     "cell_type": "code",
     "collapsed": false,
     "input": [
      "# Casos de prueba:\n",
      "# 2# 54 67 69 61 62\n",
      "# 1# 43 50 48 47 45 43 55 52 50 48 52 50 50 43 45 47 48 47 48 52 50 38 43\n"
     ],
     "language": "python",
     "metadata": {},
     "outputs": [],
     "prompt_number": 184
    },
    {
     "cell_type": "code",
     "collapsed": false,
     "input": [
      "import random\n",
      "import math\n",
      "import numpy\n",
      "\n",
      "from deap import base\n",
      "from deap import creator\n",
      "from deap import tools\n",
      "from deap import algorithms"
     ],
     "language": "python",
     "metadata": {},
     "outputs": [],
     "prompt_number": 185
    },
    {
     "cell_type": "raw",
     "metadata": {},
     "source": [
      "si la armadura tiene sostenido se multiplica 7 por el n\u00famero de sostenidos mod(12)\n",
      "si la armadura tiene bemoles se multiplica 5 por el n\u00famero de bemoles mod(12)"
     ]
    },
    {
     "cell_type": "code",
     "collapsed": false,
     "input": [
      "# Global Variables\n",
      "OPTIONS_M = ((0,-3,5), (0,-3,5), (0,-4,5), (0,-3,6), (0,-3,5), (0,-4,5), (0,-4,5))\n",
      "OPTIONS_m = ((0,-4,5), (0,-4,5), (0,-3,5), (0,-3,5), (0,-4,5), (0,-3,6), (0,5))\n",
      "MOD_M = ('M','m','m','M','M','m','d')\n",
      "MOD_m = ('m','d','M','m','M','M','M')"
     ],
     "language": "python",
     "metadata": {},
     "outputs": [],
     "prompt_number": 186
    },
    {
     "cell_type": "code",
     "collapsed": false,
     "input": [
      "def neighborhood(iterable):\n",
      "    \"\"\"Generator gives the prev actual and next\"\"\"\n",
      "    iterator = iter(iterable)\n",
      "    prev = None\n",
      "    item = next(iterator)  # throws StopIteration if empty.\n",
      "    for nex in iterator:\n",
      "        yield (prev,item,nex)\n",
      "        prev = item\n",
      "        item = nex\n",
      "    yield (prev,item,None)"
     ],
     "language": "python",
     "metadata": {},
     "outputs": [],
     "prompt_number": 187
    },
    {
     "cell_type": "code",
     "collapsed": false,
     "input": [
      "# Tonality function\n",
      "def setTon(line):\n",
      "    \"\"\"Determine the tonality of the exercice\"\"\"\n",
      "    ton = line[:2]\n",
      "    notes = list(map(int, line[3:].split(' ')))\n",
      "    if ton[1] == '#':\n",
      "        ton = (int(ton[0])*7)%12\n",
      "    else:\n",
      "        ton = (int(ton[0])*5)%12\n",
      "    for note in notes:\n",
      "        if (ton+6)%12 == note%12:\n",
      "            ton = str((ton-3)%12)+'m'\n",
      "            break\n",
      "    else:\n",
      "        if ton-3 == notes[-1]%12:\n",
      "            ton = str((ton-3)%12)+'m'\n",
      "        else:\n",
      "            ton = str(ton)+'M'\n",
      "    return ton, notes"
     ],
     "language": "python",
     "metadata": {},
     "outputs": [],
     "prompt_number": 188
    },
    {
     "cell_type": "code",
     "collapsed": false,
     "input": [
      "def creatChord(nameC, noteF):\n",
      "    \"\"\"Create one chord given the name of the chord and the fundamental note\"\"\"\n",
      "    \n",
      "    num_funda = int(nameC[:-1])\n",
      "    if nameC[-1] == 'M':\n",
      "        val_notes = [num_funda, (num_funda+4)%12, (num_funda+7)%12]\n",
      "    elif nameC[-1] == 'm':\n",
      "        val_notes = [num_funda, (num_funda+3)%12, (num_funda+7)%12]\n",
      "    elif nameC[-1] == 'd':\n",
      "        val_notes = [num_funda, (num_funda+3)%12, (num_funda+6)%12]\n",
      "        \n",
      "    tenorR = list(range(48, 69))\n",
      "    contR = list(range(52, 77))\n",
      "    sopR = list(range(60, 86))\n",
      "    \n",
      "    # Depending in the bass note this are the options for the others voices\n",
      "    if noteF%12 == val_notes[0]:\n",
      "        opc = [[1,1,1], [2,1,0], [0,1,2]]\n",
      "    elif noteF%12 == val_notes[1]:\n",
      "        opc = [[1,0,2], [3,0,0], [2,0,1]]\n",
      "    elif noteF%12 == val_notes[2]:\n",
      "        opc = [[1,1,1], [2,1,0]]\n",
      "    \n",
      "    opc = random.choice(opc)\n",
      "    chordN = list()\n",
      "    for num, val in zip(opc, val_notes):\n",
      "        chordN += [val]*num\n",
      "    \n",
      "    random.shuffle(chordN)\n",
      "    \n",
      "    chord = [noteF,]\n",
      "    for nte, voce in zip(chordN, [tenorR, contR, sopR]):\n",
      "        posible_n = [x for x in voce if x%12 == nte]\n",
      "        chord.append(random.choice(posible_n))\n",
      "    \n",
      "    return chord"
     ],
     "language": "python",
     "metadata": {},
     "outputs": [],
     "prompt_number": 189
    },
    {
     "cell_type": "code",
     "collapsed": false,
     "input": [
      "# Selection of the chord\n",
      "def selChord(ton, notesBass):\n",
      "    \"\"\"Select the chords from all the posibilities\"\"\"\n",
      "    listaOp = OPTIONS_M if ton[-1] == 'M' else OPTIONS_m\n",
      "    listaMod = MOD_M if ton[-1] == 'M' else MOD_m\n",
      "    prog = list()\n",
      "    \n",
      "    for note in notesBass:\n",
      "        name = note%12\n",
      "        grad = name-int(ton[:-1])\n",
      "        grad = math.ceil(((grad+12)%12) / 2)\n",
      "        num = (listaOp[grad][random.randint(0,len(listaOp[grad])-1)] + name +12) %12\n",
      "        grad = num-int(ton[:-1])\n",
      "        grad = math.ceil(((grad+12)%12) / 2)\n",
      "        name = '{}{}'.format(num, listaMod[grad])\n",
      "        prog.append([creatChord(name, note), grad])\n",
      "    return prog"
     ],
     "language": "python",
     "metadata": {},
     "outputs": [],
     "prompt_number": 190
    },
    {
     "cell_type": "code",
     "collapsed": false,
     "input": [
      "# Individual creation\n",
      "def newChordProg(ton, notes):\n",
      "    \"\"\"Create a new individual given the tonality and the base notes\"\"\"\n",
      "    chords = selChord(ton, notes)\n",
      "    for c in chords:\n",
      "        yield c"
     ],
     "language": "python",
     "metadata": {},
     "outputs": [],
     "prompt_number": 191
    },
    {
     "cell_type": "code",
     "collapsed": false,
     "input": [
      "def check_interval(chord):\n",
      "    \"\"\"Return the number of mistakes in the distance between the notes\"\"\"\n",
      "    res = 0\n",
      "    if chord[2] - chord[1] > 12 or chord[2]-chord[1] < 0:\n",
      "        res += 5\n",
      "    if chord[3] - chord[2] > 12 or chord[3]-chord[2] < 0:\n",
      "        res += 5\n",
      "    return res    "
     ],
     "language": "python",
     "metadata": {},
     "outputs": [],
     "prompt_number": 192
    },
    {
     "cell_type": "code",
     "collapsed": false,
     "input": [
      "def check_2_chords(ch1, ch2):\n",
      "    \"\"\"Return the number of mistakes in the intervals between 2 chords\"\"\"\n",
      "    res = 0\n",
      "    ite1 = map(lambda x,y: y-x, ch1[:-1], ch1[1:])\n",
      "    ite2 = map(lambda x,y: y-x, ch2[:-1], ch2[1:])\n",
      "    for inter1, inter2 in zip(ite1, ite2):\n",
      "        if inter1 == 7 and inter2 == 7:\n",
      "            res += 5\n",
      "        elif inter1 == 12 and inter2 == 12:\n",
      "            res += 5\n",
      "    return res"
     ],
     "language": "python",
     "metadata": {},
     "outputs": [],
     "prompt_number": 193
    },
    {
     "cell_type": "code",
     "collapsed": false,
     "input": [
      "# Evaluation function\n",
      "def evalNumErr(ton, individual):\n",
      "    res = 0\n",
      "    for prev, item, nex in neighborhood(individual):\n",
      "        res += check_interval(item[0])\n",
      "        if prev == None:\n",
      "            if item[1] != 0:\n",
      "                res += 2\n",
      "            continue\n",
      "        else:\n",
      "            if prev[1] in [4, 6] and item[1] in [3, 1]:\n",
      "                res += 10\n",
      "            res += check_2_chords(prev[0], item[0])\n",
      "        if nex == None:\n",
      "            if item[1] in [1, 2, 3, 4, 5, 6]:\n",
      "                res += 2\n",
      "    return (res,)\n",
      "            "
     ],
     "language": "python",
     "metadata": {},
     "outputs": [],
     "prompt_number": 194
    },
    {
     "cell_type": "code",
     "collapsed": false,
     "input": [
      "# Mutant function\n",
      "def mutChangeNotes(ton, individual, indpb):\n",
      "    new_ind = toolbox.clone(individual)\n",
      "    for x in range(len(individual[0])):\n",
      "        if random.random() < indpb:\n",
      "            \n",
      "            listaOp = OPTIONS_M if ton[-1] == 'M' else OPTIONS_m\n",
      "            listaMod = MOD_M if ton[-1] == 'M' else MOD_m\n",
      "            \n",
      "            note = individual[x][0][0]\n",
      "            \n",
      "            name = note%12\n",
      "            grad = name-int(ton[:-1])\n",
      "            grad = math.ceil(((grad+12)%12) / 2)\n",
      "            num = (listaOp[grad][random.randint(0,len(listaOp[grad])-1)] + name +12) %12\n",
      "            grad = num-int(ton[:-1])\n",
      "            grad = math.ceil(((grad+12)%12) / 2)\n",
      "            name = '{}{}'.format(num, listaMod[grad])\n",
      "            \n",
      "            new_ind[x] = [creatChord(name, note), grad]\n",
      "    \n",
      "    del new_ind.fitness.values\n",
      "    return new_ind,"
     ],
     "language": "python",
     "metadata": {},
     "outputs": [],
     "prompt_number": 195
    },
    {
     "cell_type": "code",
     "collapsed": false,
     "input": [
      "def transform_lilypond(indiv):\n",
      "    \"\"\"Take one list of chords and print the it in lilypond notation\"\"\"\n",
      "    note_map = {0: 'c',\n",
      "                1: 'cis',\n",
      "                2: 'd',\n",
      "                3: 'dis',\n",
      "                4: 'e',\n",
      "                5: 'f',\n",
      "                6: 'fis',\n",
      "                7: 'g',\n",
      "                8: 'gis',\n",
      "                9: 'a',\n",
      "                10:'ais',\n",
      "                11:'b'\n",
      "                }\n",
      "    voces = [[], [], [], []]\n",
      "    \n",
      "    for chord in indiv:\n",
      "        for note, voce in zip(chord, voces):\n",
      "            \n",
      "            octave = (note // 12)-4\n",
      "            name_lily = note_map[note % 12]\n",
      "            if octave < 0:\n",
      "                name_lily += ',' * (octave * -1)\n",
      "            elif octave > 0:\n",
      "                name_lily += \"'\" * octave\n",
      "            voce.append(name_lily)\n",
      "      \n",
      "    print('{}|\\n{}|\\n{}|\\n{}|\\n'.format(*(' '.join(voce) for voce in reversed(voces))))"
     ],
     "language": "python",
     "metadata": {},
     "outputs": [],
     "prompt_number": 196
    },
    {
     "cell_type": "code",
     "collapsed": false,
     "input": [
      "def main():\n",
      "    pop = toolbox.population(n=300)\n",
      "    hof = tools.HallOfFame(3)\n",
      "    stats = tools.Statistics(lambda ind: ind.fitness.values)\n",
      "    stats.register('avg', numpy.mean)\n",
      "    stats.register('std', numpy.std)\n",
      "    stats.register('min', numpy.min)\n",
      "    stats.register('max', numpy.max)\n",
      "    \n",
      "    pop, log = algorithms.eaSimple(pop, toolbox, cxpb=0.5, mutpb=0.2, ngen=50, stats=stats, halloffame=hof, verbose=True)\n",
      "    for best in hof:\n",
      "        print([x[0] for x in best])\n",
      "        \n",
      "        transform_lilypond([x[0] for x in best])"
     ],
     "language": "python",
     "metadata": {},
     "outputs": [],
     "prompt_number": 197
    },
    {
     "cell_type": "code",
     "collapsed": false,
     "input": [
      "if __name__ == '__main__':\n",
      "    line = input('n[#b] notas ')\n",
      "    ton, notes = setTon(line)\n",
      "    print(ton, notes)\n",
      "    \n",
      "    # ========================= GA setup =========================\n",
      "    creator.create('FitnessMin', base.Fitness, weights=(-1.0,))\n",
      "    creator.create('Individual', list, fitness=creator.FitnessMin)\n",
      "\n",
      "    toolbox = base.Toolbox()\n",
      "    toolbox.register('creat_notes', newChordProg, ton, notes)\n",
      "    toolbox.register('individual', tools.initIterate, creator.Individual,\n",
      "                     toolbox.creat_notes)\n",
      "    toolbox.register('population', tools.initRepeat, list, toolbox.individual)\n",
      "\n",
      "    toolbox.register('evaluate', evalNumErr, ton)\n",
      "    toolbox.register('mate', tools.cxOnePoint)\n",
      "    toolbox.register('mutate', mutChangeNotes, ton, indpb=0.1)\n",
      "    toolbox.register('select', tools.selTournament, tournsize=3)\n",
      "    # =============================================================\n",
      "    \n",
      "    main()\n",
      "    \"\"\"\n",
      "    a = toolbox.individual()\n",
      "    print(a)\n",
      "    print(toolbox.evaluate(a))\n",
      "    b = toolbox.individual()\n",
      "    print(b)\n",
      "    print(toolbox.evaluate(b))\n",
      "    a,b = toolbox.mate(a,b)\n",
      "    print(a)\n",
      "    print(b)\n",
      "    print(\"_\"*20)\n",
      "    \n",
      "    a = toolbox.mutate(a)\n",
      "    print(a)\n",
      "    print(\"-\"*20)\n",
      "    \"\"\""
     ],
     "language": "python",
     "metadata": {},
     "outputs": [
      {
       "name": "stdout",
       "output_type": "stream",
       "stream": "stdout",
       "text": [
        "n[#b] notas 1# 43 50 48 47 45 43 55 52 50 48 52 50 50 43 45 47 48 47 48 52 50 38 43\n"
       ]
      },
      {
       "output_type": "stream",
       "stream": "stdout",
       "text": [
        "7M [43, 50, 48, 47, 45, 43, 55, 52, 50, 48, 52, 50, 50, 43, 45, 47, 48, 47, 48, 52, 50, 38, 43]\n",
        "gen\tnevals\tavg    \tstd    \tmin\tmax\n",
        "0  \t300   \t124.807\t19.0418\t64 \t184"
       ]
      },
      {
       "output_type": "stream",
       "stream": "stdout",
       "text": [
        "\n",
        "1  \t186   \t110.353\t15.1079\t70 \t164"
       ]
      },
      {
       "output_type": "stream",
       "stream": "stdout",
       "text": [
        "\n",
        "2  \t171   \t97.54  \t12.1859\t64 \t142"
       ]
      },
      {
       "output_type": "stream",
       "stream": "stdout",
       "text": [
        "\n",
        "3  \t172   \t87.9267\t9.59138\t64 \t115"
       ]
      },
      {
       "output_type": "stream",
       "stream": "stdout",
       "text": [
        "\n",
        "4  \t179   \t80.2667\t8.10816\t55 \t102"
       ]
      },
      {
       "output_type": "stream",
       "stream": "stdout",
       "text": [
        "\n",
        "5  \t177   \t73.8867\t8.59654\t52 \t102"
       ]
      },
      {
       "output_type": "stream",
       "stream": "stdout",
       "text": [
        "\n",
        "6  \t193   \t67.25  \t8.62095\t42 \t97 "
       ]
      },
      {
       "output_type": "stream",
       "stream": "stdout",
       "text": [
        "\n",
        "7  \t179   \t60.4567\t8.24428\t40 \t84 "
       ]
      },
      {
       "output_type": "stream",
       "stream": "stdout",
       "text": [
        "\n",
        "8  \t174   \t53.44  \t7.00522\t34 \t82 "
       ]
      },
      {
       "output_type": "stream",
       "stream": "stdout",
       "text": [
        "\n",
        "9  \t174   \t48.2967\t6.81043\t25 \t69 "
       ]
      },
      {
       "output_type": "stream",
       "stream": "stdout",
       "text": [
        "\n",
        "10 \t180   \t42.89  \t6.66668\t22 \t64 "
       ]
      },
      {
       "output_type": "stream",
       "stream": "stdout",
       "text": [
        "\n",
        "11 \t169   \t37.8967\t6.71858\t20 \t57 "
       ]
      },
      {
       "output_type": "stream",
       "stream": "stdout",
       "text": [
        "\n",
        "12 \t176   \t32.3433\t6.16053\t15 \t59 "
       ]
      },
      {
       "output_type": "stream",
       "stream": "stdout",
       "text": [
        "\n",
        "13 \t186   \t27.45  \t5.18081\t15 \t45 "
       ]
      },
      {
       "output_type": "stream",
       "stream": "stdout",
       "text": [
        "\n",
        "14 \t182   \t23.1733\t4.52806\t10 \t42 "
       ]
      },
      {
       "output_type": "stream",
       "stream": "stdout",
       "text": [
        "\n",
        "15 \t187   \t20.1833\t3.91362\t10 \t40 "
       ]
      },
      {
       "output_type": "stream",
       "stream": "stdout",
       "text": [
        "\n",
        "16 \t168   \t17.53  \t3.76064\t5  \t32 "
       ]
      },
      {
       "output_type": "stream",
       "stream": "stdout",
       "text": [
        "\n",
        "17 \t190   \t15.1933\t3.42286\t5  \t30 "
       ]
      },
      {
       "output_type": "stream",
       "stream": "stdout",
       "text": [
        "\n",
        "18 \t189   \t13.2733\t3.68763\t5  \t35 "
       ]
      },
      {
       "output_type": "stream",
       "stream": "stdout",
       "text": [
        "\n",
        "19 \t189   \t11.0333\t3.74151\t0  \t27 "
       ]
      },
      {
       "output_type": "stream",
       "stream": "stdout",
       "text": [
        "\n",
        "20 \t167   \t8.81   \t3.69061\t0  \t27 "
       ]
      },
      {
       "output_type": "stream",
       "stream": "stdout",
       "text": [
        "\n",
        "21 \t192   \t6.46667\t2.75963\t0  \t20 "
       ]
      },
      {
       "output_type": "stream",
       "stream": "stdout",
       "text": [
        "\n",
        "22 \t171   \t5.29   \t2.80105\t0  \t25 "
       ]
      },
      {
       "output_type": "stream",
       "stream": "stdout",
       "text": [
        "\n",
        "23 \t179   \t4.05   \t2.604  \t0  \t20 "
       ]
      },
      {
       "output_type": "stream",
       "stream": "stdout",
       "text": [
        "\n",
        "24 \t177   \t2.58   \t3.22029\t0  \t25 "
       ]
      },
      {
       "output_type": "stream",
       "stream": "stdout",
       "text": [
        "\n",
        "25 \t184   \t1.02667\t2.71403\t0  \t20 "
       ]
      },
      {
       "output_type": "stream",
       "stream": "stdout",
       "text": [
        "\n",
        "26 \t180   \t0.45   \t2.26881\t0  \t20 "
       ]
      },
      {
       "output_type": "stream",
       "stream": "stdout",
       "text": [
        "\n",
        "27 \t166   \t0.286667\t1.62003\t0  \t15 "
       ]
      },
      {
       "output_type": "stream",
       "stream": "stdout",
       "text": [
        "\n",
        "28 \t186   \t0.313333\t1.93093\t0  \t20 "
       ]
      },
      {
       "output_type": "stream",
       "stream": "stdout",
       "text": [
        "\n",
        "29 \t189   \t0.346667\t1.92522\t0  \t20 "
       ]
      },
      {
       "output_type": "stream",
       "stream": "stdout",
       "text": [
        "\n",
        "30 \t204   \t0.22    \t1.41124\t0  \t12 "
       ]
      },
      {
       "output_type": "stream",
       "stream": "stdout",
       "text": [
        "\n",
        "31 \t189   \t0.19    \t1.55796\t0  \t17 "
       ]
      },
      {
       "output_type": "stream",
       "stream": "stdout",
       "text": [
        "\n",
        "32 \t200   \t0.323333\t1.78665\t0  \t15 "
       ]
      },
      {
       "output_type": "stream",
       "stream": "stdout",
       "text": [
        "\n",
        "33 \t181   \t0.286667\t1.6506 \t0  \t17 "
       ]
      },
      {
       "output_type": "stream",
       "stream": "stdout",
       "text": [
        "\n",
        "34 \t206   \t0.32    \t1.79005\t0  \t20 "
       ]
      },
      {
       "output_type": "stream",
       "stream": "stdout",
       "text": [
        "\n",
        "35 \t191   \t0.506667\t2.34307\t0  \t22 "
       ]
      },
      {
       "output_type": "stream",
       "stream": "stdout",
       "text": [
        "\n",
        "36 \t194   \t0.246667\t1.63273\t0  \t20 "
       ]
      },
      {
       "output_type": "stream",
       "stream": "stdout",
       "text": [
        "\n",
        "37 \t177   \t0.396667\t2.41923\t0  \t30 "
       ]
      },
      {
       "output_type": "stream",
       "stream": "stdout",
       "text": [
        "\n",
        "38 \t160   \t0.16    \t1.12297\t0  \t10 "
       ]
      },
      {
       "output_type": "stream",
       "stream": "stdout",
       "text": [
        "\n",
        "39 \t179   \t0.146667\t0.98581\t0  \t10 "
       ]
      },
      {
       "output_type": "stream",
       "stream": "stdout",
       "text": [
        "\n",
        "40 \t171   \t0.286667\t1.98943\t0  \t20 "
       ]
      },
      {
       "output_type": "stream",
       "stream": "stdout",
       "text": [
        "\n",
        "41 \t166   \t0.266667\t1.8962 \t0  \t20 "
       ]
      },
      {
       "output_type": "stream",
       "stream": "stdout",
       "text": [
        "\n",
        "42 \t180   \t0.226667\t1.34237\t0  \t12 "
       ]
      },
      {
       "output_type": "stream",
       "stream": "stdout",
       "text": [
        "\n",
        "43 \t157   \t0.316667\t1.59678\t0  \t12 "
       ]
      },
      {
       "output_type": "stream",
       "stream": "stdout",
       "text": [
        "\n",
        "44 \t168   \t0.296667\t1.95499\t0  \t20 "
       ]
      },
      {
       "output_type": "stream",
       "stream": "stdout",
       "text": [
        "\n",
        "45 \t196   \t0.29    \t1.61634\t0  \t17 "
       ]
      },
      {
       "output_type": "stream",
       "stream": "stdout",
       "text": [
        "\n",
        "46 \t188   \t0.436667\t2.22096\t0  \t20 "
       ]
      },
      {
       "output_type": "stream",
       "stream": "stdout",
       "text": [
        "\n",
        "47 \t173   \t0.17    \t1.07754\t0  \t10 "
       ]
      },
      {
       "output_type": "stream",
       "stream": "stdout",
       "text": [
        "\n",
        "48 \t175   \t0.13    \t1.1803 \t0  \t15 "
       ]
      },
      {
       "output_type": "stream",
       "stream": "stdout",
       "text": [
        "\n",
        "49 \t181   \t0.296667\t1.67988\t0  \t15 "
       ]
      },
      {
       "output_type": "stream",
       "stream": "stdout",
       "text": [
        "\n",
        "50 \t183   \t0.196667\t1.27984\t0  \t10 "
       ]
      },
      {
       "output_type": "stream",
       "stream": "stdout",
       "text": [
        "\n",
        "[[43, 59, 62, 62], [50, 59, 62, 67], [48, 57, 64, 76], [47, 62, 71, 71], [45, 54, 62, 74], [43, 62, 67, 71], [55, 59, 62, 74], [52, 59, 67, 76], [50, 67, 67, 71], [48, 57, 69, 81], [52, 57, 64, 72], [50, 50, 59, 67], [50, 54, 59, 71], [43, 59, 59, 64], [45, 57, 60, 69], [47, 55, 67, 67], [48, 60, 69, 78], [47, 50, 55, 62], [48, 57, 69, 69], [52, 55, 60, 72], [50, 67, 67, 71], [38, 54, 57, 62], [43, 59, 67, 79]]\n",
        "d' g' e'' b' d'' b' d'' e'' b' a'' c'' g' b' e' a' g' fis'' d' a' c'' b' d' g''|\n",
        "d' d' e' b' d' g' d' g' g' a' e' b b b c' g' a' g a' c' g' a g'|\n",
        "b b a d' fis d' b b g' a a d fis b a g c' d a g g' fis b|\n",
        "g, d c b, a, g, g e d c e d d g, a, b, c b, c e d d, g,|\n",
        "\n",
        "[[43, 59, 62, 62], [50, 59, 62, 67], [48, 57, 64, 76], [47, 62, 71, 71], [45, 54, 62, 74], [43, 62, 67, 71], [55, 59, 62, 74], [52, 59, 67, 76], [50, 67, 67, 71], [48, 57, 69, 81], [52, 57, 64, 72], [50, 59, 59, 71], [50, 57, 66, 69], [43, 59, 64, 64], [45, 57, 60, 69], [47, 67, 76, 83], [48, 64, 76, 81], [47, 50, 55, 62], [48, 57, 69, 69], [52, 55, 60, 72], [50, 67, 67, 71], [38, 54, 57, 62], [43, 59, 67, 79]]\n",
        "d' g' e'' b' d'' b' d'' e'' b' a'' c'' b' a' e' a' b'' a'' d' a' c'' b' d' g''|\n",
        "d' d' e' b' d' g' d' g' g' a' e' b fis' e' c' e'' e'' g a' c' g' a g'|\n",
        "b b a d' fis d' b b g' a a b a b a g' e' d a g g' fis b|\n",
        "g, d c b, a, g, g e d c e d d g, a, b, c b, c e d d, g,|\n",
        "\n",
        "[[43, 59, 62, 62], [50, 59, 62, 67], [48, 57, 64, 76], [47, 62, 71, 71], [45, 54, 62, 74], [43, 62, 67, 71], [55, 59, 62, 62], [52, 57, 60, 69], [50, 59, 66, 78], [48, 57, 69, 69], [52, 64, 64, 67], [50, 59, 59, 71], [50, 57, 66, 69], [43, 59, 64, 64], [45, 57, 60, 69], [47, 67, 76, 83], [48, 60, 69, 78], [47, 50, 55, 62], [48, 57, 69, 69], [52, 55, 60, 72], [50, 67, 67, 71], [38, 54, 57, 62], [43, 59, 67, 79]]\n",
        "d' g' e'' b' d'' b' d' a' fis'' a' g' b' a' e' a' b'' fis'' d' a' c'' b' d' g''|\n",
        "d' d' e' b' d' g' d' c' fis' a' e' b fis' e' c' e'' a' g a' c' g' a g'|\n",
        "b b a d' fis d' b a b a e' b a b a g' c' d a g g' fis b|\n",
        "g, d c b, a, g, g e d c e d d g, a, b, c b, c e d d, g,|\n",
        "\n"
       ]
      }
     ],
     "prompt_number": 198
    },
    {
     "cell_type": "heading",
     "level": 3,
     "metadata": {},
     "source": [
      "Buenos resultados:"
     ]
    },
    {
     "cell_type": "raw",
     "metadata": {},
     "source": [
      "d' g' e'' b' d'' b' d'' e'' b' a'' c'' g' b' e' a' g' fis'' d' a' c'' b' d' g''|\n",
      "d' d' e' b' d' g' d' g' g' a' e' b b b c' g' a' g a' c' g' a g'|\n",
      "b b a d' fis d' b b g' a a d fis b a g c' d a g g' fis b|\n",
      "g, d c b, a, g, g e d c e d d g, a, b, c b, c e d d, g,|\n",
      "\n"
     ]
    }
   ],
   "metadata": {}
  }
 ]
}