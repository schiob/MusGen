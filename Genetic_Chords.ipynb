{
 "metadata": {
  "name": "",
  "signature": "sha256:d02d6b15f4edb5b6166d2599f44affa7fd264c97276306accf06969bdc4cabd2"
 },
 "nbformat": 3,
 "nbformat_minor": 0,
 "worksheets": [
  {
   "cells": [
    {
     "cell_type": "code",
     "collapsed": false,
     "input": [
      "# Casos de prueba:\n",
      "# 2# 54 67 69 61 62\n",
      "# 1# 43 50 48 47 45 43 55 52 50 48 52 50 50 43 45 47 48 47 48 52 50 38 43\n"
     ],
     "language": "python",
     "metadata": {},
     "outputs": [],
     "prompt_number": 571
    },
    {
     "cell_type": "code",
     "collapsed": false,
     "input": [
      "import random\n",
      "import math\n",
      "import numpy\n",
      "\n",
      "from deap import base\n",
      "from deap import creator\n",
      "from deap import tools\n",
      "from deap import algorithms"
     ],
     "language": "python",
     "metadata": {},
     "outputs": [],
     "prompt_number": 572
    },
    {
     "cell_type": "raw",
     "metadata": {},
     "source": [
      "si la armadura tiene sostenido se multiplica 7 por el n\u00famero de sostenidos mod(12)\n",
      "si la armadura tiene bemoles se multiplica 5 por el n\u00famero de bemoles mod(12)"
     ]
    },
    {
     "cell_type": "code",
     "collapsed": false,
     "input": [
      "# Global Variables\n",
      "OPTIONS_M = ((0,-3,5), (0,-3,5), (0,-4,5), (0,-3,6), (0,-3,5), (0,-4,5), (0,-4,5))\n",
      "OPTIONS_m = ((0,-4,5), (0,-4,5), (0,-3,5), (0,-3,5), (0,-4,5), (0,-3,6), (0,5))\n",
      "MOD_M = ('M','m','m','M','M','m','d')\n",
      "MOD_m = ('m','d','M','m','M','M','M')"
     ],
     "language": "python",
     "metadata": {},
     "outputs": [],
     "prompt_number": 573
    },
    {
     "cell_type": "code",
     "collapsed": false,
     "input": [
      "def neighborhood(iterable):\n",
      "    \"\"\"Generator gives the prev actual and next\"\"\"\n",
      "    iterator = iter(iterable)\n",
      "    prev = None\n",
      "    item = next(iterator)  # throws StopIteration if empty.\n",
      "    for nex in iterator:\n",
      "        yield (prev,item,nex)\n",
      "        prev = item\n",
      "        item = nex\n",
      "    yield (prev,item,None)"
     ],
     "language": "python",
     "metadata": {},
     "outputs": [],
     "prompt_number": 574
    },
    {
     "cell_type": "code",
     "collapsed": false,
     "input": [
      "# Tonality function\n",
      "def setTon(line):\n",
      "    \"\"\"Determine the tonality of the exercice\"\"\"\n",
      "    ton = line[:2]\n",
      "    notes = list(map(int, line[3:].split(' ')))\n",
      "    if ton[1] == '#':\n",
      "        ton = (int(ton[0])*7)%12\n",
      "    else:\n",
      "        ton = (int(ton[0])*5)%12\n",
      "    for note in notes:\n",
      "        if (ton+6)%12 == note%12:\n",
      "            ton = str((ton-3)%12)+'m'\n",
      "            break\n",
      "    else:\n",
      "        if ton-3 == notes[-1]%12:\n",
      "            ton = str((ton-3)%12)+'m'\n",
      "        else:\n",
      "            ton = str(ton)+'M'\n",
      "    return ton, notes"
     ],
     "language": "python",
     "metadata": {},
     "outputs": [],
     "prompt_number": 575
    },
    {
     "cell_type": "code",
     "collapsed": false,
     "input": [
      "def creatChord(nameC, noteF):\n",
      "    \"\"\"Create one chord given the name of the chord and the fundamental note\"\"\"\n",
      "    \n",
      "    num_funda = int(nameC[:-1])\n",
      "    if nameC[-1] == 'M':\n",
      "        val_notes = [num_funda, (num_funda+4)%12, (num_funda+7)%12]\n",
      "    elif nameC[-1] == 'm':\n",
      "        val_notes = [num_funda, (num_funda+3)%12, (num_funda+7)%12]\n",
      "    elif nameC[-1] == 'd':\n",
      "        val_notes = [num_funda, (num_funda+3)%12, (num_funda+6)%12]\n",
      "        \n",
      "    tenorR = list(range(48, 69))\n",
      "    contR = list(range(52, 77))\n",
      "    sopR = list(range(60, 86))\n",
      "    \n",
      "    # Depending in the bass note this are the options for the others voices\n",
      "    if noteF%12 == val_notes[0]:\n",
      "        opc = [[1,1,1], [2,1,0], [0,1,2]]\n",
      "    elif noteF%12 == val_notes[1]:\n",
      "        opc = [[1,0,2], [3,0,0], [2,0,1]]\n",
      "    elif noteF%12 == val_notes[2]:\n",
      "        opc = [[1,1,1], [2,1,0]]\n",
      "    \n",
      "    opc = random.choice(opc)\n",
      "    chordN = list()\n",
      "    for num, val in zip(opc, val_notes):\n",
      "        chordN += [val]*num\n",
      "    \n",
      "    random.shuffle(chordN)\n",
      "    \n",
      "    chord = [noteF,]\n",
      "    for nte, voce in zip(chordN, [tenorR, contR, sopR]):\n",
      "        posible_n = [x for x in voce if x%12 == nte]\n",
      "        chord.append(random.choice(posible_n))\n",
      "    \n",
      "    return chord"
     ],
     "language": "python",
     "metadata": {},
     "outputs": [],
     "prompt_number": 576
    },
    {
     "cell_type": "code",
     "collapsed": false,
     "input": [
      "# Selection of the chord\n",
      "def selChord(ton, notesBass):\n",
      "    \"\"\"Select the chords from all the posibilities\"\"\"\n",
      "    listaOp = OPTIONS_M if ton[-1] == 'M' else OPTIONS_m\n",
      "    listaMod = MOD_M if ton[-1] == 'M' else MOD_m\n",
      "    prog = list()\n",
      "    \n",
      "    for note in notesBass:\n",
      "        name = note%12\n",
      "        grad = name-int(ton[:-1])\n",
      "        grad = math.ceil(((grad+12)%12) / 2)\n",
      "        num = (listaOp[grad][random.randint(0,len(listaOp[grad])-1)] + name +12) %12\n",
      "        grad = num-int(ton[:-1])\n",
      "        grad = math.ceil(((grad+12)%12) / 2)\n",
      "        name = '{}{}'.format(num, listaMod[grad])\n",
      "        prog.append([creatChord(name, note), grad])\n",
      "    return prog"
     ],
     "language": "python",
     "metadata": {},
     "outputs": [],
     "prompt_number": 577
    },
    {
     "cell_type": "code",
     "collapsed": false,
     "input": [
      "# Individual creation\n",
      "def newChordProg(ton, notes):\n",
      "    \"\"\"Create a new individual given the tonality and the base notes\"\"\"\n",
      "    chords = selChord(ton, notes)\n",
      "    for c in chords:\n",
      "        yield c"
     ],
     "language": "python",
     "metadata": {},
     "outputs": [],
     "prompt_number": 578
    },
    {
     "cell_type": "code",
     "collapsed": false,
     "input": [
      "def check_interval(chord):\n",
      "    \"\"\"Return the number of mistakes in the distance between the notes\"\"\"\n",
      "    res = 0\n",
      "    if chord[2] - chord[1] > 12 or chord[2]-chord[1] < 0:\n",
      "        res += 15\n",
      "    if chord[3] - chord[2] > 12 or chord[3]-chord[2] < 0:\n",
      "        res += 15\n",
      "        \n",
      "    if chord[1] == chord[2] or chord[2] == chord[3]:\n",
      "        res += 1.3\n",
      "    return res    "
     ],
     "language": "python",
     "metadata": {},
     "outputs": [],
     "prompt_number": 579
    },
    {
     "cell_type": "code",
     "collapsed": false,
     "input": [
      "def check_2_chords(ch1, ch2):\n",
      "    \"\"\"Return the number of mistakes in the intervals between 2 chords\"\"\"\n",
      "    res = 0\n",
      "    \n",
      "    # Check for 5\u00b0 and 8\u00b0\n",
      "    ite1 = map(lambda x,y: y-x, ch1[:-1], ch1[1:])\n",
      "    ite2 = map(lambda x,y: y-x, ch2[:-1], ch2[1:])\n",
      "    for inter1, inter2 in zip(ite1, ite2):\n",
      "        if inter1 == 7 and inter2 == 7:\n",
      "            res += 15\n",
      "        elif inter1 == 0 and inter2 == 0:\n",
      "            res += 15\n",
      "        elif inter1 == 12 and inter2 == 12:\n",
      "            res += 15\n",
      "    \n",
      "    # Check for big intervals, just to make it more \"human\" \n",
      "    for note1, note2 in zip(ch1[1:], ch2[1:]):\n",
      "        if abs(note1-note2) >= 7: # 7 equals 5\u00b0 interval\n",
      "            res += .7\n",
      "    \n",
      "    return res"
     ],
     "language": "python",
     "metadata": {},
     "outputs": [],
     "prompt_number": 580
    },
    {
     "cell_type": "code",
     "collapsed": false,
     "input": [
      "# Evaluation function\n",
      "def evalNumErr(ton, individual):\n",
      "    res = 0\n",
      "    for prev, item, nex in neighborhood(individual):\n",
      "        res += check_interval(item[0])\n",
      "        if prev == None:\n",
      "            if item[1] != 0:\n",
      "                res += 2\n",
      "            continue\n",
      "        else:\n",
      "            if prev[1] in [4, 6] and item[1] in [3, 1]:\n",
      "                res += 20\n",
      "            res += check_2_chords(prev[0], item[0])\n",
      "        if nex == None:\n",
      "            if item[1] in [1, 2, 3, 4, 5, 6]:\n",
      "                res += 2\n",
      "    return (res,)\n",
      "            "
     ],
     "language": "python",
     "metadata": {},
     "outputs": [],
     "prompt_number": 581
    },
    {
     "cell_type": "code",
     "collapsed": false,
     "input": [
      "# Mutant function\n",
      "def mutChangeNotes(ton, individual, indpb):\n",
      "    new_ind = toolbox.clone(individual)\n",
      "    for x in range(len(individual[0])):\n",
      "        if random.random() < indpb:\n",
      "            \n",
      "            listaOp = OPTIONS_M if ton[-1] == 'M' else OPTIONS_m\n",
      "            listaMod = MOD_M if ton[-1] == 'M' else MOD_m\n",
      "            \n",
      "            note = individual[x][0][0]\n",
      "            \n",
      "            name = note%12\n",
      "            grad = name-int(ton[:-1])\n",
      "            grad = math.ceil(((grad+12)%12) / 2)\n",
      "            num = (listaOp[grad][random.randint(0,len(listaOp[grad])-1)] + name +12) %12\n",
      "            grad = num-int(ton[:-1])\n",
      "            grad = math.ceil(((grad+12)%12) / 2)\n",
      "            name = '{}{}'.format(num, listaMod[grad])\n",
      "            \n",
      "            new_ind[x] = [creatChord(name, note), grad]\n",
      "    \n",
      "    del new_ind.fitness.values\n",
      "    return new_ind,"
     ],
     "language": "python",
     "metadata": {},
     "outputs": [],
     "prompt_number": 582
    },
    {
     "cell_type": "code",
     "collapsed": false,
     "input": [
      "def transform_lilypond(indiv):\n",
      "    \"\"\"Take one list of chords and print the it in lilypond notation\"\"\"\n",
      "    note_map = {0: 'c',\n",
      "                1: 'cis',\n",
      "                2: 'd',\n",
      "                3: 'dis',\n",
      "                4: 'e',\n",
      "                5: 'f',\n",
      "                6: 'fis',\n",
      "                7: 'g',\n",
      "                8: 'gis',\n",
      "                9: 'a',\n",
      "                10:'ais',\n",
      "                11:'b'\n",
      "                }\n",
      "    voces = [[], [], [], []]\n",
      "    \n",
      "    for chord in indiv:\n",
      "        for note, voce in zip(chord, voces):\n",
      "            \n",
      "            octave = (note // 12)-4\n",
      "            name_lily = note_map[note % 12]\n",
      "            if octave < 0:\n",
      "                name_lily += ',' * (octave * -1)\n",
      "            elif octave > 0:\n",
      "                name_lily += \"'\" * octave\n",
      "            voce.append(name_lily)\n",
      "      \n",
      "    print('{}|\\n{}|\\n{}|\\n{}|\\n'.format(*(' '.join(voce) for voce in reversed(voces))))"
     ],
     "language": "python",
     "metadata": {},
     "outputs": [],
     "prompt_number": 583
    },
    {
     "cell_type": "code",
     "collapsed": false,
     "input": [
      "def main():\n",
      "    pop = toolbox.population(n=500)\n",
      "    hof = tools.HallOfFame(3)\n",
      "    stats = tools.Statistics(lambda ind: ind.fitness.values)\n",
      "    stats.register('avg', numpy.mean)\n",
      "    stats.register('std', numpy.std)\n",
      "    stats.register('min', numpy.min)\n",
      "    stats.register('max', numpy.max)\n",
      "    \n",
      "    pop, log = algorithms.eaSimple(pop, toolbox, cxpb=0.5, mutpb=0.6, ngen=60, stats=stats, halloffame=hof, verbose=True)\n",
      "    \n",
      "    for best in hof:\n",
      "        print([x[0] for x in best])\n",
      "        \n",
      "        transform_lilypond([x[0] for x in best])"
     ],
     "language": "python",
     "metadata": {},
     "outputs": [],
     "prompt_number": 584
    },
    {
     "cell_type": "code",
     "collapsed": false,
     "input": [
      "if __name__ == '__main__':\n",
      "    line = input('n[#b] notas ')\n",
      "    ton, notes = setTon(line)\n",
      "    print(ton, notes)\n",
      "    \n",
      "    # ========================= GA setup =========================\n",
      "    creator.create('FitnessMin', base.Fitness, weights=(-1.0,))\n",
      "    creator.create('Individual', list, fitness=creator.FitnessMin)\n",
      "\n",
      "    toolbox = base.Toolbox()\n",
      "    toolbox.register('creat_notes', newChordProg, ton, notes)\n",
      "    toolbox.register('individual', tools.initIterate, creator.Individual,\n",
      "                     toolbox.creat_notes)\n",
      "    toolbox.register('population', tools.initRepeat, list, toolbox.individual)\n",
      "\n",
      "    toolbox.register('evaluate', evalNumErr, ton)\n",
      "    toolbox.register('mate', tools.cxOnePoint)\n",
      "    toolbox.register('mutate', mutChangeNotes, ton, indpb=0.4)\n",
      "    toolbox.register('select', tools.selTournament, tournsize=3)\n",
      "    # =============================================================\n",
      "    \n",
      "    main()\n",
      "    \"\"\"\n",
      "    a = toolbox.individual()\n",
      "    print(a)\n",
      "    print(toolbox.evaluate(a))\n",
      "    b = toolbox.individual()\n",
      "    print(b)\n",
      "    print(toolbox.evaluate(b))\n",
      "    a,b = toolbox.mate(a,b)\n",
      "    print(a)\n",
      "    print(b)\n",
      "    print(\"_\"*20)\n",
      "    \n",
      "    a = toolbox.mutate(a)\n",
      "    print(a)\n",
      "    print(\"-\"*20)\n",
      "    \"\"\""
     ],
     "language": "python",
     "metadata": {},
     "outputs": [
      {
       "name": "stdout",
       "output_type": "stream",
       "stream": "stdout",
       "text": [
        "n[#b] notas 1# 43 50 48 47 45 43 55 52 50 48 52 50 50 43 45 47 48 47 48 52 50 38 43\n"
       ]
      },
      {
       "output_type": "stream",
       "stream": "stdout",
       "text": [
        "7M [43, 50, 48, 47, 45, 43, 55, 52, 50, 48, 52, 50, 50, 43, 45, 47, 48, 47, 48, 52, 50, 38, 43]\n",
        "gen\tnevals\tavg    \tstd   \tmin  \tmax  \n",
        "0  \t500   \t400.193\t56.111\t253.8\t564.5"
       ]
      },
      {
       "output_type": "stream",
       "stream": "stdout",
       "text": [
        "\n",
        "1  \t403   \t353.692\t40.8805\t223.9\t479.5"
       ]
      },
      {
       "output_type": "stream",
       "stream": "stdout",
       "text": [
        "\n",
        "2  \t406   \t321.685\t35.3337\t215.8\t434.8"
       ]
      },
      {
       "output_type": "stream",
       "stream": "stdout",
       "text": [
        "\n",
        "3  \t401   \t296.961\t33.8684\t203.3\t422.2"
       ]
      },
      {
       "output_type": "stream",
       "stream": "stdout",
       "text": [
        "\n",
        "4  \t409   \t273.219\t32.293 \t184.1\t392.5"
       ]
      },
      {
       "output_type": "stream",
       "stream": "stdout",
       "text": [
        "\n",
        "5  \t407   \t250.384\t30.5374\t154.6\t351.7"
       ]
      },
      {
       "output_type": "stream",
       "stream": "stdout",
       "text": [
        "\n",
        "6  \t399   \t229.846\t27.1877\t150.4\t323.8"
       ]
      },
      {
       "output_type": "stream",
       "stream": "stdout",
       "text": [
        "\n",
        "7  \t402   \t211.145\t27.4569\t140.1\t307.3"
       ]
      },
      {
       "output_type": "stream",
       "stream": "stdout",
       "text": [
        "\n",
        "8  \t407   \t192.85 \t29.6684\t89.9 \t287.7"
       ]
      },
      {
       "output_type": "stream",
       "stream": "stdout",
       "text": [
        "\n",
        "9  \t408   \t174.47 \t28.3483\t89.9 \t277.7"
       ]
      },
      {
       "output_type": "stream",
       "stream": "stdout",
       "text": [
        "\n",
        "10 \t400   \t158.083\t29.8106\t63.9 \t249  "
       ]
      },
      {
       "output_type": "stream",
       "stream": "stdout",
       "text": [
        "\n",
        "11 \t393   \t138.057\t25.8607\t47.5 \t222  "
       ]
      },
      {
       "output_type": "stream",
       "stream": "stdout",
       "text": [
        "\n",
        "12 \t403   \t123.957\t26.4224\t41.7 \t206.1"
       ]
      },
      {
       "output_type": "stream",
       "stream": "stdout",
       "text": [
        "\n",
        "13 \t390   \t108.488\t25.1925\t41.7 \t176.9"
       ]
      },
      {
       "output_type": "stream",
       "stream": "stdout",
       "text": [
        "\n",
        "14 \t407   \t96.619 \t25.936 \t36.7 \t180.7"
       ]
      },
      {
       "output_type": "stream",
       "stream": "stdout",
       "text": [
        "\n",
        "15 \t400   \t82.5424\t23.6972\t33.3 \t171.6"
       ]
      },
      {
       "output_type": "stream",
       "stream": "stdout",
       "text": [
        "\n",
        "16 \t415   \t71.32  \t20.8644\t30.1 \t144.3"
       ]
      },
      {
       "output_type": "stream",
       "stream": "stdout",
       "text": [
        "\n",
        "17 \t401   \t63.7884\t19.892 \t30.1 \t149.5"
       ]
      },
      {
       "output_type": "stream",
       "stream": "stdout",
       "text": [
        "\n",
        "18 \t394   \t57.9148\t17.4926\t28.7 \t123.8"
       ]
      },
      {
       "output_type": "stream",
       "stream": "stdout",
       "text": [
        "\n",
        "19 \t402   \t53.785 \t17.4825\t28.6 \t124.4"
       ]
      },
      {
       "output_type": "stream",
       "stream": "stdout",
       "text": [
        "\n",
        "20 \t405   \t50.5838\t18.2567\t28.6 \t124.9"
       ]
      },
      {
       "output_type": "stream",
       "stream": "stdout",
       "text": [
        "\n",
        "21 \t392   \t47.5186\t16.959 \t27.4 \t119.5"
       ]
      },
      {
       "output_type": "stream",
       "stream": "stdout",
       "text": [
        "\n",
        "22 \t378   \t45.4066\t17.1557\t26   \t140.6"
       ]
      },
      {
       "output_type": "stream",
       "stream": "stdout",
       "text": [
        "\n",
        "23 \t402   \t43.6048\t17.5655\t26   \t103.4"
       ]
      },
      {
       "output_type": "stream",
       "stream": "stdout",
       "text": [
        "\n",
        "24 \t389   \t42.0988\t16.4424\t24.6 \t113.3"
       ]
      },
      {
       "output_type": "stream",
       "stream": "stdout",
       "text": [
        "\n",
        "25 \t412   \t41.302 \t17.2822\t23.8 \t126.5"
       ]
      },
      {
       "output_type": "stream",
       "stream": "stdout",
       "text": [
        "\n",
        "26 \t410   \t39.658 \t16.7086\t23.8 \t113  "
       ]
      },
      {
       "output_type": "stream",
       "stream": "stdout",
       "text": [
        "\n",
        "27 \t393   \t38.3566\t16.4936\t23.4 \t103.5"
       ]
      },
      {
       "output_type": "stream",
       "stream": "stdout",
       "text": [
        "\n",
        "28 \t403   \t38.348 \t17.1623\t22.5 \t108.8"
       ]
      },
      {
       "output_type": "stream",
       "stream": "stdout",
       "text": [
        "\n",
        "29 \t392   \t37.4682\t16.6031\t22.5 \t112  "
       ]
      },
      {
       "output_type": "stream",
       "stream": "stdout",
       "text": [
        "\n",
        "30 \t386   \t37.4898\t17.9986\t22   \t105.2"
       ]
      },
      {
       "output_type": "stream",
       "stream": "stdout",
       "text": [
        "\n",
        "31 \t385   \t37.024 \t18.4015\t22   \t108.7"
       ]
      },
      {
       "output_type": "stream",
       "stream": "stdout",
       "text": [
        "\n",
        "32 \t390   \t35.6084\t17.2692\t21.1 \t106  "
       ]
      },
      {
       "output_type": "stream",
       "stream": "stdout",
       "text": [
        "\n",
        "33 \t400   \t35.8172\t18.0057\t20.4 \t106.7"
       ]
      },
      {
       "output_type": "stream",
       "stream": "stdout",
       "text": [
        "\n",
        "34 \t401   \t34.5276\t17.7439\t20   \t120.4"
       ]
      },
      {
       "output_type": "stream",
       "stream": "stdout",
       "text": [
        "\n",
        "35 \t412   \t33.6298\t17.7951\t20   \t121.1"
       ]
      },
      {
       "output_type": "stream",
       "stream": "stdout",
       "text": [
        "\n",
        "36 \t390   \t33.545 \t17.7666\t19.9 \t118.9"
       ]
      },
      {
       "output_type": "stream",
       "stream": "stdout",
       "text": [
        "\n",
        "37 \t394   \t32.684 \t16.5822\t19.8 \t105.9"
       ]
      },
      {
       "output_type": "stream",
       "stream": "stdout",
       "text": [
        "\n",
        "38 \t401   \t31.8282\t16.6864\t19.8 \t120.5"
       ]
      },
      {
       "output_type": "stream",
       "stream": "stdout",
       "text": [
        "\n",
        "39 \t407   \t32.2842\t17.8961\t19.8 \t103.3"
       ]
      },
      {
       "output_type": "stream",
       "stream": "stdout",
       "text": [
        "\n",
        "40 \t401   \t31.6642\t17.9227\t19.8 \t104.6"
       ]
      },
      {
       "output_type": "stream",
       "stream": "stdout",
       "text": [
        "\n",
        "41 \t400   \t30.8848\t16.2912\t19.8 \t102  "
       ]
      },
      {
       "output_type": "stream",
       "stream": "stdout",
       "text": [
        "\n",
        "42 \t410   \t31.5804\t18.722 \t19.8 \t118.5"
       ]
      },
      {
       "output_type": "stream",
       "stream": "stdout",
       "text": [
        "\n",
        "43 \t390   \t30.1836\t16.7407\t19.8 \t103.9"
       ]
      },
      {
       "output_type": "stream",
       "stream": "stdout",
       "text": [
        "\n",
        "44 \t403   \t31.5582\t17.5867\t19.8 \t104.6"
       ]
      },
      {
       "output_type": "stream",
       "stream": "stdout",
       "text": [
        "\n",
        "45 \t384   \t30.2002\t16.7356\t19.8 \t104.7"
       ]
      },
      {
       "output_type": "stream",
       "stream": "stdout",
       "text": [
        "\n",
        "46 \t392   \t29.005 \t14.8963\t19.8 \t88.9 "
       ]
      },
      {
       "output_type": "stream",
       "stream": "stdout",
       "text": [
        "\n",
        "47 \t400   \t29.5962\t15.6269\t19.8 \t89.6 "
       ]
      },
      {
       "output_type": "stream",
       "stream": "stdout",
       "text": [
        "\n",
        "48 \t397   \t29.2954\t15.7365\t19.8 \t103.2"
       ]
      },
      {
       "output_type": "stream",
       "stream": "stdout",
       "text": [
        "\n",
        "49 \t372   \t29.6174\t16.3941\t19.8 \t91   "
       ]
      },
      {
       "output_type": "stream",
       "stream": "stdout",
       "text": [
        "\n",
        "50 \t414   \t30.0526\t16.8748\t19.8 \t103.9"
       ]
      },
      {
       "output_type": "stream",
       "stream": "stdout",
       "text": [
        "\n",
        "51 \t407   \t29.6648\t15.7457\t19.8 \t88.9 "
       ]
      },
      {
       "output_type": "stream",
       "stream": "stdout",
       "text": [
        "\n",
        "52 \t405   \t30.82  \t16.8869\t19.8 \t101.2"
       ]
      },
      {
       "output_type": "stream",
       "stream": "stdout",
       "text": [
        "\n",
        "53 \t393   \t30.6382\t16.7302\t19.8 \t103.9"
       ]
      },
      {
       "output_type": "stream",
       "stream": "stdout",
       "text": [
        "\n",
        "54 \t411   \t31.558 \t18.3881\t19.8 \t102.5"
       ]
      },
      {
       "output_type": "stream",
       "stream": "stdout",
       "text": [
        "\n",
        "55 \t403   \t30.9788\t17.2213\t19.8 \t103.3"
       ]
      },
      {
       "output_type": "stream",
       "stream": "stdout",
       "text": [
        "\n",
        "56 \t411   \t30.7282\t16.2147\t19.8 \t105.9"
       ]
      },
      {
       "output_type": "stream",
       "stream": "stdout",
       "text": [
        "\n",
        "57 \t393   \t31.9154\t18.2301\t19.8 \t104  "
       ]
      },
      {
       "output_type": "stream",
       "stream": "stdout",
       "text": [
        "\n",
        "58 \t396   \t29.936 \t16.2028\t19.8 \t90.2 "
       ]
      },
      {
       "output_type": "stream",
       "stream": "stdout",
       "text": [
        "\n",
        "59 \t405   \t31.0836\t17.4773\t19.8 \t103.2"
       ]
      },
      {
       "output_type": "stream",
       "stream": "stdout",
       "text": [
        "\n",
        "60 \t401   \t31.8328\t18.3095\t19.8 \t101.9"
       ]
      },
      {
       "output_type": "stream",
       "stream": "stdout",
       "text": [
        "\n",
        "[[43, 50, 62, 71], [50, 54, 59, 66], [48, 52, 64, 69], [47, 62, 66, 66], [45, 57, 69, 72], [43, 62, 62, 71], [55, 59, 62, 67], [52, 52, 59, 67], [50, 66, 71, 78], [48, 66, 72, 81], [52, 64, 71, 79], [50, 59, 71, 78], [50, 59, 59, 71], [43, 64, 67, 72], [45, 57, 60, 69], [47, 67, 67, 67], [48, 52, 64, 69], [47, 54, 62, 71], [48, 57, 69, 69], [52, 60, 69, 76], [50, 57, 66, 69], [38, 59, 67, 74], [43, 55, 59, 67]]\n",
        "b' fis' a' fis' c'' b' g' g' fis'' a'' g'' fis'' b' c'' a' g' a' b' a' e'' a' d'' g'|\n",
        "d' b e' fis' a' d' d' b b' c'' b' b' b g' c' g' e' d' a' a' fis' g' b|\n",
        "d fis e d' a d' b e fis' fis' e' b b e' a g' e fis a c' a b g|\n",
        "g, d c b, a, g, g e d c e d d g, a, b, c b, c e d d, g,|\n",
        "\n",
        "[[43, 55, 59, 67], [50, 54, 59, 66], [48, 52, 64, 69], [47, 62, 66, 66], [45, 57, 69, 72], [43, 62, 62, 71], [55, 59, 62, 67], [52, 52, 59, 67], [50, 66, 71, 78], [48, 66, 72, 81], [52, 64, 71, 79], [50, 59, 71, 78], [50, 59, 59, 71], [43, 64, 67, 72], [45, 57, 60, 69], [47, 67, 67, 67], [48, 52, 64, 69], [47, 54, 62, 71], [48, 57, 69, 69], [52, 60, 69, 76], [50, 57, 66, 69], [38, 59, 67, 74], [43, 55, 59, 67]]\n",
        "g' fis' a' fis' c'' b' g' g' fis'' a'' g'' fis'' b' c'' a' g' a' b' a' e'' a' d'' g'|\n",
        "b b e' fis' a' d' d' b b' c'' b' b' b g' c' g' e' d' a' a' fis' g' b|\n",
        "g fis e d' a d' b e fis' fis' e' b b e' a g' e fis a c' a b g|\n",
        "g, d c b, a, g, g e d c e d d g, a, b, c b, c e d d, g,|\n",
        "\n",
        "[[43, 55, 59, 62], [50, 50, 59, 67], [48, 52, 64, 69], [47, 62, 66, 66], [45, 57, 69, 72], [43, 62, 62, 71], [55, 59, 62, 67], [52, 52, 59, 67], [50, 66, 71, 78], [48, 66, 72, 81], [52, 64, 71, 79], [50, 59, 71, 78], [50, 59, 59, 71], [43, 64, 67, 72], [45, 57, 60, 69], [47, 67, 67, 67], [48, 52, 64, 69], [47, 54, 62, 71], [48, 57, 69, 69], [52, 60, 69, 76], [50, 57, 66, 69], [38, 59, 67, 74], [43, 55, 59, 67]]\n",
        "d' g' a' fis' c'' b' g' g' fis'' a'' g'' fis'' b' c'' a' g' a' b' a' e'' a' d'' g'|\n",
        "b b e' fis' a' d' d' b b' c'' b' b' b g' c' g' e' d' a' a' fis' g' b|\n",
        "g d e d' a d' b e fis' fis' e' b b e' a g' e fis a c' a b g|\n",
        "g, d c b, a, g, g e d c e d d g, a, b, c b, c e d d, g,|\n",
        "\n"
       ]
      }
     ],
     "prompt_number": 585
    },
    {
     "cell_type": "code",
     "collapsed": false,
     "input": [
      "human = [[43, 55, 62, 71], \n",
      "         [50, 54, 62, 69], \n",
      "         [48, 55, 64, 72], \n",
      "         [47, 55, 66, 74], \n",
      "         \n",
      "         [45, 57, 64, 72], \n",
      "         [43, 59, 67, 74], \n",
      "         [55, 60, 64, 72], \n",
      "         [52, 60, 67, 72], \n",
      "         \n",
      "         [50, 62, 66, 74], \n",
      "         [48, 64, 69, 76], \n",
      "         [52, 64, 67, 71], \n",
      "         [50, 57, 66, 69], \n",
      "         \n",
      "         [50, 54, 62, 69], \n",
      "         [43, 55, 62, 71], \n",
      "         [45, 52, 64, 72], \n",
      "         [47, 55, 62, 67], \n",
      "         \n",
      "         [48, 55, 64, 72], \n",
      "         [47, 55, 62, 71], \n",
      "         [48, 55, 64, 67], \n",
      "         [52, 55, 64, 71], \n",
      "         \n",
      "         [50, 57, 66, 74], \n",
      "         [38, 50, 62, 66], \n",
      "         [43, 55, 62, 67]\n",
      "         ]\n",
      "transform_lilypond(human)"
     ],
     "language": "python",
     "metadata": {},
     "outputs": [
      {
       "output_type": "stream",
       "stream": "stdout",
       "text": [
        "b' a' c'' d'' c'' d'' c'' c'' d'' e'' b' a' a' b' c'' g' c'' b' g' b' d'' fis' g'|\n",
        "d' d' e' fis' e' g' e' g' fis' a' g' fis' d' d' e' d' e' d' e' e' fis' d' d'|\n",
        "g fis g g a b c' c' d' e' e' a fis g e g g g g g a d g|\n",
        "g, d c b, a, g, g e d c e d d g, a, b, c b, c e d d, g,|\n",
        "\n"
       ]
      }
     ],
     "prompt_number": 586
    },
    {
     "cell_type": "heading",
     "level": 3,
     "metadata": {},
     "source": [
      "Buenos resultados:"
     ]
    },
    {
     "cell_type": "raw",
     "metadata": {},
     "source": [
      "PRIMERA GENERACI\u00d3N\n",
      "d' g' e'' b' d'' b' d'' e'' b' a'' c'' g' b' e' a' g' fis'' d' a' c'' b' d' g''|\n",
      "d' d' e' b' d' g' d' g' g' a' e' b b b c' g' a' g a' c' g' a g'|\n",
      "b b a d' fis d' b b g' a a d fis b a g c' d a g g' fis b|\n",
      "g, d c b, a, g, g e d c e d d g, a, b, c b, c e d d, g,|\n",
      "\n",
      "SEGUNDA GENERACI\u00d3N\n",
      "d'' a' fis' g' c' e' d' b' b' a' c''' d'' d'' e' e' g' fis'' d'' a'' e'' a' b' g'|\n",
      "d' d' a d' a b b g' b' a' c'' g' fis' b c' e' a' g' a' g' d' fis' b|\n",
      "b fis fis d e e g b b e' c' b a b e b fis' d' a b fis fis g|\n",
      "g, d c b, a, g, g e d c e d d g, a, b, c b, c e d d, g,|\n",
      "\n",
      "g' d' fis' b' fis' g' b' a' b' e'' a'' fis'' fis' e'' d'' b' fis'' b' g' b' g'' d'' d''|\n",
      "b fis a d' c' d' e' c' b' c'' c'' fis' d' e' fis' d' fis' d' g' g' g' g' d'|\n",
      "g d fis b fis b b a b g' e' b a e d' b a b e' b b b b|\n",
      "g, d c b, a, g, g e d c e d d g, a, b, c b, c e d d, g,|\n",
      "\n",
      "g' b' fis' b' fis' g' b' a' b' e'' a'' fis'' fis' e'' d'' b' fis'' b' g' b' g'' d'' d''|\n",
      "b d' a d' c' d' e' c' b' c'' c'' fis' d' e' fis' d' fis' d' g' g' g' g' d'|\n",
      "g g fis b fis b b a b g' e' b a e d' b a b e' b b b b|\n",
      "g, d c b, a, g, g e d c e d d g, a, b, c b, c e d d, g,|\n",
      "\n",
      "b' fis' a' fis' c'' b' g' g' fis'' a'' g'' fis'' b' c'' a' g' a' b' a' e'' a' d'' g'|\n",
      "d' b e' fis' a' d' d' b b' c'' b' b' b g' c' g' e' d' a' a' fis' g' b|\n",
      "d fis e d' a d' b e fis' fis' e' b b e' a g' e fis a c' a b g|\n",
      "g, d c b, a, g, g e d c e d d g, a, b, c b, c e d d, g,|"
     ]
    }
   ],
   "metadata": {}
  }
 ]
}