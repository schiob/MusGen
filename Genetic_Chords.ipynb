{
 "metadata": {
  "name": "",
  "signature": "sha256:d68f6c73e889919330426ee02682437819594c986da0c3ffe1f4fd4f0e014cd6"
 },
 "nbformat": 3,
 "nbformat_minor": 0,
 "worksheets": [
  {
   "cells": [
    {
     "cell_type": "code",
     "collapsed": false,
     "input": [
      "# Casos de prueba:\n",
      "# 2# 54 67 69 61 62\n",
      "# 1# 43 50 48 47 45 43 55 52 50 48 52 50 50 43 45 47 48 47 48 52 50 38 43\n",
      "# 2# 50 43 49 50 52 45 49 50 43 45 50\n",
      "# 2b 46 50 48 51 53 51 48 45 46"
     ],
     "language": "python",
     "metadata": {},
     "outputs": [],
     "prompt_number": 14
    },
    {
     "cell_type": "code",
     "collapsed": false,
     "input": [
      "import random\n",
      "import math\n",
      "import numpy\n",
      "\n",
      "from deap import base\n",
      "from deap import creator\n",
      "from deap import tools\n",
      "from deap import algorithms"
     ],
     "language": "python",
     "metadata": {},
     "outputs": [],
     "prompt_number": 15
    },
    {
     "cell_type": "raw",
     "metadata": {},
     "source": [
      "si la armadura tiene sostenido se multiplica 7 por el n\u00famero de sostenidos mod(12)\n",
      "si la armadura tiene bemoles se multiplica 5 por el n\u00famero de bemoles mod(12)"
     ]
    },
    {
     "cell_type": "code",
     "collapsed": false,
     "input": [
      "# Global Variables\n",
      "OPTIONS_M = ((0,-3,5), (0,-3,5), (0,-4,5), (0,-3,6), (0,-3,5), (0,-4,5), (0,-4,5))\n",
      "OPTIONS_m = ((0,-4,5), (0,-4,5), (0,-3,5), (0,-3,5), (0,-4,5), (0,-3,6), (0,5))\n",
      "MOD_M = ('M','m','m','M','M','m','d')\n",
      "MOD_m = ('m','d','M','m','M','M','M')"
     ],
     "language": "python",
     "metadata": {},
     "outputs": [],
     "prompt_number": 16
    },
    {
     "cell_type": "code",
     "collapsed": false,
     "input": [
      "def neighborhood(iterable):\n",
      "    \"\"\"Generator gives the prev actual and next\"\"\"\n",
      "    iterator = iter(iterable)\n",
      "    prev = None\n",
      "    item = next(iterator)  # throws StopIteration if empty.\n",
      "    for nex in iterator:\n",
      "        yield (prev,item,nex)\n",
      "        prev = item\n",
      "        item = nex\n",
      "    yield (prev,item,None)"
     ],
     "language": "python",
     "metadata": {},
     "outputs": [],
     "prompt_number": 17
    },
    {
     "cell_type": "code",
     "collapsed": false,
     "input": [
      "def setTon(line):\n",
      "    \"\"\"Determine the tonality of the exercice\"\"\"\n",
      "    ton = line[:2]\n",
      "    notes = list(map(int, line[3:].split(' ')))\n",
      "    if ton[1] == '#':\n",
      "        ton = (int(ton[0])*7)%12\n",
      "    else:\n",
      "        ton = (int(ton[0])*5)%12\n",
      "    for note in notes:\n",
      "        if (ton+6)%12 == note%12:\n",
      "            ton = str((ton-3)%12)+'m'\n",
      "            break\n",
      "    else:\n",
      "        if ton-3 == notes[-1]%12:\n",
      "            ton = str((ton-3)%12)+'m'\n",
      "        else:\n",
      "            ton = str(ton)+'M'\n",
      "    return ton, notes"
     ],
     "language": "python",
     "metadata": {},
     "outputs": [],
     "prompt_number": 18
    },
    {
     "cell_type": "code",
     "collapsed": false,
     "input": [
      "def creatChord(nameC, noteF):\n",
      "    \"\"\"Create one chord given the name of the chord and the fundamental note\"\"\"\n",
      "    num_funda = int(nameC[:-1])\n",
      "    if nameC[-1] == 'M':\n",
      "        val_notes = [num_funda, (num_funda+4)%12, (num_funda+7)%12]\n",
      "    elif nameC[-1] == 'm':\n",
      "        val_notes = [num_funda, (num_funda+3)%12, (num_funda+7)%12]\n",
      "    elif nameC[-1] == 'd':\n",
      "        val_notes = [num_funda, (num_funda+3)%12, (num_funda+6)%12]\n",
      "        \n",
      "    tenorR = list(range(48, 69))\n",
      "    contR = list(range(52, 77))\n",
      "    sopR = list(range(60, 86))\n",
      "    \n",
      "    # Depending in the bass note this are the options for the others voices\n",
      "    if noteF%12 == val_notes[0]:\n",
      "        opc = [[1,1,1], [2,1,0], [0,1,2]]\n",
      "    elif noteF%12 == val_notes[1]:\n",
      "        opc = [[1,0,2], [3,0,0], [2,0,1]]\n",
      "    elif noteF%12 == val_notes[2]:\n",
      "        opc = [[1,1,1], [2,1,0]]\n",
      "    \n",
      "    opc = random.choice(opc)\n",
      "    chordN = list()\n",
      "    for num, val in zip(opc, val_notes):\n",
      "        chordN += [val]*num\n",
      "    \n",
      "    random.shuffle(chordN)\n",
      "    \n",
      "    chord = [noteF,]\n",
      "    for nte, voce in zip(chordN, [tenorR, contR, sopR]):\n",
      "        posible_n = [x for x in voce if x%12 == nte]\n",
      "        chord.append(random.choice(posible_n))\n",
      "    \n",
      "    return chord"
     ],
     "language": "python",
     "metadata": {},
     "outputs": [],
     "prompt_number": 19
    },
    {
     "cell_type": "code",
     "collapsed": false,
     "input": [
      "def selChord(ton, notesBass):\n",
      "    \"\"\"Select the chords from all the posibilities\"\"\"\n",
      "    listaOp = OPTIONS_M if ton[-1] == 'M' else OPTIONS_m\n",
      "    listaMod = MOD_M if ton[-1] == 'M' else MOD_m\n",
      "    prog = list()\n",
      "    \n",
      "    for note in notesBass:\n",
      "        name = note%12\n",
      "        grad = name-int(ton[:-1])\n",
      "        grad = math.ceil(((grad+12)%12) / 2)\n",
      "        num = (listaOp[grad][random.randint(0,len(listaOp[grad])-1)] + name +12) %12\n",
      "        grad = num-int(ton[:-1])\n",
      "        grad = math.ceil(((grad+12)%12) / 2)\n",
      "        name = '{}{}'.format(num, listaMod[grad])\n",
      "        prog.append([creatChord(name, note), grad])\n",
      "    return prog"
     ],
     "language": "python",
     "metadata": {},
     "outputs": [],
     "prompt_number": 20
    },
    {
     "cell_type": "code",
     "collapsed": false,
     "input": [
      "def newChordProg(ton, notes):\n",
      "    \"\"\"Create a new individual given the tonality and the base notes\"\"\"\n",
      "    chords = selChord(ton, notes)\n",
      "    for c in chords:\n",
      "        yield c"
     ],
     "language": "python",
     "metadata": {},
     "outputs": [],
     "prompt_number": 21
    },
    {
     "cell_type": "code",
     "collapsed": false,
     "input": [
      "def check_interval(chord):\n",
      "    \"\"\"Return the number of mistakes in the distance between the notes\"\"\"\n",
      "    res = 0\n",
      "    if chord[2] - chord[1] > 12 or chord[2]-chord[1] < 0:\n",
      "        res += 15\n",
      "    if chord[3] - chord[2] > 12 or chord[3]-chord[2] < 0:\n",
      "        res += 15\n",
      "        \n",
      "    if chord[1] == chord[2] or chord[2] == chord[3]:\n",
      "        res += 1.4\n",
      "    return res    "
     ],
     "language": "python",
     "metadata": {},
     "outputs": [],
     "prompt_number": 22
    },
    {
     "cell_type": "code",
     "collapsed": false,
     "input": [
      "def check_2_chords(ch1, ch2):\n",
      "    \"\"\"Return the number of mistakes in the intervals between 2 chords\"\"\"\n",
      "    res = 0\n",
      "    \n",
      "    # Check for 5\u00b0 and 8\u00b0\n",
      "    ite1 = map(lambda x,y: y-x, ch1[:-1], ch1[1:])\n",
      "    ite2 = map(lambda x,y: y-x, ch2[:-1], ch2[1:])\n",
      "    for inter1, inter2 in zip(ite1, ite2):\n",
      "        if inter1 == 7 and inter2 == 7:\n",
      "            res += 15\n",
      "        elif inter1 == 0 and inter2 == 0:\n",
      "            res += 15\n",
      "        elif inter1 == 12 and inter2 == 12:\n",
      "            res += 15\n",
      "    \n",
      "    # Check for big intervals, just to make it more \"human\" \n",
      "    for note1, note2 in zip(ch1[1:], ch2[1:]):\n",
      "        if abs(note1-note2) >= 7: # 7 equals 5\u00b0 interval\n",
      "            res += .7\n",
      "    \n",
      "    return res"
     ],
     "language": "python",
     "metadata": {},
     "outputs": [],
     "prompt_number": 23
    },
    {
     "cell_type": "code",
     "collapsed": false,
     "input": [
      "def evalNumErr(ton, individual):\n",
      "    \"\"\"Evaluation function\"\"\"\n",
      "    res = 0\n",
      "    for prev, item, nex in neighborhood(individual):\n",
      "        res += check_interval(item[0])\n",
      "        if prev == None:\n",
      "            if item[1] != 0:\n",
      "                res += 6\n",
      "            continue\n",
      "        else:\n",
      "            if prev[1] in [4, 6] and item[1] in [3, 1]:\n",
      "                res += 20\n",
      "            res += check_2_chords(prev[0], item[0])\n",
      "        if nex == None:\n",
      "            if item[1] in [1, 2, 3, 4, 5, 6]:\n",
      "                res += 6\n",
      "    return (res,)\n",
      "            "
     ],
     "language": "python",
     "metadata": {},
     "outputs": [],
     "prompt_number": 24
    },
    {
     "cell_type": "code",
     "collapsed": false,
     "input": [
      "def mutChangeNotes(ton, individual, indpb):\n",
      "    \"\"\"Mutant function\"\"\"\n",
      "    new_ind = toolbox.clone(individual)\n",
      "    for x in range(len(individual[0])):\n",
      "        if random.random() < indpb:\n",
      "            \n",
      "            listaOp = OPTIONS_M if ton[-1] == 'M' else OPTIONS_m\n",
      "            listaMod = MOD_M if ton[-1] == 'M' else MOD_m\n",
      "            \n",
      "            note = individual[x][0][0]\n",
      "            \n",
      "            name = note%12\n",
      "            grad = name-int(ton[:-1])\n",
      "            grad = math.ceil(((grad+12)%12) / 2)\n",
      "            num = (listaOp[grad][random.randint(0,len(listaOp[grad])-1)] + name +12) %12\n",
      "            grad = num-int(ton[:-1])\n",
      "            grad = math.ceil(((grad+12)%12) / 2)\n",
      "            name = '{}{}'.format(num, listaMod[grad])\n",
      "            \n",
      "            new_ind[x] = [creatChord(name, note), grad]\n",
      "    \n",
      "    del new_ind.fitness.values\n",
      "    return new_ind,"
     ],
     "language": "python",
     "metadata": {},
     "outputs": [],
     "prompt_number": 25
    },
    {
     "cell_type": "code",
     "collapsed": false,
     "input": [
      "def transform_lilypond(ton, indiv):\n",
      "    \"\"\"Take one list of chords and print the it in lilypond notation\"\"\"\n",
      "    note_map = dict()\n",
      "    if ton[-1] == 'M':\n",
      "        note_map = {0: 'c',\n",
      "                    1: 'cis',\n",
      "                    2: 'd',\n",
      "                    3: 'dis',\n",
      "                    4: 'e',\n",
      "                    5: 'f',\n",
      "                    6: 'fis',\n",
      "                    7: 'g',\n",
      "                    8: 'gis',\n",
      "                    9: 'a',\n",
      "                    10:'ais',\n",
      "                    11:'b'\n",
      "                    }\n",
      "    else:\n",
      "        note_map = {0: 'c',\n",
      "                    1: 'des',\n",
      "                    2: 'd',\n",
      "                    3: 'ees',\n",
      "                    4: 'e',\n",
      "                    5: 'f',\n",
      "                    6: 'ges',\n",
      "                    7: 'g',\n",
      "                    8: 'aes',\n",
      "                    9: 'a',\n",
      "                    10:'bes',\n",
      "                    11:'b'\n",
      "                    }\n",
      "    voces = [[], [], [], []]\n",
      "    \n",
      "    for chord in indiv:\n",
      "        for note, voce in zip(chord, voces):\n",
      "            \n",
      "            octave = (note // 12)-4\n",
      "            name_lily = note_map[note % 12]\n",
      "            if octave < 0:\n",
      "                name_lily += ',' * (octave * -1)\n",
      "            elif octave > 0:\n",
      "                name_lily += \"'\" * octave\n",
      "            voce.append(name_lily)\n",
      "      \n",
      "    print('{}|\\n{}|\\n{}|\\n{}|\\n'.format(*(' '.join(voce) for voce in reversed(voces))))"
     ],
     "language": "python",
     "metadata": {},
     "outputs": [],
     "prompt_number": 26
    },
    {
     "cell_type": "code",
     "collapsed": false,
     "input": [
      "def main(ton):\n",
      "    pop = toolbox.population(n=400)\n",
      "    hof = tools.HallOfFame(3)\n",
      "    stats = tools.Statistics(lambda ind: ind.fitness.values)\n",
      "    stats.register('avg', numpy.mean)\n",
      "    stats.register('std', numpy.std)\n",
      "    stats.register('min', numpy.min)\n",
      "    stats.register('max', numpy.max)\n",
      "    \n",
      "    pop, log = algorithms.eaSimple(pop, toolbox, cxpb=0.5, mutpb=0.3, ngen=70, stats=stats, halloffame=hof, verbose=True)\n",
      "    while min(log.select('min')) > 15:\n",
      "        pop = toolbox.population(n=400)\n",
      "        pop, log = algorithms.eaSimple(pop, toolbox, cxpb=0.5, mutpb=0.3, ngen=70, stats=stats, halloffame=hof, verbose=True)\n",
      "        \n",
      "    for best in hof:\n",
      "        print([x[0] for x in best])\n",
      "        \n",
      "        transform_lilypond(ton, [x[0] for x in best])"
     ],
     "language": "python",
     "metadata": {},
     "outputs": [],
     "prompt_number": 27
    },
    {
     "cell_type": "code",
     "collapsed": false,
     "input": [
      "if __name__ == '__main__':\n",
      "    line = input('n[#b] notas ')\n",
      "    ton, notes = setTon(line)\n",
      "    print(ton, notes)\n",
      "    \n",
      "    # ========================= GA setup =========================\n",
      "    creator.create('FitnessMin', base.Fitness, weights=(-1.0,))\n",
      "    creator.create('Individual', list, fitness=creator.FitnessMin)\n",
      "\n",
      "    toolbox = base.Toolbox()\n",
      "    toolbox.register('creat_notes', newChordProg, ton, notes)\n",
      "    toolbox.register('individual', tools.initIterate, creator.Individual,\n",
      "                     toolbox.creat_notes)\n",
      "    toolbox.register('population', tools.initRepeat, list, toolbox.individual)\n",
      "\n",
      "    toolbox.register('evaluate', evalNumErr, ton)\n",
      "    toolbox.register('mate', tools.cxOnePoint)\n",
      "    toolbox.register('mutate', mutChangeNotes, ton, indpb=0.4)\n",
      "    toolbox.register('select', tools.selTournament, tournsize=3)\n",
      "    # =============================================================\n",
      "    \n",
      "    main(ton)\n",
      "    \n",
      "    \"\"\"\n",
      "    a = toolbox.individual()\n",
      "    transform_lilypond(x[0] for x in a)\n",
      "   \n",
      "    \n",
      "    print(toolbox.evaluate(a))\n",
      "    b = toolbox.individual()\n",
      "    print(b)\n",
      "    print(toolbox.evaluate(b))\n",
      "    a,b = toolbox.mate(a,b)\n",
      "    print(a)\n",
      "    print(b)\n",
      "    print(\"_\"*20)\n",
      "    \n",
      "    a = toolbox.mutate(a)\n",
      "    print(a)\n",
      "    print(\"-\"*20)\n",
      "    \"\"\""
     ],
     "language": "python",
     "metadata": {},
     "outputs": [
      {
       "name": "stdout",
       "output_type": "stream",
       "stream": "stdout",
       "text": [
        "n[#b] notas 2# 54 67 69 61 62\n"
       ]
      },
      {
       "output_type": "stream",
       "stream": "stdout",
       "text": [
        "2M [54, 67, 69, 61, 62]\n",
        "gen\tnevals\tavg    \tstd    \tmin \tmax  \n",
        "0  \t400   \t88.9407\t26.6501\t16.9\t159.5"
       ]
      },
      {
       "output_type": "stream",
       "stream": "stdout",
       "text": [
        "\n",
        "1  \t268   \t65.579 \t20.3799\t12.3\t138  "
       ]
      },
      {
       "output_type": "stream",
       "stream": "stdout",
       "text": [
        "\n",
        "2  \t271   \t51.5168\t17.0369\t6.3 \t104.5"
       ]
      },
      {
       "output_type": "stream",
       "stream": "stdout",
       "text": [
        "\n",
        "3  \t257   \t39.6322\t16.6338\t6.3 \t103.7"
       ]
      },
      {
       "output_type": "stream",
       "stream": "stdout",
       "text": [
        "\n",
        "4  \t257   \t29.5307\t14.5916\t2.8 \t91.2 "
       ]
      },
      {
       "output_type": "stream",
       "stream": "stdout",
       "text": [
        "\n",
        "5  \t251   \t22.644 \t13.6346\t2.8 \t76.2 "
       ]
      },
      {
       "output_type": "stream",
       "stream": "stdout",
       "text": [
        "\n",
        "6  \t264   \t17.9063\t13.0709\t1.4 \t62.6 "
       ]
      },
      {
       "output_type": "stream",
       "stream": "stdout",
       "text": [
        "\n",
        "7  \t244   \t12.703 \t10.0383\t1.4 \t55.9 "
       ]
      },
      {
       "output_type": "stream",
       "stream": "stdout",
       "text": [
        "\n",
        "8  \t272   \t10.632 \t10.5114\t0.7 \t71.6 "
       ]
      },
      {
       "output_type": "stream",
       "stream": "stdout",
       "text": [
        "\n",
        "9  \t254   \t9.83525\t11.5564\t0   \t72.3 "
       ]
      },
      {
       "output_type": "stream",
       "stream": "stdout",
       "text": [
        "\n",
        "10 \t243   \t7.96425\t10.5602\t0   \t64.9 "
       ]
      },
      {
       "output_type": "stream",
       "stream": "stdout",
       "text": [
        "\n",
        "11 \t249   \t7.0975 \t10.2144\t0   \t59.4 "
       ]
      },
      {
       "output_type": "stream",
       "stream": "stdout",
       "text": [
        "\n",
        "12 \t265   \t7.52025\t12.0267\t0   \t70.2 "
       ]
      },
      {
       "output_type": "stream",
       "stream": "stdout",
       "text": [
        "\n",
        "13 \t255   \t7.36575\t12.3417\t0   \t68.1 "
       ]
      },
      {
       "output_type": "stream",
       "stream": "stdout",
       "text": [
        "\n",
        "14 \t270   \t6.50275\t12.5303\t0   \t67.4 "
       ]
      },
      {
       "output_type": "stream",
       "stream": "stdout",
       "text": [
        "\n",
        "15 \t247   \t5.36225\t11.1234\t0   \t67.4 "
       ]
      },
      {
       "output_type": "stream",
       "stream": "stdout",
       "text": [
        "\n",
        "16 \t281   \t5.181  \t11.8023\t0   \t68.8 "
       ]
      },
      {
       "output_type": "stream",
       "stream": "stdout",
       "text": [
        "\n",
        "17 \t250   \t4.63475\t11.2098\t0   \t68.1 "
       ]
      },
      {
       "output_type": "stream",
       "stream": "stdout",
       "text": [
        "\n",
        "18 \t278   \t5.34775\t12.4902\t0   \t63.5 "
       ]
      },
      {
       "output_type": "stream",
       "stream": "stdout",
       "text": [
        "\n",
        "19 \t268   \t4.94275\t11.8878\t0   \t67.4 "
       ]
      },
      {
       "output_type": "stream",
       "stream": "stdout",
       "text": [
        "\n",
        "20 \t272   \t5.36025\t11.9563\t0   \t68.8 "
       ]
      },
      {
       "output_type": "stream",
       "stream": "stdout",
       "text": [
        "\n",
        "21 \t254   \t3.62925\t9.83572\t0   \t53.8 "
       ]
      },
      {
       "output_type": "stream",
       "stream": "stdout",
       "text": [
        "\n",
        "22 \t251   \t3.566  \t9.36705\t0   \t40.9 "
       ]
      },
      {
       "output_type": "stream",
       "stream": "stdout",
       "text": [
        "\n",
        "23 \t264   \t5.12725\t11.8083\t0   \t62.8 "
       ]
      },
      {
       "output_type": "stream",
       "stream": "stdout",
       "text": [
        "\n",
        "24 \t270   \t5.6745 \t12.9185\t0   \t63.5 "
       ]
      },
      {
       "output_type": "stream",
       "stream": "stdout",
       "text": [
        "\n",
        "25 \t260   \t5.49225\t12.2049\t0   \t68.1 "
       ]
      },
      {
       "output_type": "stream",
       "stream": "stdout",
       "text": [
        "\n",
        "26 \t255   \t4.7415 \t11.7743\t0   \t68.1 "
       ]
      },
      {
       "output_type": "stream",
       "stream": "stdout",
       "text": [
        "\n",
        "27 \t278   \t5.43875\t12.5494\t0   \t69.5 "
       ]
      },
      {
       "output_type": "stream",
       "stream": "stdout",
       "text": [
        "\n",
        "28 \t244   \t4.39225\t11.5138\t0   \t68.1 "
       ]
      },
      {
       "output_type": "stream",
       "stream": "stdout",
       "text": [
        "\n",
        "29 \t275   \t4.29225\t10.8119\t0   \t55.2 "
       ]
      },
      {
       "output_type": "stream",
       "stream": "stdout",
       "text": [
        "\n",
        "30 \t264   \t5.0515 \t11.4269\t0   \t68.8 "
       ]
      },
      {
       "output_type": "stream",
       "stream": "stdout",
       "text": [
        "\n",
        "31 \t277   \t5.192  \t12.2941\t0   \t68.8 "
       ]
      },
      {
       "output_type": "stream",
       "stream": "stdout",
       "text": [
        "\n",
        "32 \t241   \t4.01625\t10.1828\t0   \t55.9 "
       ]
      },
      {
       "output_type": "stream",
       "stream": "stdout",
       "text": [
        "\n",
        "33 \t261   \t4.1105 \t11.1666\t0   \t55.2 "
       ]
      },
      {
       "output_type": "stream",
       "stream": "stdout",
       "text": [
        "\n",
        "34 \t251   \t5.05875\t12.032 \t0   \t68.8 "
       ]
      },
      {
       "output_type": "stream",
       "stream": "stdout",
       "text": [
        "\n",
        "35 \t252   \t4.078  \t10.7846\t0   \t68.8 "
       ]
      },
      {
       "output_type": "stream",
       "stream": "stdout",
       "text": [
        "\n",
        "36 \t262   \t5.48   \t11.8486\t0   \t54.5 "
       ]
      },
      {
       "output_type": "stream",
       "stream": "stdout",
       "text": [
        "\n",
        "37 \t260   \t5.11025\t11.246 \t0   \t53.8 "
       ]
      },
      {
       "output_type": "stream",
       "stream": "stdout",
       "text": [
        "\n",
        "38 \t273   \t5.65975\t12.0981\t0   \t68.8 "
       ]
      },
      {
       "output_type": "stream",
       "stream": "stdout",
       "text": [
        "\n",
        "39 \t268   \t4.53825\t10.5754\t0   \t46.4 "
       ]
      },
      {
       "output_type": "stream",
       "stream": "stdout",
       "text": [
        "\n",
        "40 \t272   \t5.155  \t12.1592\t0   \t68.8 "
       ]
      },
      {
       "output_type": "stream",
       "stream": "stdout",
       "text": [
        "\n",
        "41 \t283   \t5.09025\t11.6071\t0   \t54.5 "
       ]
      },
      {
       "output_type": "stream",
       "stream": "stdout",
       "text": [
        "\n",
        "42 \t265   \t4.564  \t10.4749\t0   \t55.2 "
       ]
      },
      {
       "output_type": "stream",
       "stream": "stdout",
       "text": [
        "\n",
        "43 \t249   \t4.41725\t10.9099\t0   \t68.8 "
       ]
      },
      {
       "output_type": "stream",
       "stream": "stdout",
       "text": [
        "\n",
        "44 \t260   \t3.96325\t9.65986\t0   \t53.8 "
       ]
      },
      {
       "output_type": "stream",
       "stream": "stdout",
       "text": [
        "\n",
        "45 \t253   \t4.1785 \t10.1774\t0   \t53.1 "
       ]
      },
      {
       "output_type": "stream",
       "stream": "stdout",
       "text": [
        "\n",
        "46 \t281   \t4.34725\t10.4216\t0   \t68.1 "
       ]
      },
      {
       "output_type": "stream",
       "stream": "stdout",
       "text": [
        "\n",
        "47 \t266   \t6.0135 \t13.3893\t0   \t68.8 "
       ]
      },
      {
       "output_type": "stream",
       "stream": "stdout",
       "text": [
        "\n",
        "48 \t260   \t5.56675\t12.0843\t0   \t53.8 "
       ]
      },
      {
       "output_type": "stream",
       "stream": "stdout",
       "text": [
        "\n",
        "49 \t261   \t4.94525\t11.0611\t0   \t52.4 "
       ]
      },
      {
       "output_type": "stream",
       "stream": "stdout",
       "text": [
        "\n",
        "50 \t261   \t4.502  \t11.1668\t0   \t68.1 "
       ]
      },
      {
       "output_type": "stream",
       "stream": "stdout",
       "text": [
        "\n",
        "51 \t258   \t4.487  \t10.9626\t0   \t53.1 "
       ]
      },
      {
       "output_type": "stream",
       "stream": "stdout",
       "text": [
        "\n",
        "52 \t242   \t4.247  \t11.1481\t0   \t68.1 "
       ]
      },
      {
       "output_type": "stream",
       "stream": "stdout",
       "text": [
        "\n",
        "53 \t268   \t4.33375\t10.9911\t0   \t66.7 "
       ]
      },
      {
       "output_type": "stream",
       "stream": "stdout",
       "text": [
        "\n",
        "54 \t263   \t3.948  \t10.4929\t0   \t53.8 "
       ]
      },
      {
       "output_type": "stream",
       "stream": "stdout",
       "text": [
        "\n",
        "55 \t273   \t4.36375\t11.1765\t0   \t68.1 "
       ]
      },
      {
       "output_type": "stream",
       "stream": "stdout",
       "text": [
        "\n",
        "56 \t260   \t4.2675 \t11.4096\t0   \t68.8 "
       ]
      },
      {
       "output_type": "stream",
       "stream": "stdout",
       "text": [
        "\n",
        "57 \t266   \t4.579  \t11.1275\t0   \t54.5 "
       ]
      },
      {
       "output_type": "stream",
       "stream": "stdout",
       "text": [
        "\n",
        "58 \t250   \t4.9205 \t11.8345\t0   \t53.8 "
       ]
      },
      {
       "output_type": "stream",
       "stream": "stdout",
       "text": [
        "\n",
        "59 \t257   \t4.8595 \t11.5089\t0   \t66.7 "
       ]
      },
      {
       "output_type": "stream",
       "stream": "stdout",
       "text": [
        "\n",
        "60 \t275   \t4.29775\t11.0351\t0   \t68.1 "
       ]
      },
      {
       "output_type": "stream",
       "stream": "stdout",
       "text": [
        "\n",
        "61 \t246   \t3.94025\t10.3594\t0   \t60.7 "
       ]
      },
      {
       "output_type": "stream",
       "stream": "stdout",
       "text": [
        "\n",
        "62 \t265   \t4.52075\t11.5865\t0   \t68.8 "
       ]
      },
      {
       "output_type": "stream",
       "stream": "stdout",
       "text": [
        "\n",
        "63 \t263   \t5.38625\t12.5687\t0   \t68.1 "
       ]
      },
      {
       "output_type": "stream",
       "stream": "stdout",
       "text": [
        "\n",
        "64 \t251   \t4.3055 \t11.3722\t0   \t67.4 "
       ]
      },
      {
       "output_type": "stream",
       "stream": "stdout",
       "text": [
        "\n",
        "65 \t264   \t4.793  \t11.7707\t0   \t69.5 "
       ]
      },
      {
       "output_type": "stream",
       "stream": "stdout",
       "text": [
        "\n",
        "66 \t269   \t5.346  \t11.8327\t0   \t55.2 "
       ]
      },
      {
       "output_type": "stream",
       "stream": "stdout",
       "text": [
        "\n",
        "67 \t255   \t4.9585 \t11.9367\t0   \t68.1 "
       ]
      },
      {
       "output_type": "stream",
       "stream": "stdout",
       "text": [
        "\n",
        "68 \t271   \t5.2295 \t11.82  \t0   \t68.8 "
       ]
      },
      {
       "output_type": "stream",
       "stream": "stdout",
       "text": [
        "\n",
        "69 \t255   \t4.41125\t10.8187\t0   \t53.8 "
       ]
      },
      {
       "output_type": "stream",
       "stream": "stdout",
       "text": [
        "\n",
        "70 \t250   \t4.78825\t11.363 \t0   \t68.8 "
       ]
      },
      {
       "output_type": "stream",
       "stream": "stdout",
       "text": [
        "\n",
        "[[54, 50, 57, 69], [67, 50, 62, 71], [69, 54, 61, 66], [61, 54, 66, 69], [62, 54, 62, 74]]\n",
        "a' b' fis' a' d''|\n",
        "a d' cis' fis' d'|\n",
        "d d fis fis fis|\n",
        "fis g' a' cis' d'|\n",
        "\n",
        "[[54, 50, 57, 69], [67, 50, 62, 71], [69, 54, 61, 66], [61, 52, 55, 61], [62, 50, 57, 66]]\n",
        "a' b' fis' cis' fis'|\n",
        "a d' cis' g a|\n",
        "d d fis e d|\n",
        "fis g' a' cis' d'|\n",
        "\n",
        "[[54, 50, 57, 69], [67, 50, 62, 71], [69, 50, 57, 66], [61, 52, 55, 61], [62, 50, 57, 66]]\n",
        "a' b' fis' cis' fis'|\n",
        "a d' a g a|\n",
        "d d d e d|\n",
        "fis g' a' cis' d'|\n",
        "\n"
       ]
      }
     ],
     "prompt_number": 28
    },
    {
     "cell_type": "code",
     "collapsed": false,
     "input": [
      "human1 = [[43, 55, 62, 71], \n",
      "         [50, 54, 62, 69], \n",
      "         [48, 55, 64, 72], \n",
      "         [47, 55, 66, 74], \n",
      "         \n",
      "         [45, 57, 64, 72], \n",
      "         [43, 59, 67, 74], \n",
      "         [55, 60, 64, 72], \n",
      "         [52, 60, 67, 72], \n",
      "         \n",
      "         [50, 62, 66, 74], \n",
      "         [48, 64, 69, 76], \n",
      "         [52, 64, 67, 71], \n",
      "         [50, 57, 66, 69], \n",
      "         \n",
      "         [50, 54, 62, 69], \n",
      "         [43, 55, 62, 71], \n",
      "         [45, 52, 64, 72], \n",
      "         [47, 55, 62, 67], \n",
      "         \n",
      "         [48, 55, 64, 72], \n",
      "         [47, 55, 62, 71], \n",
      "         [48, 55, 64, 67], \n",
      "         [52, 55, 64, 71], \n",
      "         \n",
      "         [50, 57, 66, 74], \n",
      "         [38, 50, 62, 66], \n",
      "         [43, 55, 62, 67]\n",
      "         ]\n",
      "transform_lilypond(human1)\n",
      "\n",
      "human2 = [[50, 57, 66, 74],\n",
      "          [43, 59, 67, 74],\n",
      "          [49, 57, 64, 69],\n",
      "          [50, 57, 66, 69],\n",
      "          \n",
      "          [52, 55, 64, 71],\n",
      "          [45, 57, 64, 73],\n",
      "          [49, 55, 64, 73],\n",
      "          [50, 54, 62, 69],\n",
      "          \n",
      "          [43, 55, 62, 71],\n",
      "          [45, 52, 61, 69],\n",
      "          [50, 54, 62, 69]\n",
      "          ]\n",
      "transform_lilypond(human2)\n",
      "\n",
      "human3 = [[46, 53, 62, 70],\n",
      "          [50, 53, 62, 69],\n",
      "          [48, 55, 63, 72],\n",
      "          [51, 55, 63, 70],\n",
      "          \n",
      "          [53, 57, 62, 74],\n",
      "          [51, 58, 67, 75],\n",
      "          [48, 57, 65, 77],\n",
      "          [45, 57, 63, 72],\n",
      "          \n",
      "          [46, 53, 62, 70]\n",
      "          ]\n",
      "transform_lilypond(human3)\n"
     ],
     "language": "python",
     "metadata": {},
     "outputs": [
      {
       "ename": "TypeError",
       "evalue": "transform_lilypond() missing 1 required positional argument: 'indiv'",
       "output_type": "pyerr",
       "traceback": [
        "\u001b[1;31m---------------------------------------------------------------------------\u001b[0m\n\u001b[1;31mTypeError\u001b[0m                                 Traceback (most recent call last)",
        "\u001b[1;32m<ipython-input-29-04a1e561742c>\u001b[0m in \u001b[0;36m<module>\u001b[1;34m()\u001b[0m\n\u001b[0;32m     28\u001b[0m          \u001b[1;33m[\u001b[0m\u001b[1;36m43\u001b[0m\u001b[1;33m,\u001b[0m \u001b[1;36m55\u001b[0m\u001b[1;33m,\u001b[0m \u001b[1;36m62\u001b[0m\u001b[1;33m,\u001b[0m \u001b[1;36m67\u001b[0m\u001b[1;33m]\u001b[0m\u001b[1;33m\u001b[0m\u001b[0m\n\u001b[0;32m     29\u001b[0m          ]\n\u001b[1;32m---> 30\u001b[1;33m \u001b[0mtransform_lilypond\u001b[0m\u001b[1;33m(\u001b[0m\u001b[0mhuman1\u001b[0m\u001b[1;33m)\u001b[0m\u001b[1;33m\u001b[0m\u001b[0m\n\u001b[0m\u001b[0;32m     31\u001b[0m \u001b[1;33m\u001b[0m\u001b[0m\n\u001b[0;32m     32\u001b[0m human2 = [[50, 57, 66, 74],\n",
        "\u001b[1;31mTypeError\u001b[0m: transform_lilypond() missing 1 required positional argument: 'indiv'"
       ]
      }
     ],
     "prompt_number": 29
    },
    {
     "cell_type": "heading",
     "level": 3,
     "metadata": {},
     "source": [
      "Buenos resultados:"
     ]
    },
    {
     "cell_type": "raw",
     "metadata": {},
     "source": [
      "1# 43 50 48 47 45 43 55 52 50 48 52 50 50 43 45 47 48 47 48 52 50 38 43\n",
      "\n",
      "PRIMERA GENERACI\u00d3N\n",
      "d' g' e'' b' d'' b' d'' e'' b' a'' c'' g' b' e' a' g' fis'' d' a' c'' b' d' g''|\n",
      "d' d' e' b' d' g' d' g' g' a' e' b b b c' g' a' g a' c' g' a g'|\n",
      "b b a d' fis d' b b g' a a d fis b a g c' d a g g' fis b|\n",
      "g, d c b, a, g, g e d c e d d g, a, b, c b, c e d d, g,|\n",
      "\n",
      "SEGUNDA GENERACI\u00d3N\n",
      "d'' a' fis' g' c' e' d' b' b' a' c''' d'' d'' e' e' g' fis'' d'' a'' e'' a' b' g'|\n",
      "d' d' a d' a b b g' b' a' c'' g' fis' b c' e' a' g' a' g' d' fis' b|\n",
      "b fis fis d e e g b b e' c' b a b e b fis' d' a b fis fis g|\n",
      "g, d c b, a, g, g e d c e d d g, a, b, c b, c e d d, g,|\n",
      "\n",
      "g' d' fis' b' fis' g' b' a' b' e'' a'' fis'' fis' e'' d'' b' fis'' b' g' b' g'' d'' d''|\n",
      "b fis a d' c' d' e' c' b' c'' c'' fis' d' e' fis' d' fis' d' g' g' g' g' d'|\n",
      "g d fis b fis b b a b g' e' b a e d' b a b e' b b b b|\n",
      "g, d c b, a, g, g e d c e d d g, a, b, c b, c e d d, g,|\n",
      "\n",
      "g' b' fis' b' fis' g' b' a' b' e'' a'' fis'' fis' e'' d'' b' fis'' b' g' b' g'' d'' d''|\n",
      "b d' a d' c' d' e' c' b' c'' c'' fis' d' e' fis' d' fis' d' g' g' g' g' d'|\n",
      "g g fis b fis b b a b g' e' b a e d' b a b e' b b b b|\n",
      "g, d c b, a, g, g e d c e d d g, a, b, c b, c e d d, g,|\n",
      "\n",
      "b' fis' a' fis' c'' b' g' g' fis'' a'' g'' fis'' b' c'' a' g' a' b' a' e'' a' d'' g'|\n",
      "d' b e' fis' a' d' d' b b' c'' b' b' b g' c' g' e' d' a' a' fis' g' b|\n",
      "d fis e d' a d' b e fis' fis' e' b b e' a g' e fis a c' a b g|\n",
      "g, d c b, a, g, g e d c e d d g, a, b, c b, c e d d, g,|\n",
      "\n",
      "TERCERA\n",
      "\n",
      "# good\n",
      "d'' d'' c'' e'' c'' d' e' c'' b' a'' e'' b'' a' b'' fis'' e'' a'' g'' e'' e'' g'' a' g''|\n",
      "g' fis' fis' e' fis' b c' c' fis' a' g' b' fis' e'' c'' b' c'' d'' a' g' g' fis' b'|\n",
      "b a a g fis d g c' b a b b d' e' fis' g' fis' g' a b b a g'|\n",
      "g, d c b, a, g, g e d c e d d g, a, b, c b, c e d d, g,|\n",
      "\n",
      "g' d' e' e' fis' e'' c'' a' b' a'' c'' b' fis'' g'' a' b' fis' fis' a' g' b' b' d''|\n",
      "b b g b fis' e' e' c' fis' a' e' g' a' g' fis' d' c' d' c' b fis' g' d'|\n",
      "g g g g fis b c' a b a a d' a b d' b a b fis b b d' b|\n",
      "g, d c b, a, g, g e d c e d d g, a, b, c b, c e d d, g,|\n",
      "\n",
      "\n",
      "2# 50 43 49 50 52 45 49 50 43 45 50\n",
      "\n",
      "d'' b' a' g' a' fis' cis' fis' g' cis' d''|\n",
      "fis' e' cis' d' cis' cis' a a cis' a d'|\n",
      "a e fis b a fis fis d e a fis|\n",
      "d g, cis d e a, cis d g, a, d|\n",
      "\n",
      "d'' g'' a'' fis'' cis'' e'' cis'' d'' d'' d'' fis''|\n",
      "a' cis'' a' b' g' cis'' a' fis' d' fis' a'|\n",
      "fis' e' e' fis' cis' e' fis' d' b d' a|\n",
      "d g, cis d e a, cis d g, a, d|\n",
      "\n",
      "# good\n",
      "d' cis' fis' b' a' a' g' fis' e' d' fis'|\n",
      "fis g a d' cis' cis' e' d' cis' a d'|\n",
      "d e cis g a a g a g fis d|\n",
      "d g, cis d e a, cis d g, a, d|\n",
      "\n",
      "# good\n",
      "fis'' e'' e'' b' a' a' fis' fis' e' d' fis'|\n",
      "a' e' a' fis' cis' cis' a b cis' a d'|\n",
      "a b e' b a a fis fis g fis d|\n",
      "d g, cis d e a, cis d g, a, d|\n",
      "\n",
      "# very good\n",
      "a' g' a' a' a' a' fis' b' b' a' d''|\n",
      "fis' d' fis' fis' cis' cis' cis' g' e' e' fis'|\n",
      "a b cis' a a a a g b cis' d'|\n",
      "d g, cis d e a, cis d g, a, d|\n",
      "\n",
      "\n",
      "2b 46 50 48 51 53 51 48 45 46\n",
      "\n",
      "d'' bes' ees'' c'' d'' g'' f'' f'' d''|\n",
      "f' f' g' ees' d' bes' a' a' bes'|\n",
      "f bes g a a ees' f' d' bes|\n",
      "bes, d c ees f ees c a, bes,|"
     ]
    }
   ],
   "metadata": {}
  }
 ]
}