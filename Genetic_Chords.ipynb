{
 "metadata": {
  "name": "",
  "signature": "sha256:8ba823f76b6fd6fd5162f8e7aad16fe490334d49f92687822039f1de41fcf8a4"
 },
 "nbformat": 3,
 "nbformat_minor": 0,
 "worksheets": [
  {
   "cells": [
    {
     "cell_type": "code",
     "collapsed": false,
     "input": [
      "# Casos de prueba:\n",
      "# 2# 62 67 69 62 61\n"
     ],
     "language": "python",
     "metadata": {},
     "outputs": [],
     "prompt_number": 1
    },
    {
     "cell_type": "code",
     "collapsed": false,
     "input": [
      "import random\n",
      "import math\n",
      "\n",
      "from deap import base\n",
      "from deap import creator\n",
      "from deap import tools\n",
      "from deap import algorithms"
     ],
     "language": "python",
     "metadata": {},
     "outputs": [],
     "prompt_number": 1
    },
    {
     "cell_type": "raw",
     "metadata": {},
     "source": [
      "si la armadura tiene sostenido se multiplica 7 por el n\u00famero de sostenidos mod(12)\n",
      "si la armadura tiene bemoles se multiplica 5 por el n\u00famero de bemoles mod(12)"
     ]
    },
    {
     "cell_type": "code",
     "collapsed": false,
     "input": [
      "# Global Variables\n",
      "OPTIONS_M = ((0,-3,5), (0,-3,5), (0,-4,5), (0,-3,6), (0,-3,5), (0,-4,5), (0,-4,5))\n",
      "OPTIONS_m = ((0,-4,5), (0,-4,5), (0,-3,5), (0,-3,5), (0,-4,5), (0,-3,6), (0,5))\n",
      "MOD_M = ('M','m','m','M','M','m','d')\n",
      "MOD_m = ('m','d','M','m','M','M','M')"
     ],
     "language": "python",
     "metadata": {},
     "outputs": [],
     "prompt_number": 2
    },
    {
     "cell_type": "code",
     "collapsed": false,
     "input": [
      "# Tonality function\n",
      "def setTon(line):\n",
      "    \"\"\"Determine the tonality of the exercice\"\"\"\n",
      "    ton = line[:2]\n",
      "    notes = list(map(int, line[3:].split(' ')))\n",
      "    if ton[1] == '#':\n",
      "        ton = (int(ton[0])*7)%12\n",
      "    else:\n",
      "        ton = (int(ton[0])*5)%12\n",
      "    for note in notes:\n",
      "        if (ton+6)%12 == note%12:\n",
      "            ton = str((ton-3)%12)+'m'\n",
      "            break\n",
      "    else:\n",
      "        if ton-3 == notes[-1]%12:\n",
      "            ton = str((ton-3)%12)+'m'\n",
      "        else:\n",
      "            ton = str(ton)+'M'\n",
      "    return ton, notes"
     ],
     "language": "python",
     "metadata": {},
     "outputs": [],
     "prompt_number": 3
    },
    {
     "cell_type": "code",
     "collapsed": false,
     "input": [
      "def creatChord(nameC, noteF):\n",
      "    \"\"\"Create one chord given the name of the chord and the fundamental note\"\"\"\n",
      "    \n",
      "    num_funda = int(nameC[:-1])\n",
      "    if nameC[-1] == 'M':\n",
      "        val_notes = [num_funda, (num_funda+4)%12, (num_funda+7)%12]\n",
      "    elif nameC[-1] == 'm':\n",
      "        val_notes = [num_funda, (num_funda+3)%12, (num_funda+7)%12]\n",
      "    elif nameC[-1] == 'd':\n",
      "        val_notes = [num_funda, (num_funda+3)%12, (num_funda+6)%12]\n",
      "        \n",
      "    tenorR = list(range(48, 74))\n",
      "    contR = list(range(52, 77))\n",
      "    sopR = list(range(60, 86))\n",
      "    \n",
      "    # Depending in the bass note this are the options for the others voices\n",
      "    if noteF%12 == val_notes[0]:\n",
      "        opc = [[1,1,1], [2,1,0], [0,1,2]]\n",
      "    elif noteF%12 == val_notes[1]:\n",
      "        opc = [[1,0,2], [3,0,0], [2,0,1]]\n",
      "    elif noteF%12 == val_notes[2]:\n",
      "        opc = [[1,1,1], [2,1,0]]\n",
      "        \n",
      "    # Continua en la hoja suelta\n",
      "    # Conciderar usar random.choice()\n",
      "    \n",
      "    opc = random.choice(opc)\n",
      "    chordN = list()\n",
      "    for num, val in zip(opc, val_notes):\n",
      "        chordN += [val]*num\n",
      "    \n",
      "    random.shuffle(chordN)\n",
      "    \n",
      "    chord = [noteF,]\n",
      "    for nte, voce in zip(chordN, [tenorR, contR, sopR]):\n",
      "        posible_n = [x for x in voce if x%12 == nte]\n",
      "        chord.append(random.choice(posible_n))\n",
      "    \n",
      "    return chord"
     ],
     "language": "python",
     "metadata": {},
     "outputs": [],
     "prompt_number": 12
    },
    {
     "cell_type": "code",
     "collapsed": false,
     "input": [
      "# Selection of the chord\n",
      "def selChord(ton, notesBass):\n",
      "    \"\"\"Select the chords from all the posibilities\"\"\"\n",
      "    listaOp = OPTIONS_M if ton[-1] == 'M' else OPTIONS_m\n",
      "    listaMod = MOD_M if ton[-1] == 'M' else MOD_m\n",
      "    prog = list()\n",
      "    \n",
      "    for note in notesBass:\n",
      "        name = note%12\n",
      "        grad = name-int(ton[:-1])\n",
      "        grad = math.ceil(((grad+12)%12) / 2)\n",
      "        num = (listaOp[grad][random.randint(0,len(listaOp[grad])-1)] + name +12) %12\n",
      "        grad = num-int(ton[:-1])\n",
      "        grad = math.ceil(((grad+12)%12) / 2)\n",
      "        name = '{}{}'.format(num, listaMod[grad])\n",
      "        prog.append(creatChord(name, note))\n",
      "    return prog"
     ],
     "language": "python",
     "metadata": {},
     "outputs": [],
     "prompt_number": 6
    },
    {
     "cell_type": "code",
     "collapsed": false,
     "input": [
      "# Individual creation\n",
      "def newChordProg(ton, notes):\n",
      "    \"\"\"Create a new individual given the tonality and the base notes\"\"\"\n",
      "    chords = selChord(ton, notes)\n",
      "    for c in chords:\n",
      "        yield c"
     ],
     "language": "python",
     "metadata": {},
     "outputs": [],
     "prompt_number": 7
    },
    {
     "cell_type": "code",
     "collapsed": false,
     "input": [
      "# Evaluation function\n",
      "def evalNumErr(individual):\n",
      "    pass"
     ],
     "language": "python",
     "metadata": {},
     "outputs": [],
     "prompt_number": 8
    },
    {
     "cell_type": "code",
     "collapsed": false,
     "input": [
      "# Mutant function\n",
      "def mutChangeNotes(individual, indpb):\n",
      "    pass"
     ],
     "language": "python",
     "metadata": {},
     "outputs": [],
     "prompt_number": 9
    },
    {
     "cell_type": "code",
     "collapsed": false,
     "input": [
      "def main():\n",
      "    pop = toolbox.population(n=300)\n",
      "    hof = tools.HallOfFame(1)\n",
      "    stats = tools.Statistics(lambda ind: ind.fitness.values)\n",
      "    stats.register('avg', numpy.mean)\n",
      "    stats.register('std', numpy.std)\n",
      "    stats.register('min', numpy.min)\n",
      "    stats.register('max', numpy.max)\n",
      "    \n",
      "    pop, log = algorithms.eaSimple(pop, toolbox, cxpb=0.5, mutpb=0.2, ngen=40, stats=stats, halloffame=hof, verbose=True)"
     ],
     "language": "python",
     "metadata": {},
     "outputs": [],
     "prompt_number": 10
    },
    {
     "cell_type": "code",
     "collapsed": false,
     "input": [
      "if __name__ == '__main__':\n",
      "    line = input('n[#b] notas ')\n",
      "    ton, notes = setTon(line)\n",
      "    print(ton, notes)\n",
      "    \n",
      "    # ========================= GA setup =========================\n",
      "    creator.create('FitnessMin', base.Fitness, weights=(-1.0,))\n",
      "    creator.create('Individual', list, fitness=creator.FitnessMin)\n",
      "\n",
      "    toolbox = base.Toolbox()\n",
      "    toolbox.register('creat_notes', newChordProg, ton, notes)\n",
      "    toolbox.register('individual', tools.initIterate, creator.Individual,\n",
      "                     toolbox.creat_notes)\n",
      "    toolbox.register('population', tools.initRepeat, list, toolbox.individual)\n",
      "\n",
      "    toolbox.register('evaluate', evalNumErr)\n",
      "    toolbox.register('mate', tools.cxTwoPoint)\n",
      "    toolbox.register('mutate', mutChangeNotes, indpb=0.05)\n",
      "    toolbox.register('select', tools.selTournament, tournsize=3)\n",
      "    # =============================================================\n",
      "    \n",
      "    print(toolbox.individual())\n",
      "    print(toolbox.individual())\n",
      "    print(toolbox.individual())\n",
      "    print(toolbox.individual())\n",
      "    "
     ],
     "language": "python",
     "metadata": {},
     "outputs": [
      {
       "name": "stdout",
       "output_type": "stream",
       "stream": "stdout",
       "text": [
        "n[#b] notas 2# 62 67 69 62 61\n"
       ]
      },
      {
       "output_type": "stream",
       "stream": "stdout",
       "text": [
        "2M [62, 67, 69, 62, 61]\n",
        "[[62, 57, 62, 66], [67, 64, 71, 76], [69, 66, 62, 62], [62, 67, 62, 83], [61, 69, 57, 81]]\n",
        "[[62, 67, 59, 74], [67, 50, 67, 83], [69, 57, 61, 76], [62, 66, 69, 81], [61, 61, 57, 66]]\n",
        "[[62, 59, 71, 83], [67, 67, 73, 64], [69, 66, 61, 66], [62, 59, 66, 78], [61, 57, 64, 69]]\n",
        "[[62, 62, 69, 78], [67, 49, 67, 76], [69, 57, 73, 76], [62, 62, 66, 62], [61, 52, 52, 81]]\n"
       ]
      }
     ],
     "prompt_number": 14
    },
    {
     "cell_type": "code",
     "collapsed": false,
     "input": [],
     "language": "python",
     "metadata": {},
     "outputs": [],
     "prompt_number": 11
    }
   ],
   "metadata": {}
  }
 ]
}