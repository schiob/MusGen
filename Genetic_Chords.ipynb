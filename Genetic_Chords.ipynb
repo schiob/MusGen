{
 "metadata": {
  "name": "",
  "signature": "sha256:e35186da7ce087d86bb5478ff40013a96bd64be6b9838340ce620b50ec0694c5"
 },
 "nbformat": 3,
 "nbformat_minor": 0,
 "worksheets": [
  {
   "cells": [
    {
     "cell_type": "code",
     "collapsed": false,
     "input": [
      "# Casos de prueba:\n",
      "# 2# 55 67 69 62 61\n"
     ],
     "language": "python",
     "metadata": {},
     "outputs": [],
     "prompt_number": 79
    },
    {
     "cell_type": "code",
     "collapsed": false,
     "input": [
      "import random\n",
      "import math\n",
      "\n",
      "from deap import base\n",
      "from deap import creator\n",
      "from deap import tools\n",
      "from deap import algorithms"
     ],
     "language": "python",
     "metadata": {},
     "outputs": [],
     "prompt_number": 80
    },
    {
     "cell_type": "raw",
     "metadata": {},
     "source": [
      "si la armadura tiene sostenido se multiplica 7 por el n\u00famero de sostenidos mod(12)\n",
      "si la armadura tiene bemoles se multiplica 5 por el n\u00famero de bemoles mod(12)"
     ]
    },
    {
     "cell_type": "code",
     "collapsed": false,
     "input": [
      "# Global Variables\n",
      "OPTIONS_M = ((0,-3,5), (0,-3,5), (0,-4,5), (0,-3,6), (0,-3,5), (0,-4,5), (0,-4,5))\n",
      "OPTIONS_m = ((0,-4,5), (0,-4,5), (0,-3,5), (0,-3,5), (0,-4,5), (0,-3,6), (0,5))\n",
      "MOD_M = ('M','m','m','M','M','m','d')\n",
      "MOD_m = ('m','d','M','m','M','M','M')"
     ],
     "language": "python",
     "metadata": {},
     "outputs": [],
     "prompt_number": 81
    },
    {
     "cell_type": "code",
     "collapsed": false,
     "input": [
      "def neighborhood(iterable):\n",
      "    \"\"\"Generator gives the prev actual and next\"\"\"\n",
      "    iterator = iter(iterable)\n",
      "    prev = None\n",
      "    item = next(iterator)  # throws StopIteration if empty.\n",
      "    for nex in iterator:\n",
      "        yield (prev,item,nex)\n",
      "        prev = item\n",
      "        item = nex\n",
      "    yield (prev,item,None)"
     ],
     "language": "python",
     "metadata": {},
     "outputs": [],
     "prompt_number": 82
    },
    {
     "cell_type": "code",
     "collapsed": false,
     "input": [
      "# Tonality function\n",
      "def setTon(line):\n",
      "    \"\"\"Determine the tonality of the exercice\"\"\"\n",
      "    ton = line[:2]\n",
      "    notes = list(map(int, line[3:].split(' ')))\n",
      "    if ton[1] == '#':\n",
      "        ton = (int(ton[0])*7)%12\n",
      "    else:\n",
      "        ton = (int(ton[0])*5)%12\n",
      "    for note in notes:\n",
      "        if (ton+6)%12 == note%12:\n",
      "            ton = str((ton-3)%12)+'m'\n",
      "            break\n",
      "    else:\n",
      "        if ton-3 == notes[-1]%12:\n",
      "            ton = str((ton-3)%12)+'m'\n",
      "        else:\n",
      "            ton = str(ton)+'M'\n",
      "    return ton, notes"
     ],
     "language": "python",
     "metadata": {},
     "outputs": [],
     "prompt_number": 83
    },
    {
     "cell_type": "code",
     "collapsed": false,
     "input": [
      "def creatChord(nameC, noteF):\n",
      "    \"\"\"Create one chord given the name of the chord and the fundamental note\"\"\"\n",
      "    \n",
      "    num_funda = int(nameC[:-1])\n",
      "    if nameC[-1] == 'M':\n",
      "        val_notes = [num_funda, (num_funda+4)%12, (num_funda+7)%12]\n",
      "    elif nameC[-1] == 'm':\n",
      "        val_notes = [num_funda, (num_funda+3)%12, (num_funda+7)%12]\n",
      "    elif nameC[-1] == 'd':\n",
      "        val_notes = [num_funda, (num_funda+3)%12, (num_funda+6)%12]\n",
      "        \n",
      "    tenorR = list(range(48, 74))\n",
      "    contR = list(range(52, 77))\n",
      "    sopR = list(range(60, 86))\n",
      "    \n",
      "    # Depending in the bass note this are the options for the others voices\n",
      "    if noteF%12 == val_notes[0]:\n",
      "        opc = [[1,1,1], [2,1,0], [0,1,2]]\n",
      "    elif noteF%12 == val_notes[1]:\n",
      "        opc = [[1,0,2], [3,0,0], [2,0,1]]\n",
      "    elif noteF%12 == val_notes[2]:\n",
      "        opc = [[1,1,1], [2,1,0]]\n",
      "        \n",
      "    # Continua en la hoja suelta\n",
      "    # Conciderar usar random.choice()\n",
      "    \n",
      "    opc = random.choice(opc)\n",
      "    chordN = list()\n",
      "    for num, val in zip(opc, val_notes):\n",
      "        chordN += [val]*num\n",
      "    \n",
      "    random.shuffle(chordN)\n",
      "    \n",
      "    chord = [noteF,]\n",
      "    for nte, voce in zip(chordN, [tenorR, contR, sopR]):\n",
      "        posible_n = [x for x in voce if x%12 == nte]\n",
      "        chord.append(random.choice(posible_n))\n",
      "    \n",
      "    return chord"
     ],
     "language": "python",
     "metadata": {},
     "outputs": [],
     "prompt_number": 84
    },
    {
     "cell_type": "code",
     "collapsed": false,
     "input": [
      "# Selection of the chord\n",
      "def selChord(ton, notesBass):\n",
      "    \"\"\"Select the chords from all the posibilities\"\"\"\n",
      "    listaOp = OPTIONS_M if ton[-1] == 'M' else OPTIONS_m\n",
      "    listaMod = MOD_M if ton[-1] == 'M' else MOD_m\n",
      "    prog = list()\n",
      "    \n",
      "    for note in notesBass:\n",
      "        name = note%12\n",
      "        grad = name-int(ton[:-1])\n",
      "        grad = math.ceil(((grad+12)%12) / 2)\n",
      "        num = (listaOp[grad][random.randint(0,len(listaOp[grad])-1)] + name +12) %12\n",
      "        grad = num-int(ton[:-1])\n",
      "        grad = math.ceil(((grad+12)%12) / 2)\n",
      "        name = '{}{}'.format(num, listaMod[grad])\n",
      "        prog.append([creatChord(name, note), grad])\n",
      "    return prog"
     ],
     "language": "python",
     "metadata": {},
     "outputs": [],
     "prompt_number": 85
    },
    {
     "cell_type": "code",
     "collapsed": false,
     "input": [
      "# Individual creation\n",
      "def newChordProg(ton, notes):\n",
      "    \"\"\"Create a new individual given the tonality and the base notes\"\"\"\n",
      "    chords = selChord(ton, notes)\n",
      "    for c in chords:\n",
      "        yield c"
     ],
     "language": "python",
     "metadata": {},
     "outputs": [],
     "prompt_number": 86
    },
    {
     "cell_type": "code",
     "collapsed": false,
     "input": [
      "def check_interval(chord):\n",
      "    \"\"\"Return the number of mistakes in the distance between the notes\"\"\"\n",
      "    res = 0\n",
      "    if chord[2] - chord[1] > 12 or chord[2]-chord[1] < 0:\n",
      "        res += 5\n",
      "    if chord[3] - chord[2] > 12 or chord[3]-chord[2] < 0:\n",
      "        res += 5\n",
      "    return res    "
     ],
     "language": "python",
     "metadata": {},
     "outputs": [],
     "prompt_number": 87
    },
    {
     "cell_type": "code",
     "collapsed": false,
     "input": [
      "def check_2_chords(ch1, ch2):\n",
      "    \"\"\"Return the number of mistakes in the intervals between 2 chords\"\"\"\n",
      "    res = 0\n",
      "    ite1 = map(lambda x,y: y-x, ch1[:-1], ch1[1:])\n",
      "    ite2 = map(lambda x,y: y-x, ch2[:-1], ch2[1:])\n",
      "    for inter1, inter2 in zip(ite1, ite2):\n",
      "        if inter1 == 7 and inter2 == 7:\n",
      "            res += 5\n",
      "        elif inter1 == 12 and inter2 == 12:\n",
      "            res += 5\n",
      "    return res"
     ],
     "language": "python",
     "metadata": {},
     "outputs": [],
     "prompt_number": 88
    },
    {
     "cell_type": "code",
     "collapsed": false,
     "input": [
      "# Evaluation function\n",
      "def evalNumErr(ton, individual):\n",
      "    res = 0\n",
      "    for prev, item, nex in neighborhood(individual):\n",
      "        res += check_interval(item[0])\n",
      "        if prev == None:\n",
      "            if item[1] != 0:\n",
      "                res += 2\n",
      "            continue\n",
      "        else:\n",
      "            if prev[1] in [4, 6] and item[1] in [3, 2]:\n",
      "                res += 10\n",
      "            res += check_2_chords(prev[0], item[0])\n",
      "        if nex == None:\n",
      "            if item[1] in [1, 2, 3, 4, 6]:\n",
      "                res += 2\n",
      "    return (res,)\n",
      "            "
     ],
     "language": "python",
     "metadata": {},
     "outputs": [],
     "prompt_number": 89
    },
    {
     "cell_type": "code",
     "collapsed": false,
     "input": [
      "# Mutant function\n",
      "def mutChangeNotes(individual, indpb):\n",
      "    pass"
     ],
     "language": "python",
     "metadata": {},
     "outputs": [],
     "prompt_number": 90
    },
    {
     "cell_type": "code",
     "collapsed": false,
     "input": [
      "def main():\n",
      "    pop = toolbox.population(n=300)\n",
      "    hof = tools.HallOfFame(1)\n",
      "    stats = tools.Statistics(lambda ind: ind.fitness.values)\n",
      "    stats.register('avg', numpy.mean)\n",
      "    stats.register('std', numpy.std)\n",
      "    stats.register('min', numpy.min)\n",
      "    stats.register('max', numpy.max)\n",
      "    \n",
      "    pop, log = algorithms.eaSimple(pop, toolbox, cxpb=0.5, mutpb=0.2, ngen=40, stats=stats, halloffame=hof, verbose=True)"
     ],
     "language": "python",
     "metadata": {},
     "outputs": [],
     "prompt_number": 91
    },
    {
     "cell_type": "code",
     "collapsed": false,
     "input": [
      "if __name__ == '__main__':\n",
      "    line = input('n[#b] notas ')\n",
      "    ton, notes = setTon(line)\n",
      "    print(ton, notes)\n",
      "    \n",
      "    # ========================= GA setup =========================\n",
      "    creator.create('FitnessMin', base.Fitness, weights=(-1.0,))\n",
      "    creator.create('Individual', list, fitness=creator.FitnessMin)\n",
      "\n",
      "    toolbox = base.Toolbox()\n",
      "    toolbox.register('creat_notes', newChordProg, ton, notes)\n",
      "    toolbox.register('individual', tools.initIterate, creator.Individual,\n",
      "                     toolbox.creat_notes)\n",
      "    toolbox.register('population', tools.initRepeat, list, toolbox.individual)\n",
      "\n",
      "    toolbox.register('evaluate', evalNumErr, ton)\n",
      "    toolbox.register('mate', tools.cxTwoPoint)\n",
      "    toolbox.register('mutate', mutChangeNotes, indpb=0.05)\n",
      "    toolbox.register('select', tools.selTournament, tournsize=3)\n",
      "    # =============================================================\n",
      "    \n",
      "    a = toolbox.individual()\n",
      "    print(a)\n",
      "    print(toolbox.evaluate(a))\n",
      "    a = toolbox.individual()\n",
      "    print(a)\n",
      "    print(toolbox.evaluate(a))\n",
      "    a = toolbox.individual()\n",
      "    print(a)\n",
      "    print(toolbox.evaluate(a))\n",
      "    a = toolbox.individual()\n",
      "    print(a)\n",
      "    print(toolbox.evaluate(a))"
     ],
     "language": "python",
     "metadata": {},
     "outputs": [
      {
       "name": "stdout",
       "output_type": "stream",
       "stream": "stdout",
       "text": [
        "n[#b] notas 2# 55 67 69 62 61\n"
       ]
      },
      {
       "output_type": "stream",
       "stream": "stdout",
       "text": [
        "2M [55, 67, 69, 62, 61]\n",
        "[[[55, 50, 74, 83], 3], [[67, 67, 71, 79], 3], [[69, 61, 61, 66], 2], [[62, 69, 66, 69], 0], [[61, 57, 76, 69], 4]]\n",
        "llego al nex\n",
        "(24,)\n",
        "[[[55, 67, 71, 74], 3], [[67, 73, 61, 76], 6], [[69, 57, 57, 73], 4], [[62, 67, 71, 79], 3], [[61, 57, 57, 69], 4]]\n",
        "llego al nex\n",
        "(29,)\n",
        "[[[55, 59, 59, 64], 1], [[67, 52, 64, 76], 1], [[69, 50, 69, 66], 0], [[62, 59, 55, 79], 3], [[61, 54, 73, 69], 2]]\n",
        "llego al nex\n",
        "(34,)\n",
        "[[[55, 71, 76, 71], 1], [[67, 55, 73, 76], 6], [[69, 64, 73, 81], 4], [[62, 62, 71, 79], 3], [[61, 55, 61, 76], 6]]\n",
        "llego al nex\n",
        "(29,)\n"
       ]
      }
     ],
     "prompt_number": 92
    },
    {
     "cell_type": "code",
     "collapsed": false,
     "input": [],
     "language": "python",
     "metadata": {},
     "outputs": [],
     "prompt_number": 92
    }
   ],
   "metadata": {}
  }
 ]
}